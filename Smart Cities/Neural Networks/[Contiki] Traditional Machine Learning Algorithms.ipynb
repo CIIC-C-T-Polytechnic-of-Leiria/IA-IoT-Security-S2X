{
 "cells": [
  {
   "cell_type": "markdown",
   "id": "3a17c584",
   "metadata": {},
   "source": [
    "### Traditional Machine Learning Algorithms & Classification Metrics - CIIC Research - José P. Areia"
   ]
  },
  {
   "cell_type": "markdown",
   "id": "c469c390",
   "metadata": {},
   "source": [
    "**WARNING**: Before running the Jupyter notebook, please ensure that you assign the constant **CLASSIFICATION** to the desired value.\n",
    "\n",
    "Please note that <mark>the value of **CLASSIFICATION** must be either 0 or 1.</mark> If you set it to 0, the model will assume that you are working with binary classification. On the other hand, if you set it to 1, the model will assume that you are working with multiclass classification.\n",
    "\n",
    "Setting the wrong value for **CLASSIFICATION** can result in errors or unexpected results. Therefore, it is essential that you assign the appropriate value before running the Jupyter Notebook."
   ]
  },
  {
   "cell_type": "code",
   "execution_count": null,
   "id": "97e36626",
   "metadata": {},
   "outputs": [],
   "source": [
    "# 0 - Binary Classification\n",
    "# 1 - Multiclass Classification\n",
    "\n",
    "CLASSIFICATION = 0"
   ]
  },
  {
   "cell_type": "code",
   "execution_count": null,
   "id": "5b5bb153",
   "metadata": {},
   "outputs": [],
   "source": [
    "import pickle as pkl\n",
    "import os\n",
    "\n",
    "FILENAME_TESTING = 'Testing_Multiclass.pkl' if CLASSIFICATION else 'Testing_Binary.pkl'\n",
    "FILENAME_TRAINING = 'Training_Multiclass.pkl' if CLASSIFICATION else 'Training_Binary.pkl'\n",
    "DIRECTORY = 'Saved_Datasets/Contiki'\n",
    "\n",
    "dataset_training = os.path.join(DIRECTORY, FILENAME_TRAINING)\n",
    "dataset_testing = os.path.join(DIRECTORY, FILENAME_TESTING)\n",
    "\n",
    "# Loading Train Fraction \n",
    "with open(dataset_training, 'rb') as f:\n",
    "    x_train, y_train = pkl.load(f)\n",
    "\n",
    "# Loading Test Fraction \n",
    "with open(dataset_testing, 'rb') as f:\n",
    "    x_test, y_test = pkl.load(f)\n",
    "\n",
    "print(f'[DONE] Loading Train Fraction')\n",
    "print(f'[DONE] Loading Test Fraction')"
   ]
  },
  {
   "cell_type": "code",
   "execution_count": null,
   "id": "5fdfddb6",
   "metadata": {},
   "outputs": [],
   "source": [
    "# Classification Metrics - Accuracy, Recall, Precision & F1Score\n",
    "def compute_metrics(y_test, pred):\n",
    "    print('Accuracy:', metrics.accuracy_score(y_test, pred))\n",
    "    print('Recall:', metrics.recall_score(y_test, pred, average = 'weighted'))\n",
    "    print('Precision:', metrics.precision_score(y_test, pred, average = 'weighted'))\n",
    "    print('F1Score:', metrics.f1_score(y_test, pred, average = 'weighted'))"
   ]
  },
  {
   "cell_type": "code",
   "execution_count": null,
   "id": "d508ddea",
   "metadata": {},
   "outputs": [],
   "source": [
    "# Algorithm: RANDOM FOREST\n",
    "from sklearn.ensemble import RandomForestClassifier\n",
    "from sklearn import metrics\n",
    "\n",
    "forest = RandomForestClassifier(n_estimators = 100, random_state = 100)\n",
    "forest.fit(x_train, y_train)\n",
    "forest_prediction = forest.predict(x_test)\n",
    "\n",
    "print(f'[METRICS] Random Forest Classifier')\n",
    "compute_metrics(y_test, forest_prediction)"
   ]
  },
  {
   "cell_type": "code",
   "execution_count": null,
   "id": "6d0ecd2f",
   "metadata": {},
   "outputs": [],
   "source": [
    "# Algorithm: DECISION TREE\n",
    "from sklearn.tree import DecisionTreeClassifier\n",
    "\n",
    "tree = DecisionTreeClassifier(random_state = 100)\n",
    "tree.fit(x_train, y_train)\n",
    "tree_prediction = tree.predict(x_test)\n",
    "\n",
    "print(f'[METRICS] Decision Tree Classifier')\n",
    "compute_metrics(y_test, tree_prediction)"
   ]
  },
  {
   "cell_type": "code",
   "execution_count": null,
   "id": "33da1045",
   "metadata": {},
   "outputs": [],
   "source": [
    "# Algorithm: LOGISTIC REGRESSION\n",
    "from sklearn.linear_model import LogisticRegression\n",
    "\n",
    "logistic = LogisticRegression(random_state = 100)\n",
    "logistic.fit(x_train, y_train)\n",
    "logistic_prediction = logistic.predict(x_test)\n",
    "\n",
    "print(f'[METRICS] Decision Tree Classifier')\n",
    "compute_metrics(y_test, logistic_prediction)"
   ]
  },
  {
   "cell_type": "code",
   "execution_count": null,
   "id": "310d003c",
   "metadata": {},
   "outputs": [],
   "source": [
    "# Algorithm: KNEIGHBORS\n",
    "from sklearn.neighbors import KNeighborsClassifier\n",
    "\n",
    "neighbors = KNeighborsClassifier(n_neighbors = 10, weights = 'uniform')\n",
    "neighbors.fit(x_train, y_train)\n",
    "neighbors_prediction = neighbors.predict(x_test)\n",
    "\n",
    "print(f'[METRICS] Kneighbors Classifier')\n",
    "compute_metrics(y_test, neighbors_prediction)"
   ]
  }
 ],
 "metadata": {
  "kernelspec": {
   "display_name": "Python 3 (ipykernel)",
   "language": "python",
   "name": "python3"
  },
  "language_info": {
   "codemirror_mode": {
    "name": "ipython",
    "version": 3
   },
   "file_extension": ".py",
   "mimetype": "text/x-python",
   "name": "python",
   "nbconvert_exporter": "python",
   "pygments_lexer": "ipython3",
   "version": "3.9.2"
  }
 },
 "nbformat": 4,
 "nbformat_minor": 5
}
