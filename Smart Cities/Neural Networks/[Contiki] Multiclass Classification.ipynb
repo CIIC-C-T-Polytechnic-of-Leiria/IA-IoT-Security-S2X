{
 "cells": [
  {
   "cell_type": "markdown",
   "id": "7221c4a0",
   "metadata": {},
   "source": [
    "### Contiki Dataset Multiclass Classification - CIIC Research - José P. Areia"
   ]
  },
  {
   "cell_type": "markdown",
   "id": "513e615e",
   "metadata": {},
   "source": [
    "**The table below represents all the fields of the dataset as well as their descriptions and the encoding process done in each one of the fields.**\n",
    "\n",
    "Type of pre-processing / data encoding done: <mark>Categorical Values (Dummies)</mark>, <mark>Z-Score Normalization</mark>, <mark>Empty Cells Filling</mark>, and <mark>Value Replacing.</mark>\n",
    "\n",
    "It's important to notice that the fields **attack_type** and **is_malicious** were later added to the dataset in order to distinguish normal traffic from the malicious one, and to identify what type of attack was done. The list below represents a numerical classification represented in the field **attack_type**.\n",
    "\n",
    "- \\[0\\] - Normal\n",
    "- \\[1\\] - Black Hole\n",
    "- \\[2\\] - Hello Flood\n",
    "- \\[3\\] - Version Number\n",
    "\n",
    "\n",
    "| Field | Description | Deleted | Categorical Values (Dummies) | Z-Score Normalization | Empty Cells Filling |\n",
    "|:---|:---|:---:|:---:|:---:|:---:|\n",
    "| ipv6.src | Source address | &#x2714; | - | - | - |\n",
    "| udp.dstport | Destination port | &#x2714; | - | - | - |\n",
    "| frame.protocols | Protocols in frame | &#x2714; | - | - | - |\n",
    "| coap.payload_length | Payload | - | &#x2714; | - | - |\n",
    "| udp.srcport | Source port | &#x2714; | - | - | - |\n",
    "| udp.length | UDP Frame length | - | - | &#x2714; | &#x2714; |\n",
    "| wpan.dst64 | Destination (EUI64 Destination) | &#x2714; | - | - | - |\n",
    "| icmpv6.rpl.dio.version | DIO Version | - | - | &#x2714; | &#x2714; |\n",
    "| wpan.dst_addr_mode | Destination addressing mode | &#x2714; | - | - | - |\n",
    "| icmpv6.rpl.dio.rank | DIO Rank | - | - | &#x2714; | &#x2714; |\n",
    "| **is_malicious**\\* | Distinguish normal from malicious traffic | - | - | - | - |\n",
    "| coap.type | Type | - | - | - | &#x2714; |\n",
    "| ipv6.dst | Destination address | &#x2714; | - | - | - |\n",
    "| ipv6.plen | Payload length | - | - | &#x2714; | &#x2714; |\n",
    "| frame.len | Frame length on the wire | &#x2714; | - | - | - |\n",
    "| **attack_type**\\* | Type of attack | - | - | - | - |\n",
    "| ipv6.nxt | Next header | - | &#x2714; | - | - |\n",
    "| wpan.src64 | Extended source | &#x2714; | - | - | - |\n",
    "| icmpv6.code | ICMPv6 Code - [IANA Table Code](https://www.iana.org/assignments/icmpv6-parameters/icmpv6-parameters.xhtml#icmpv6-parameters-3)  | &#x2714; | - | - | - |\n",
    "| 6lowpan.src | Source | &#x2714; | - | - | - |\n",
    "| coap.code | Coap code [RFC 7252](https://www.rfc-editor.org/rfc/rfc7252#page-86) | - | &#x2714; | - | - |\n",
    "| icmpv6.rpl.dio.dtsn | Destination advertisement trigger sequence number (DTSN) | - | - | &#x2714; | &#x2714; |\n",
    "| 6lowpan.dst | Destination | &#x2714; | - | - | - |\n",
    "| 6lowpan.next | Next header | &#x2714; | - | - | - |\n",
    "| icmpv6.rpl.dao.dodagid | DODAGID | &#x2714; | - | - | - |\n",
    "| mqtt.conflag.willflag | Will Flag | &#x2714; | - | - | - |\n",
    "| mqtt.conflags | Connect Flags | &#x2714; | - | - | - |\n",
    "| mqtt.len | Message Length | &#x2714; | - | - | - |\n",
    "| mqtt.msg | Message | &#x2714; | - | - | - |\n",
    "| mqtt.qos | Quality of Service Number | &#x2714; | - | - | - |\n",
    "| mqtt.topic | Message Topic | &#x2714; | - | - | - |\n",
    "| tcp.dstport | Destination Port | &#x2714; | - | - | - |\n",
    "| tcp.flags | Flags | &#x2714; | - | - | - |\n",
    "| tcp.len | Length | - | - | &#x2714; | &#x2714; |\n",
    "| tcp.nxtseq | Next Sequence Number | - | - | &#x2714; | &#x2714; |\n",
    "| tcp.srcport | Source Port | &#x2714; | - | - | - |\n",
    "| wpan.src_addr_mode | Source Addressing Mode | &#x2714; | - | - | - |\n",
    "| wpan.version | Frame Version | - | &#x2714; | - | - |"
   ]
  },
  {
   "cell_type": "code",
   "execution_count": 1,
   "id": "da418f98",
   "metadata": {},
   "outputs": [],
   "source": [
    "# Tensorflow logging: OFF\n",
    "import os\n",
    "os.environ['TF_CPP_MIN_LOG_LEVEL'] = '3'"
   ]
  },
  {
   "cell_type": "markdown",
   "id": "0287192d",
   "metadata": {},
   "source": [
    "**The next blocks of code are for defining the methods used for the pre-processing and data encoding.**\n",
    "\n",
    "The methods are the following: <mark>read_data</mark>, <mark>delete_fields</mark>, <mark>fill_empty_cells</mark>, <mark>zscore_fields_normalization</mark>, <mark>coap_payload_length</mark>, <mark>dummy_encode</mark>, and <mark>value_replacing</mark>. More details in the blocks of code below."
   ]
  },
  {
   "cell_type": "code",
   "execution_count": 2,
   "id": "57090d5e",
   "metadata": {},
   "outputs": [],
   "source": [
    "# Pre-processing & Data Encoding\n",
    "import pandas as pd\n",
    "\n",
    "# Import dataset\n",
    "def read_data(dataset):\n",
    "    df = pd.read_csv(dataset)\n",
    "    print(f'[DONE] Imported Dataset')\n",
    "    return df"
   ]
  },
  {
   "cell_type": "code",
   "execution_count": null,
   "id": "934d1b8e",
   "metadata": {},
   "outputs": [],
   "source": [
    "# Delete Unnecessary Fields\n",
    "def delete_fields(df, fields):\n",
    "    for i in fields:\n",
    "        df.drop(i, axis = 1, inplace = True)\n",
    "        \n",
    "    print(f'[DONE] Fields Deleted')"
   ]
  },
  {
   "cell_type": "code",
   "execution_count": null,
   "id": "8df13d76",
   "metadata": {},
   "outputs": [],
   "source": [
    "# Fill Empty Cells With N Value\n",
    "def fill_empty_cells(df, fields, n):\n",
    "    for i in fields:\n",
    "        df[i] = df[i].fillna(n)\n",
    "    \n",
    "    print(f'[DONE] Empty Cells Filling')"
   ]
  },
  {
   "cell_type": "code",
   "execution_count": null,
   "id": "f82f492b",
   "metadata": {},
   "outputs": [],
   "source": [
    "from scipy.stats import zscore\n",
    "\n",
    "# Z-Score Normalization\n",
    "def zscore_normalization(df, fields):\n",
    "    for i in fields:\n",
    "        df[i] = zscore(df[i])\n",
    "\n",
    "    print(f'[DONE] Z-Score Normalization')"
   ]
  },
  {
   "cell_type": "code",
   "execution_count": null,
   "id": "61cfe1e7",
   "metadata": {},
   "outputs": [],
   "source": [
    "# Replace old value for a new one \n",
    "def value_replacing(df, field, old_value, new_value):\n",
    "    df[field] = df[field].replace(old_value, new_value)\n",
    "\n",
    "    print(f'[DONE] Value Replacing')"
   ]
  },
  {
   "cell_type": "code",
   "execution_count": null,
   "id": "a0c7c0ec",
   "metadata": {},
   "outputs": [],
   "source": [
    "# Convert fields to dummy variables\n",
    "def dummy_encode(df, fields):\n",
    "    for i in fields:\n",
    "        df = pd.concat([df, pd.get_dummies(df[i], prefix = i)], axis = 1)\n",
    "        df.drop(i, axis = 1, inplace = True)\n",
    "    print(f'[DONE] Categorical Values (Dummies)')\n",
    "    return df"
   ]
  },
  {
   "cell_type": "code",
   "execution_count": null,
   "id": "a5d9a26e",
   "metadata": {},
   "outputs": [],
   "source": [
    "# Import Dataset & Read Data\n",
    "df = read_data('Datasets/Contiki/Final_Dataset.csv')"
   ]
  },
  {
   "cell_type": "markdown",
   "id": "ad49fb56",
   "metadata": {},
   "source": [
    "The above code will reproduce an warning saying the following **\"DtypeWarning: Columns (9,18,20,22,24) have mixed types\"**. Since the the collumns 9, 18, 20, 22, and 24 represent the fields <mark>icmpv6.rpl.dao.dodagid</mark>, <mark>mqtt.conflags</mark>, <mark>mqtt.msg</mark>, <mark>mqtt.topic</mark>, and <mark>tcp.flags</mark> respectively, and these collumns are going to be deleted later in this notebook, there is no problem whatsoever about the warning shown."
   ]
  },
  {
   "cell_type": "code",
   "execution_count": null,
   "id": "69a731bd",
   "metadata": {},
   "outputs": [],
   "source": [
    "# Fields -- Deleted Fields\n",
    "f_delete = [ \n",
    "    'ipv6.src', 'ipv6.dst', 'frame.protocols', 'udp.srcport', 'udp.dstport', 'icmpv6.code', '6lowpan.dst',\n",
    "    '6lowpan.src', 'wpan.src64', 'wpan.dst64', '6lowpan.next', 'tcp.srcport', 'tcp.dstport', 'mqtt.qos',\n",
    "    'mqtt.topic', 'mqtt.msg', 'mqtt.len', 'wpan.dst_addr_mode', 'wpan.src_addr_mode', 'frame.len',\n",
    "    'icmpv6.rpl.dao.dodagid', 'mqtt.conflag.willflag', 'mqtt.conflags', 'tcp.flags', 'wpan.version'\n",
    "]\n",
    "\n",
    "delete_fields(df, f_delete)"
   ]
  },
  {
   "cell_type": "code",
   "execution_count": null,
   "id": "447d5e80",
   "metadata": {},
   "outputs": [],
   "source": [
    "# Fields -- Empty Cells Filling\n",
    "fill_0 = [\n",
    "    'udp.length', 'icmpv6.rpl.dio.version', 'icmpv6.rpl.dio.rank', 'ipv6.plen', 'icmpv6.rpl.dio.dtsn',\n",
    "    'tcp.len', 'tcp.nxtseq'\n",
    "]\n",
    "\n",
    "fill_1 = [\n",
    "    'coap.type'\n",
    "]\n",
    "\n",
    "fill_empty_cells(df, fill_0, 0)  # Fill: 0\n",
    "fill_empty_cells(df, fill_1, -1) # Fill: -1"
   ]
  },
  {
   "cell_type": "code",
   "execution_count": null,
   "id": "5eb66cf1",
   "metadata": {},
   "outputs": [],
   "source": [
    "# Empty Cells Filling + Convert to Object\n",
    "dummy_fields = [\n",
    "    'coap.payload_length', 'ipv6.nxt', 'coap.code'\n",
    "]\n",
    "\n",
    "for i in dummy_fields:\n",
    "    df[i] = df[i].fillna(0)\n",
    "    df[i] = df[i].astype(str)\n",
    "    \n",
    "print(f'[DONE] Empty Cells Filling + Convert to Object -- Categorical Values')  "
   ]
  },
  {
   "cell_type": "markdown",
   "id": "196f2f76",
   "metadata": {},
   "source": [
    "#### SMOTE-NC Application"
   ]
  },
  {
   "cell_type": "code",
   "execution_count": null,
   "id": "ac9becd7",
   "metadata": {},
   "outputs": [],
   "source": [
    "# Split dataset -- Train + Test\n",
    "df_train = df.sample(frac = 0.75, random_state = 10)\n",
    "df_test = df.drop(df_train.index)\n",
    "\n",
    "print(f'[DONE] Split dataset -- Train + Test') "
   ]
  },
  {
   "cell_type": "code",
   "execution_count": null,
   "id": "c79c59d2",
   "metadata": {},
   "outputs": [],
   "source": [
    "def apply_smotenc_bigdata(df: pd.DataFrame, label: str, categorical_indices: list = [], random_state: int = 0) -> pd.DataFrame:\n",
    "    import numpy as np  \n",
    "    from imblearn.over_sampling import SMOTENC\n",
    "    \n",
    "    # Make a copy of the input dataframe and separate the target variable column\n",
    "    X_resampled = df.copy()\n",
    "    X_resampled = X_resampled.drop(columns=[label])\n",
    "    y_resampled = df[label].copy()\n",
    "    \n",
    "    # Apply the SMOTENC algorithm to oversample the dataset\n",
    "    print(f\"Starting SMOTENC -- Size of the dataframe: {df.size} \")\n",
    "    \n",
    "    # Apply the SMOTENC algorithm to oversample the dataset\n",
    "    smote_nc = SMOTENC(\n",
    "        categorical_features = categorical_indices, \n",
    "        random_state = random_state,\n",
    "        sampling_strategy = \"minority\"\n",
    "    )\n",
    "\n",
    "    for labels in np.unique(y_resampled):\n",
    "        X_resampled, y_resampled = smote_nc.fit_resample(X_resampled, y_resampled)\n",
    "    \n",
    "    df_smote = pd.DataFrame(X_resampled, columns = X_resampled.columns)\n",
    "    df_smote[label] = y_resampled\n",
    "    \n",
    "    # Print the size of the original and oversampled datasets, and return the oversampled dataset\n",
    "    print(f\"Finished SMOTENC -- Size of the dataframe: {df_smote.size}\")\n",
    "    \n",
    "    return df_smote"
   ]
  },
  {
   "cell_type": "code",
   "execution_count": null,
   "id": "0a6b4321",
   "metadata": {
    "scrolled": false
   },
   "outputs": [],
   "source": [
    "features = [ col for col in df_train.columns if col not in [\"attack_type\"]]\n",
    "featuresIndex = []\n",
    "\n",
    "for i in dummy_fields:\n",
    "    featuresIndex.append(features.index(i))\n",
    "\n",
    "df_train = apply_smotenc_bigdata(\n",
    "    df = df_train, \n",
    "    label = \"attack_type\",\n",
    "    categorical_indices = featuresIndex,\n",
    "    random_state = 10\n",
    ")\n",
    "\n",
    "print(f'[DONE] SMOTE-NC Application')"
   ]
  },
  {
   "cell_type": "code",
   "execution_count": null,
   "id": "b09de918",
   "metadata": {},
   "outputs": [],
   "source": [
    "# Concat the train STOME dataframe with the test\n",
    "df = pd.concat([df_train, df_test], keys = [0, 1])"
   ]
  },
  {
   "cell_type": "markdown",
   "id": "2e4be64a",
   "metadata": {},
   "source": [
    "#### Resuming the Data Encoding"
   ]
  },
  {
   "cell_type": "code",
   "execution_count": null,
   "id": "64de911c",
   "metadata": {},
   "outputs": [],
   "source": [
    "# Fields -- Z-Score Normalization\n",
    "zscore_fields = [\n",
    "    'udp.length', 'icmpv6.rpl.dio.version', 'icmpv6.rpl.dio.rank', 'ipv6.plen', 'icmpv6.rpl.dio.dtsn',\n",
    "    'tcp.nxtseq', 'tcp.len'\n",
    "]\n",
    "\n",
    "zscore_normalization(df, zscore_fields)"
   ]
  },
  {
   "cell_type": "code",
   "execution_count": null,
   "id": "1fb7bd1e",
   "metadata": {},
   "outputs": [],
   "source": [
    "# Fields -- Standard Normalization (Value Replacing)\n",
    "value_replacing(df, 'coap.type', 2, 1)"
   ]
  },
  {
   "cell_type": "code",
   "execution_count": null,
   "id": "208338af",
   "metadata": {},
   "outputs": [],
   "source": [
    "# Fields -- Categorical Values\n",
    "dummy_fields = [\n",
    "    'coap.payload_length', 'ipv6.nxt', 'coap.code'\n",
    "]\n",
    "\n",
    "df = dummy_encode(df, dummy_fields)"
   ]
  },
  {
   "cell_type": "code",
   "execution_count": null,
   "id": "89186438",
   "metadata": {},
   "outputs": [],
   "source": [
    "# Save the dataset\n",
    "df.to_csv(\"Datasets/Contiki/SMOTE_Dataset.csv\")"
   ]
  },
  {
   "cell_type": "markdown",
   "id": "238489f7",
   "metadata": {},
   "source": [
    "> &#x26a0; **If the SMOTE-NC was already done, you can just go from this point further.**"
   ]
  },
  {
   "cell_type": "code",
   "execution_count": 3,
   "id": "f4661598",
   "metadata": {},
   "outputs": [
    {
     "name": "stdout",
     "output_type": "stream",
     "text": [
      "[DONE] Imported Dataset\n"
     ]
    }
   ],
   "source": [
    "# Import Dataset & Read Data\n",
    "df = read_data('Datasets/Contiki/SMOTE_Dataset.csv')"
   ]
  },
  {
   "cell_type": "code",
   "execution_count": 4,
   "id": "0ecbe4a5",
   "metadata": {},
   "outputs": [],
   "source": [
    "# Drop the first two collumns of the dataset\n",
    "df = df.drop(df.columns[[0, 1]], axis = 1)"
   ]
  },
  {
   "cell_type": "code",
   "execution_count": 5,
   "id": "7ac8511a",
   "metadata": {},
   "outputs": [],
   "source": [
    "df.drop('tcp.len', axis = 1, inplace = True)"
   ]
  },
  {
   "cell_type": "code",
   "execution_count": 6,
   "id": "74e25974",
   "metadata": {},
   "outputs": [
    {
     "name": "stdout",
     "output_type": "stream",
     "text": [
      "[DONE] Numpy Classification\n"
     ]
    }
   ],
   "source": [
    "import numpy as np\n",
    "\n",
    "# Convert to Numpy Classification\n",
    "\n",
    "# Classification Type: 0 - Binary / 1 - Multiclass\n",
    "classification_type = 1\n",
    "\n",
    "# For a multiclass classification, drop both 'is_malicious' and 'attack_type' collumn\n",
    "\n",
    "# For a binary classification, use 'is_malicious' as target collumn\n",
    "# For a multiclass classification, use 'attack_type' as target collumn\n",
    "\n",
    "if (classification_type):\n",
    "    x_columns = df.columns.drop(['attack_type', 'is_malicious'])\n",
    "    dummies = pd.get_dummies(df['attack_type'])\n",
    "else:\n",
    "    x_columns = df.columns.drop(['attack_type', 'is_malicious'])\n",
    "    dummies = pd.get_dummies(df['is_malicious'])\n",
    "    \n",
    "x = df[x_columns].values\n",
    "attack = dummies.columns\n",
    "y = dummies.values\n",
    "\n",
    "print(f'[DONE] Numpy Classification')"
   ]
  },
  {
   "cell_type": "code",
   "execution_count": 7,
   "id": "7c202aac",
   "metadata": {},
   "outputs": [
    {
     "name": "stdout",
     "output_type": "stream",
     "text": [
      "[DONE] Training validation splitting\n"
     ]
    }
   ],
   "source": [
    "from sklearn.model_selection import train_test_split\n",
    "\n",
    "# Training validation splitting \n",
    "x_train, x_test, y_train, y_test = train_test_split(\n",
    "    x,\n",
    "    y,\n",
    "    test_size = 0.25,\n",
    "    random_state = 10\n",
    ")\n",
    "\n",
    "print(f'[DONE] Training validation splitting')"
   ]
  },
  {
   "cell_type": "code",
   "execution_count": 8,
   "id": "ebfeb75e",
   "metadata": {},
   "outputs": [
    {
     "name": "stdout",
     "output_type": "stream",
     "text": [
      "[DONE] Training dataset saved\n",
      "[DONE] Testing dataset saved\n"
     ]
    }
   ],
   "source": [
    "import pickle as pkl\n",
    "\n",
    "# Save training dataset\n",
    "with open(\"Saved_Datasets/Contiki/Training_Multiclass.pkl\", \"wb\") as f:\n",
    "    pkl.dump([x_train, y_train], f)\n",
    "    \n",
    "# Save test dataset\n",
    "with open(\"Saved_Datasets/Contiki/Testing_Multiclass.pkl\", \"wb\") as f:\n",
    "    pkl.dump([x_test, y_test], f)\n",
    "    \n",
    "print(f'[DONE] Training dataset saved')\n",
    "print(f'[DONE] Testing dataset saved')"
   ]
  },
  {
   "cell_type": "markdown",
   "id": "9133fe9f",
   "metadata": {},
   "source": [
    "#### If the dataset splited is already saved, you can go from this point furhter without running the blocks of code above.\n",
    "\n",
    "The datasets are the following (<mark>both are saved under the directory Saved_Datasets</mark>):\n",
    "- Training_Multiclass.pkl\n",
    "- Testing_Multiclass.pkl"
   ]
  },
  {
   "cell_type": "code",
   "execution_count": null,
   "id": "15343b6b",
   "metadata": {},
   "outputs": [],
   "source": [
    "import pickle as pkl\n",
    "\n",
    "# Load training dataset \n",
    "with open(\"Saved_Datasets/Contiki/Training_Multiclass.pkl\", \"rb\") as f:\n",
    "    x_train, y_train = pkl.load(f)\n",
    "\n",
    "# Load testing dataset \n",
    "with open(\"Saved_Datasets/Contiki/Testing_Multiclass.pkl\", \"rb\") as f:\n",
    "    x_test, y_test = pkl.load(f)\n",
    "\n",
    "print(f'[DONE] Training dataset loaded')\n",
    "print(f'[DONE] Testing dataset loaded')"
   ]
  },
  {
   "cell_type": "code",
   "execution_count": 9,
   "id": "bc4fed7d",
   "metadata": {},
   "outputs": [],
   "source": [
    "import tensorflow.keras\n",
    "from tensorflow.keras import backend as K\n",
    "\n",
    "# Metrics for real-time usage in the model below\n",
    "def recall_m(y_true, y_pred):\n",
    "    true_positives = K.sum(K.round(K.clip(y_true * y_pred, 0, 1)))\n",
    "    possible_positives = K.sum(K.round(K.clip(y_true, 0, 1)))\n",
    "    recall = true_positives / (possible_positives + K.epsilon())\n",
    "    return recall\n",
    "\n",
    "def precision_m(y_true, y_pred):\n",
    "    true_positives = K.sum(K.round(K.clip(y_true * y_pred, 0, 1)))\n",
    "    predicted_positives = K.sum(K.round(K.clip(y_pred, 0, 1)))\n",
    "    precision = true_positives / (predicted_positives + K.epsilon())\n",
    "    return precision\n",
    "\n",
    "def f1_m(y_true, y_pred):\n",
    "    precision = precision_m(y_true, y_pred)\n",
    "    recall = recall_m(y_true, y_pred)\n",
    "    return 2 * ((precision * recall) / (precision + recall + K.epsilon()))"
   ]
  },
  {
   "cell_type": "code",
   "execution_count": 10,
   "id": "f6d373ee",
   "metadata": {
    "scrolled": false
   },
   "outputs": [
    {
     "name": "stdout",
     "output_type": "stream",
     "text": [
      "Epoch 1/200\n",
      "66745/66745 - 86s - loss: 0.5407 - f1_m: 0.8048 - val_loss: 0.4699 - val_f1_m: 0.8346 - lr: 0.0010 - 86s/epoch - 1ms/step\n",
      "Epoch 2/200\n",
      "66745/66745 - 83s - loss: 0.5210 - f1_m: 0.8145 - val_loss: 0.4714 - val_f1_m: 0.8335 - lr: 0.0010 - 83s/epoch - 1ms/step\n",
      "Epoch 3/200\n",
      "66745/66745 - 83s - loss: 0.5223 - f1_m: 0.8131 - val_loss: 0.4708 - val_f1_m: 0.8389 - lr: 0.0010 - 83s/epoch - 1ms/step\n",
      "Epoch 4/200\n",
      "66745/66745 - 82s - loss: 0.5237 - f1_m: 0.8128 - val_loss: 0.4721 - val_f1_m: 0.8385 - lr: 0.0010 - 82s/epoch - 1ms/step\n",
      "Epoch 5/200\n",
      "66745/66745 - 82s - loss: 0.5271 - f1_m: 0.8128 - val_loss: 0.4724 - val_f1_m: 0.8388 - lr: 0.0010 - 82s/epoch - 1ms/step\n",
      "Epoch 6/200\n",
      "66745/66745 - 82s - loss: 0.5344 - f1_m: 0.8107 - val_loss: 0.4779 - val_f1_m: 0.8361 - lr: 0.0010 - 82s/epoch - 1ms/step\n",
      "Epoch 7/200\n",
      "66745/66745 - 82s - loss: 0.5348 - f1_m: 0.8119 - val_loss: 0.4738 - val_f1_m: 0.8387 - lr: 0.0010 - 82s/epoch - 1ms/step\n",
      "Epoch 8/200\n",
      "66745/66745 - 82s - loss: 0.5376 - f1_m: 0.8121 - val_loss: 0.4739 - val_f1_m: 0.8385 - lr: 0.0010 - 82s/epoch - 1ms/step\n",
      "Epoch 9/200\n",
      "66745/66745 - 83s - loss: 0.5360 - f1_m: 0.8138 - val_loss: 0.4733 - val_f1_m: 0.8393 - lr: 0.0010 - 83s/epoch - 1ms/step\n",
      "Epoch 10/200\n",
      "66745/66745 - 82s - loss: 0.5372 - f1_m: 0.8131 - val_loss: 0.4758 - val_f1_m: 0.8388 - lr: 0.0010 - 82s/epoch - 1ms/step\n",
      "Epoch 11/200\n",
      "66745/66745 - 82s - loss: 0.5406 - f1_m: 0.8115 - val_loss: 0.4686 - val_f1_m: 0.8406 - lr: 0.0010 - 82s/epoch - 1ms/step\n",
      "Epoch 12/200\n",
      "66745/66745 - 82s - loss: 0.5407 - f1_m: 0.8119 - val_loss: 0.4815 - val_f1_m: 0.8381 - lr: 0.0010 - 82s/epoch - 1ms/step\n",
      "Epoch 13/200\n",
      "66745/66745 - 82s - loss: 0.5465 - f1_m: 0.8106 - val_loss: 0.4811 - val_f1_m: 0.8379 - lr: 0.0010 - 82s/epoch - 1ms/step\n",
      "Epoch 14/200\n",
      "66745/66745 - 82s - loss: 0.5495 - f1_m: 0.8097 - val_loss: 0.4806 - val_f1_m: 0.8379 - lr: 0.0010 - 82s/epoch - 1ms/step\n",
      "Epoch 15/200\n",
      "66745/66745 - 82s - loss: 0.5520 - f1_m: 0.8072 - val_loss: 0.4821 - val_f1_m: 0.8379 - lr: 0.0010 - 82s/epoch - 1ms/step\n",
      "Epoch 16/200\n",
      "66745/66745 - 82s - loss: 0.5518 - f1_m: 0.8074 - val_loss: 0.4849 - val_f1_m: 0.8383 - lr: 0.0010 - 82s/epoch - 1ms/step\n",
      "Epoch 17/200\n",
      "66745/66745 - 83s - loss: 0.5545 - f1_m: 0.8065 - val_loss: 0.4866 - val_f1_m: 0.8352 - lr: 0.0010 - 83s/epoch - 1ms/step\n",
      "Epoch 18/200\n",
      "66745/66745 - 82s - loss: 0.5541 - f1_m: 0.8069 - val_loss: 0.4885 - val_f1_m: 0.8387 - lr: 0.0010 - 82s/epoch - 1ms/step\n",
      "Epoch 19/200\n",
      "66745/66745 - 82s - loss: 0.5539 - f1_m: 0.8070 - val_loss: 0.4835 - val_f1_m: 0.8392 - lr: 0.0010 - 82s/epoch - 1ms/step\n",
      "Epoch 20/200\n",
      "66745/66745 - 83s - loss: 0.5571 - f1_m: 0.8056 - val_loss: 0.4821 - val_f1_m: 0.8373 - lr: 0.0010 - 83s/epoch - 1ms/step\n",
      "Epoch 21/200\n",
      "\n",
      "Epoch 21: ReduceLROnPlateau reducing learning rate to 0.0005000000237487257.\n",
      "66745/66745 - 82s - loss: 0.5553 - f1_m: 0.8054 - val_loss: 0.4831 - val_f1_m: 0.8388 - lr: 0.0010 - 82s/epoch - 1ms/step\n",
      "Epoch 22/200\n",
      "66745/66745 - 82s - loss: 0.5507 - f1_m: 0.8079 - val_loss: 0.4812 - val_f1_m: 0.8389 - lr: 5.0000e-04 - 82s/epoch - 1ms/step\n",
      "Epoch 23/200\n",
      "66745/66745 - 80s - loss: 0.5501 - f1_m: 0.8079 - val_loss: 0.4827 - val_f1_m: 0.8394 - lr: 5.0000e-04 - 80s/epoch - 1ms/step\n",
      "Epoch 24/200\n",
      "66745/66745 - 79s - loss: 0.5511 - f1_m: 0.8083 - val_loss: 0.4811 - val_f1_m: 0.8392 - lr: 5.0000e-04 - 79s/epoch - 1ms/step\n",
      "Epoch 25/200\n",
      "66745/66745 - 79s - loss: 0.5505 - f1_m: 0.8082 - val_loss: 0.4810 - val_f1_m: 0.8391 - lr: 5.0000e-04 - 79s/epoch - 1ms/step\n",
      "Epoch 26/200\n",
      "66745/66745 - 79s - loss: 0.5496 - f1_m: 0.8085 - val_loss: 0.4822 - val_f1_m: 0.8395 - lr: 5.0000e-04 - 79s/epoch - 1ms/step\n",
      "Epoch 27/200\n",
      "66745/66745 - 79s - loss: 0.5507 - f1_m: 0.8083 - val_loss: 0.4818 - val_f1_m: 0.8393 - lr: 5.0000e-04 - 79s/epoch - 1ms/step\n",
      "Epoch 28/200\n",
      "66745/66745 - 83s - loss: 0.5503 - f1_m: 0.8087 - val_loss: 0.4791 - val_f1_m: 0.8403 - lr: 5.0000e-04 - 83s/epoch - 1ms/step\n",
      "Epoch 29/200\n",
      "66745/66745 - 79s - loss: 0.5502 - f1_m: 0.8083 - val_loss: 0.4792 - val_f1_m: 0.8392 - lr: 5.0000e-04 - 79s/epoch - 1ms/step\n",
      "Epoch 30/200\n",
      "66745/66745 - 79s - loss: 0.5510 - f1_m: 0.8088 - val_loss: 0.4842 - val_f1_m: 0.8389 - lr: 5.0000e-04 - 79s/epoch - 1ms/step\n",
      "Epoch 31/200\n",
      "\n",
      "Epoch 31: ReduceLROnPlateau reducing learning rate to 0.0002500000118743628.\n",
      "66745/66745 - 79s - loss: 0.5505 - f1_m: 0.8083 - val_loss: 0.4788 - val_f1_m: 0.8396 - lr: 5.0000e-04 - 79s/epoch - 1ms/step\n",
      "Epoch 32/200\n",
      "66745/66745 - 79s - loss: 0.5492 - f1_m: 0.8094 - val_loss: 0.4782 - val_f1_m: 0.8399 - lr: 2.5000e-04 - 79s/epoch - 1ms/step\n",
      "Epoch 33/200\n",
      "66745/66745 - 80s - loss: 0.5472 - f1_m: 0.8096 - val_loss: 0.4784 - val_f1_m: 0.8401 - lr: 2.5000e-04 - 80s/epoch - 1ms/step\n",
      "Epoch 34/200\n",
      "66745/66745 - 79s - loss: 0.5486 - f1_m: 0.8099 - val_loss: 0.4799 - val_f1_m: 0.8403 - lr: 2.5000e-04 - 79s/epoch - 1ms/step\n",
      "Epoch 35/200\n",
      "66745/66745 - 79s - loss: 0.5480 - f1_m: 0.8099 - val_loss: 0.4813 - val_f1_m: 0.8402 - lr: 2.5000e-04 - 79s/epoch - 1ms/step\n",
      "Epoch 36/200\n",
      "66745/66745 - 79s - loss: 0.5484 - f1_m: 0.8099 - val_loss: 0.4779 - val_f1_m: 0.8404 - lr: 2.5000e-04 - 79s/epoch - 1ms/step\n",
      "Epoch 37/200\n",
      "66745/66745 - 79s - loss: 0.5502 - f1_m: 0.8102 - val_loss: 0.4781 - val_f1_m: 0.8408 - lr: 2.5000e-04 - 79s/epoch - 1ms/step\n",
      "Epoch 38/200\n",
      "66745/66745 - 80s - loss: 0.5476 - f1_m: 0.8103 - val_loss: 0.4790 - val_f1_m: 0.8405 - lr: 2.5000e-04 - 80s/epoch - 1ms/step\n",
      "Epoch 39/200\n",
      "66745/66745 - 80s - loss: 0.5478 - f1_m: 0.8104 - val_loss: 0.4789 - val_f1_m: 0.8402 - lr: 2.5000e-04 - 80s/epoch - 1ms/step\n",
      "Epoch 40/200\n",
      "66745/66745 - 79s - loss: 0.5497 - f1_m: 0.8107 - val_loss: 0.4769 - val_f1_m: 0.8403 - lr: 2.5000e-04 - 79s/epoch - 1ms/step\n",
      "Epoch 41/200\n",
      "\n",
      "Epoch 41: ReduceLROnPlateau reducing learning rate to 0.0001250000059371814.\n",
      "66745/66745 - 79s - loss: 0.5470 - f1_m: 0.8104 - val_loss: 0.4780 - val_f1_m: 0.8409 - lr: 2.5000e-04 - 79s/epoch - 1ms/step\n",
      "Epoch 42/200\n",
      "66745/66745 - 80s - loss: 0.5468 - f1_m: 0.8115 - val_loss: 0.4777 - val_f1_m: 0.8410 - lr: 1.2500e-04 - 80s/epoch - 1ms/step\n",
      "Epoch 43/200\n",
      "66745/66745 - 80s - loss: 0.5452 - f1_m: 0.8113 - val_loss: 0.4780 - val_f1_m: 0.8410 - lr: 1.2500e-04 - 80s/epoch - 1ms/step\n",
      "Epoch 44/200\n",
      "66745/66745 - 79s - loss: 0.5461 - f1_m: 0.8115 - val_loss: 0.4769 - val_f1_m: 0.8407 - lr: 1.2500e-04 - 79s/epoch - 1ms/step\n",
      "Epoch 45/200\n",
      "66745/66745 - 79s - loss: 0.5446 - f1_m: 0.8115 - val_loss: 0.4767 - val_f1_m: 0.8408 - lr: 1.2500e-04 - 79s/epoch - 1ms/step\n",
      "Epoch 46/200\n",
      "66745/66745 - 79s - loss: 0.5482 - f1_m: 0.8115 - val_loss: 0.4771 - val_f1_m: 0.8408 - lr: 1.2500e-04 - 79s/epoch - 1ms/step\n",
      "Epoch 47/200\n",
      "66745/66745 - 79s - loss: 0.5474 - f1_m: 0.8115 - val_loss: 0.4742 - val_f1_m: 0.8408 - lr: 1.2500e-04 - 79s/epoch - 1ms/step\n",
      "Epoch 48/200\n",
      "66745/66745 - 80s - loss: 0.5471 - f1_m: 0.8115 - val_loss: 0.4762 - val_f1_m: 0.8409 - lr: 1.2500e-04 - 80s/epoch - 1ms/step\n",
      "Epoch 49/200\n",
      "66745/66745 - 79s - loss: 0.5450 - f1_m: 0.8115 - val_loss: 0.4750 - val_f1_m: 0.8404 - lr: 1.2500e-04 - 79s/epoch - 1ms/step\n",
      "Epoch 50/200\n",
      "66745/66745 - 79s - loss: 0.5457 - f1_m: 0.8114 - val_loss: 0.4756 - val_f1_m: 0.8412 - lr: 1.2500e-04 - 79s/epoch - 1ms/step\n",
      "Epoch 51/200\n",
      "\n",
      "Epoch 51: ReduceLROnPlateau reducing learning rate to 6.25000029685907e-05.\n",
      "66745/66745 - 79s - loss: 0.5448 - f1_m: 0.8116 - val_loss: 0.4762 - val_f1_m: 0.8407 - lr: 1.2500e-04 - 79s/epoch - 1ms/step\n",
      "Epoch 52/200\n",
      "66745/66745 - 79s - loss: 0.5462 - f1_m: 0.8122 - val_loss: 0.4762 - val_f1_m: 0.8413 - lr: 6.2500e-05 - 79s/epoch - 1ms/step\n",
      "Epoch 53/200\n",
      "66745/66745 - 79s - loss: 0.5452 - f1_m: 0.8120 - val_loss: 0.4757 - val_f1_m: 0.8409 - lr: 6.2500e-05 - 79s/epoch - 1ms/step\n",
      "Epoch 54/200\n",
      "66745/66745 - 80s - loss: 0.5442 - f1_m: 0.8118 - val_loss: 0.4764 - val_f1_m: 0.8410 - lr: 6.2500e-05 - 80s/epoch - 1ms/step\n",
      "Epoch 55/200\n",
      "66745/66745 - 79s - loss: 0.5440 - f1_m: 0.8120 - val_loss: 0.4755 - val_f1_m: 0.8411 - lr: 6.2500e-05 - 79s/epoch - 1ms/step\n",
      "Epoch 56/200\n",
      "66745/66745 - 79s - loss: 0.5431 - f1_m: 0.8124 - val_loss: 0.4752 - val_f1_m: 0.8411 - lr: 6.2500e-05 - 79s/epoch - 1ms/step\n",
      "Epoch 57/200\n",
      "66745/66745 - 79s - loss: 0.5454 - f1_m: 0.8122 - val_loss: 0.4755 - val_f1_m: 0.8411 - lr: 6.2500e-05 - 79s/epoch - 1ms/step\n",
      "Epoch 58/200\n",
      "66745/66745 - 79s - loss: 0.5455 - f1_m: 0.8121 - val_loss: 0.4759 - val_f1_m: 0.8408 - lr: 6.2500e-05 - 79s/epoch - 1ms/step\n"
     ]
    },
    {
     "name": "stdout",
     "output_type": "stream",
     "text": [
      "Epoch 59/200\n",
      "66745/66745 - 79s - loss: 0.5468 - f1_m: 0.8124 - val_loss: 0.4745 - val_f1_m: 0.8410 - lr: 6.2500e-05 - 79s/epoch - 1ms/step\n",
      "Epoch 60/200\n",
      "66745/66745 - 80s - loss: 0.5446 - f1_m: 0.8122 - val_loss: 0.4754 - val_f1_m: 0.8411 - lr: 6.2500e-05 - 80s/epoch - 1ms/step\n",
      "Epoch 61/200\n",
      "\n",
      "Epoch 61: ReduceLROnPlateau reducing learning rate to 3.125000148429535e-05.\n",
      "66745/66745 - 79s - loss: 0.5460 - f1_m: 0.8125 - val_loss: 0.4750 - val_f1_m: 0.8408 - lr: 6.2500e-05 - 79s/epoch - 1ms/step\n",
      "Epoch 62/200\n",
      "66745/66745 - 79s - loss: 0.5434 - f1_m: 0.8128 - val_loss: 0.4754 - val_f1_m: 0.8410 - lr: 3.1250e-05 - 79s/epoch - 1ms/step\n",
      "Epoch 63/200\n",
      "66745/66745 - 79s - loss: 0.5441 - f1_m: 0.8131 - val_loss: 0.4742 - val_f1_m: 0.8410 - lr: 3.1250e-05 - 79s/epoch - 1ms/step\n",
      "Epoch 64/200\n",
      "66745/66745 - 79s - loss: 0.5448 - f1_m: 0.8131 - val_loss: 0.4754 - val_f1_m: 0.8412 - lr: 3.1250e-05 - 79s/epoch - 1ms/step\n",
      "Epoch 65/200\n",
      "66745/66745 - 80s - loss: 0.5425 - f1_m: 0.8130 - val_loss: 0.4751 - val_f1_m: 0.8412 - lr: 3.1250e-05 - 80s/epoch - 1ms/step\n",
      "Epoch 66/200\n",
      "66745/66745 - 79s - loss: 0.5490 - f1_m: 0.8129 - val_loss: 0.4752 - val_f1_m: 0.8412 - lr: 3.1250e-05 - 79s/epoch - 1ms/step\n",
      "Epoch 67/200\n",
      "66745/66745 - 79s - loss: 0.5429 - f1_m: 0.8132 - val_loss: 0.4743 - val_f1_m: 0.8411 - lr: 3.1250e-05 - 79s/epoch - 1ms/step\n",
      "Epoch 68/200\n",
      "66745/66745 - 80s - loss: 0.5466 - f1_m: 0.8131 - val_loss: 0.4743 - val_f1_m: 0.8411 - lr: 3.1250e-05 - 80s/epoch - 1ms/step\n",
      "Epoch 69/200\n",
      "66745/66745 - 80s - loss: 0.5439 - f1_m: 0.8130 - val_loss: 0.4752 - val_f1_m: 0.8413 - lr: 3.1250e-05 - 80s/epoch - 1ms/step\n",
      "Epoch 70/200\n",
      "66745/66745 - 79s - loss: 0.5452 - f1_m: 0.8130 - val_loss: 0.4753 - val_f1_m: 0.8412 - lr: 3.1250e-05 - 79s/epoch - 1ms/step\n",
      "Epoch 71/200\n",
      "\n",
      "Epoch 71: ReduceLROnPlateau reducing learning rate to 1.5625000742147677e-05.\n",
      "66745/66745 - 79s - loss: 0.5451 - f1_m: 0.8132 - val_loss: 0.4753 - val_f1_m: 0.8411 - lr: 3.1250e-05 - 79s/epoch - 1ms/step\n",
      "Epoch 72/200\n",
      "66745/66745 - 80s - loss: 0.5412 - f1_m: 0.8134 - val_loss: 0.4747 - val_f1_m: 0.8412 - lr: 1.5625e-05 - 80s/epoch - 1ms/step\n",
      "Epoch 73/200\n",
      "66745/66745 - 79s - loss: 0.5440 - f1_m: 0.8134 - val_loss: 0.4744 - val_f1_m: 0.8413 - lr: 1.5625e-05 - 79s/epoch - 1ms/step\n",
      "Epoch 74/200\n",
      "66745/66745 - 80s - loss: 0.5419 - f1_m: 0.8137 - val_loss: 0.4741 - val_f1_m: 0.8413 - lr: 1.5625e-05 - 80s/epoch - 1ms/step\n",
      "Epoch 75/200\n",
      "66745/66745 - 80s - loss: 0.5459 - f1_m: 0.8137 - val_loss: 0.4746 - val_f1_m: 0.8412 - lr: 1.5625e-05 - 80s/epoch - 1ms/step\n",
      "Epoch 76/200\n",
      "66745/66745 - 79s - loss: 0.5570 - f1_m: 0.8133 - val_loss: 0.4742 - val_f1_m: 0.8412 - lr: 1.5625e-05 - 79s/epoch - 1ms/step\n",
      "Epoch 77/200\n",
      "66745/66745 - 79s - loss: 0.5407 - f1_m: 0.8134 - val_loss: 0.4740 - val_f1_m: 0.8413 - lr: 1.5625e-05 - 79s/epoch - 1ms/step\n",
      "Epoch 78/200\n",
      "66745/66745 - 79s - loss: 0.5419 - f1_m: 0.8135 - val_loss: 0.4747 - val_f1_m: 0.8413 - lr: 1.5625e-05 - 79s/epoch - 1ms/step\n",
      "Epoch 79/200\n",
      "66745/66745 - 79s - loss: 0.5438 - f1_m: 0.8136 - val_loss: 0.4748 - val_f1_m: 0.8412 - lr: 1.5625e-05 - 79s/epoch - 1ms/step\n",
      "Epoch 80/200\n",
      "66745/66745 - 79s - loss: 0.5498 - f1_m: 0.8135 - val_loss: 0.4742 - val_f1_m: 0.8413 - lr: 1.5625e-05 - 79s/epoch - 1ms/step\n",
      "Epoch 81/200\n",
      "\n",
      "Epoch 81: ReduceLROnPlateau reducing learning rate to 1e-05.\n",
      "66745/66745 - 80s - loss: 0.5497 - f1_m: 0.8133 - val_loss: 0.4743 - val_f1_m: 0.8413 - lr: 1.5625e-05 - 80s/epoch - 1ms/step\n",
      "Epoch 82/200\n",
      "66745/66745 - 79s - loss: 0.5500 - f1_m: 0.8134 - val_loss: 0.4739 - val_f1_m: 0.8413 - lr: 1.0000e-05 - 79s/epoch - 1ms/step\n",
      "Epoch 83/200\n",
      "66745/66745 - 80s - loss: 0.5455 - f1_m: 0.8135 - val_loss: 0.4737 - val_f1_m: 0.8412 - lr: 1.0000e-05 - 80s/epoch - 1ms/step\n",
      "Epoch 84/200\n",
      "66745/66745 - 79s - loss: 0.5453 - f1_m: 0.8135 - val_loss: 0.4739 - val_f1_m: 0.8413 - lr: 1.0000e-05 - 79s/epoch - 1ms/step\n",
      "Epoch 85/200\n",
      "66745/66745 - 79s - loss: 0.5486 - f1_m: 0.8135 - val_loss: 0.4737 - val_f1_m: 0.8413 - lr: 1.0000e-05 - 79s/epoch - 1ms/step\n",
      "Epoch 86/200\n",
      "66745/66745 - 79s - loss: 0.5509 - f1_m: 0.8135 - val_loss: 0.4740 - val_f1_m: 0.8413 - lr: 1.0000e-05 - 79s/epoch - 1ms/step\n",
      "Epoch 87/200\n",
      "66745/66745 - 79s - loss: 0.5453 - f1_m: 0.8134 - val_loss: 0.4743 - val_f1_m: 0.8413 - lr: 1.0000e-05 - 79s/epoch - 1ms/step\n",
      "Epoch 88/200\n",
      "66745/66745 - 80s - loss: 0.5554 - f1_m: 0.8135 - val_loss: 0.4740 - val_f1_m: 0.8413 - lr: 1.0000e-05 - 80s/epoch - 1ms/step\n",
      "Epoch 89/200\n",
      "66745/66745 - 80s - loss: 0.5524 - f1_m: 0.8136 - val_loss: 0.4741 - val_f1_m: 0.8413 - lr: 1.0000e-05 - 80s/epoch - 1ms/step\n",
      "Epoch 90/200\n",
      "66745/66745 - 79s - loss: 0.5513 - f1_m: 0.8133 - val_loss: 0.4740 - val_f1_m: 0.8413 - lr: 1.0000e-05 - 79s/epoch - 1ms/step\n",
      "Epoch 91/200\n",
      "66745/66745 - 80s - loss: 0.5480 - f1_m: 0.8133 - val_loss: 0.4741 - val_f1_m: 0.8413 - lr: 1.0000e-05 - 80s/epoch - 1ms/step\n",
      "Epoch 92/200\n",
      "66745/66745 - 79s - loss: 0.5429 - f1_m: 0.8136 - val_loss: 0.4751 - val_f1_m: 0.8413 - lr: 1.0000e-05 - 79s/epoch - 1ms/step\n",
      "Epoch 93/200\n",
      "66745/66745 - 79s - loss: 0.5586 - f1_m: 0.8135 - val_loss: 0.4740 - val_f1_m: 0.8413 - lr: 1.0000e-05 - 79s/epoch - 1ms/step\n",
      "Epoch 94/200\n",
      "66745/66745 - 79s - loss: 0.5475 - f1_m: 0.8135 - val_loss: 0.4739 - val_f1_m: 0.8412 - lr: 1.0000e-05 - 79s/epoch - 1ms/step\n",
      "Epoch 95/200\n",
      "66745/66745 - 79s - loss: 0.5468 - f1_m: 0.8135 - val_loss: 0.4741 - val_f1_m: 0.8413 - lr: 1.0000e-05 - 79s/epoch - 1ms/step\n",
      "Epoch 96/200\n",
      "66745/66745 - 79s - loss: 0.5455 - f1_m: 0.8134 - val_loss: 0.4737 - val_f1_m: 0.8413 - lr: 1.0000e-05 - 79s/epoch - 1ms/step\n",
      "Epoch 97/200\n",
      "66745/66745 - 79s - loss: 0.5504 - f1_m: 0.8135 - val_loss: 0.4743 - val_f1_m: 0.8413 - lr: 1.0000e-05 - 79s/epoch - 1ms/step\n",
      "Epoch 98/200\n",
      "66745/66745 - 79s - loss: 0.5533 - f1_m: 0.8136 - val_loss: 0.4746 - val_f1_m: 0.8413 - lr: 1.0000e-05 - 79s/epoch - 1ms/step\n",
      "Epoch 99/200\n",
      "66745/66745 - 79s - loss: 0.5428 - f1_m: 0.8134 - val_loss: 0.4738 - val_f1_m: 0.8413 - lr: 1.0000e-05 - 79s/epoch - 1ms/step\n",
      "Epoch 100/200\n",
      "66745/66745 - 79s - loss: 0.5472 - f1_m: 0.8135 - val_loss: 0.4736 - val_f1_m: 0.8413 - lr: 1.0000e-05 - 79s/epoch - 1ms/step\n",
      "Epoch 101/200\n",
      "66745/66745 - 79s - loss: 0.5448 - f1_m: 0.8136 - val_loss: 0.4736 - val_f1_m: 0.8413 - lr: 1.0000e-05 - 79s/epoch - 1ms/step\n",
      "Epoch 102/200\n",
      "66745/66745 - 79s - loss: 0.5495 - f1_m: 0.8134 - val_loss: 0.4734 - val_f1_m: 0.8414 - lr: 1.0000e-05 - 79s/epoch - 1ms/step\n",
      "Epoch 103/200\n",
      "66745/66745 - 79s - loss: 0.5520 - f1_m: 0.8134 - val_loss: 0.4735 - val_f1_m: 0.8412 - lr: 1.0000e-05 - 79s/epoch - 1ms/step\n",
      "Epoch 104/200\n",
      "66745/66745 - 80s - loss: 0.5480 - f1_m: 0.8135 - val_loss: 0.4737 - val_f1_m: 0.8413 - lr: 1.0000e-05 - 80s/epoch - 1ms/step\n",
      "Epoch 105/200\n",
      "66745/66745 - 79s - loss: 0.5483 - f1_m: 0.8137 - val_loss: 0.4738 - val_f1_m: 0.8413 - lr: 1.0000e-05 - 79s/epoch - 1ms/step\n",
      "Epoch 106/200\n",
      "66745/66745 - 79s - loss: 0.5428 - f1_m: 0.8134 - val_loss: 0.4735 - val_f1_m: 0.8413 - lr: 1.0000e-05 - 79s/epoch - 1ms/step\n",
      "Epoch 107/200\n",
      "66745/66745 - 79s - loss: 0.5556 - f1_m: 0.8135 - val_loss: 0.4735 - val_f1_m: 0.8413 - lr: 1.0000e-05 - 79s/epoch - 1ms/step\n",
      "Epoch 108/200\n",
      "66745/66745 - 79s - loss: 0.5505 - f1_m: 0.8138 - val_loss: 0.4733 - val_f1_m: 0.8414 - lr: 1.0000e-05 - 79s/epoch - 1ms/step\n",
      "Epoch 109/200\n",
      "66745/66745 - 79s - loss: 0.5597 - f1_m: 0.8136 - val_loss: 0.4737 - val_f1_m: 0.8413 - lr: 1.0000e-05 - 79s/epoch - 1ms/step\n",
      "Epoch 110/200\n",
      "66745/66745 - 80s - loss: 0.5449 - f1_m: 0.8135 - val_loss: 0.4732 - val_f1_m: 0.8413 - lr: 1.0000e-05 - 80s/epoch - 1ms/step\n",
      "Epoch 111/200\n",
      "66745/66745 - 79s - loss: 0.5520 - f1_m: 0.8135 - val_loss: 0.4733 - val_f1_m: 0.8413 - lr: 1.0000e-05 - 79s/epoch - 1ms/step\n",
      "Epoch 112/200\n",
      "66745/66745 - 79s - loss: 0.5406 - f1_m: 0.8135 - val_loss: 0.4738 - val_f1_m: 0.8413 - lr: 1.0000e-05 - 79s/epoch - 1ms/step\n",
      "Epoch 113/200\n",
      "66745/66745 - 80s - loss: 0.5475 - f1_m: 0.8136 - val_loss: 0.4733 - val_f1_m: 0.8413 - lr: 1.0000e-05 - 80s/epoch - 1ms/step\n",
      "Epoch 114/200\n",
      "66745/66745 - 79s - loss: 0.5572 - f1_m: 0.8134 - val_loss: 0.4734 - val_f1_m: 0.8412 - lr: 1.0000e-05 - 79s/epoch - 1ms/step\n",
      "Epoch 115/200\n",
      "66745/66745 - 79s - loss: 0.5499 - f1_m: 0.8136 - val_loss: 0.4731 - val_f1_m: 0.8413 - lr: 1.0000e-05 - 79s/epoch - 1ms/step\n",
      "Epoch 116/200\n",
      "66745/66745 - 79s - loss: 0.5675 - f1_m: 0.8136 - val_loss: 0.4728 - val_f1_m: 0.8413 - lr: 1.0000e-05 - 79s/epoch - 1ms/step\n"
     ]
    },
    {
     "name": "stdout",
     "output_type": "stream",
     "text": [
      "Epoch 117/200\n",
      "66745/66745 - 79s - loss: 0.5728 - f1_m: 0.8135 - val_loss: 0.4730 - val_f1_m: 0.8413 - lr: 1.0000e-05 - 79s/epoch - 1ms/step\n",
      "Epoch 118/200\n",
      "66745/66745 - 79s - loss: 0.5696 - f1_m: 0.8136 - val_loss: 0.4734 - val_f1_m: 0.8413 - lr: 1.0000e-05 - 79s/epoch - 1ms/step\n",
      "Epoch 119/200\n",
      "66745/66745 - 79s - loss: 0.5626 - f1_m: 0.8134 - val_loss: 0.4733 - val_f1_m: 0.8413 - lr: 1.0000e-05 - 79s/epoch - 1ms/step\n",
      "Epoch 120/200\n",
      "66745/66745 - 79s - loss: 0.5834 - f1_m: 0.8135 - val_loss: 0.4730 - val_f1_m: 0.8413 - lr: 1.0000e-05 - 79s/epoch - 1ms/step\n",
      "Epoch 121/200\n",
      "66745/66745 - 79s - loss: 0.5537 - f1_m: 0.8135 - val_loss: 0.4734 - val_f1_m: 0.8413 - lr: 1.0000e-05 - 79s/epoch - 1ms/step\n",
      "Epoch 122/200\n",
      "66745/66745 - 79s - loss: 0.5752 - f1_m: 0.8134 - val_loss: 0.4734 - val_f1_m: 0.8413 - lr: 1.0000e-05 - 79s/epoch - 1ms/step\n",
      "Epoch 123/200\n",
      "66745/66745 - 79s - loss: 0.5479 - f1_m: 0.8135 - val_loss: 0.4734 - val_f1_m: 0.8413 - lr: 1.0000e-05 - 79s/epoch - 1ms/step\n",
      "Epoch 124/200\n",
      "66745/66745 - 80s - loss: 0.5583 - f1_m: 0.8134 - val_loss: 0.4729 - val_f1_m: 0.8413 - lr: 1.0000e-05 - 80s/epoch - 1ms/step\n",
      "Epoch 125/200\n",
      "66745/66745 - 79s - loss: 0.5591 - f1_m: 0.8135 - val_loss: 0.4727 - val_f1_m: 0.8413 - lr: 1.0000e-05 - 79s/epoch - 1ms/step\n",
      "Epoch 126/200\n",
      "66745/66745 - 79s - loss: 0.5627 - f1_m: 0.8135 - val_loss: 0.4731 - val_f1_m: 0.8414 - lr: 1.0000e-05 - 79s/epoch - 1ms/step\n",
      "Epoch 127/200\n",
      "66745/66745 - 79s - loss: 0.5533 - f1_m: 0.8134 - val_loss: 0.4730 - val_f1_m: 0.8413 - lr: 1.0000e-05 - 79s/epoch - 1ms/step\n",
      "Epoch 128/200\n",
      "66745/66745 - 79s - loss: 0.5730 - f1_m: 0.8134 - val_loss: 0.4733 - val_f1_m: 0.8414 - lr: 1.0000e-05 - 79s/epoch - 1ms/step\n",
      "Epoch 129/200\n",
      "66745/66745 - 79s - loss: 0.5617 - f1_m: 0.8133 - val_loss: 0.4730 - val_f1_m: 0.8413 - lr: 1.0000e-05 - 79s/epoch - 1ms/step\n",
      "Epoch 130/200\n",
      "66745/66745 - 80s - loss: 0.5659 - f1_m: 0.8130 - val_loss: 0.4726 - val_f1_m: 0.8413 - lr: 1.0000e-05 - 80s/epoch - 1ms/step\n",
      "Epoch 131/200\n",
      "66745/66745 - 79s - loss: 0.5560 - f1_m: 0.8135 - val_loss: 0.4728 - val_f1_m: 0.8413 - lr: 1.0000e-05 - 79s/epoch - 1ms/step\n",
      "Epoch 132/200\n",
      "66745/66745 - 79s - loss: 0.5798 - f1_m: 0.8133 - val_loss: 0.4728 - val_f1_m: 0.8413 - lr: 1.0000e-05 - 79s/epoch - 1ms/step\n",
      "Epoch 133/200\n",
      "66745/66745 - 80s - loss: 0.5686 - f1_m: 0.8130 - val_loss: 0.4731 - val_f1_m: 0.8413 - lr: 1.0000e-05 - 80s/epoch - 1ms/step\n",
      "Epoch 134/200\n",
      "66745/66745 - 80s - loss: 0.6237 - f1_m: 0.8133 - val_loss: 0.4729 - val_f1_m: 0.8414 - lr: 1.0000e-05 - 80s/epoch - 1ms/step\n",
      "Epoch 135/200\n",
      "66745/66745 - 79s - loss: 0.5687 - f1_m: 0.8134 - val_loss: 0.4730 - val_f1_m: 0.8414 - lr: 1.0000e-05 - 79s/epoch - 1ms/step\n",
      "Epoch 136/200\n",
      "66745/66745 - 80s - loss: 0.5862 - f1_m: 0.8133 - val_loss: 0.4726 - val_f1_m: 0.8413 - lr: 1.0000e-05 - 80s/epoch - 1ms/step\n",
      "Epoch 137/200\n",
      "66745/66745 - 80s - loss: 0.5666 - f1_m: 0.8132 - val_loss: 0.4731 - val_f1_m: 0.8413 - lr: 1.0000e-05 - 80s/epoch - 1ms/step\n",
      "Epoch 138/200\n",
      "66745/66745 - 79s - loss: 0.5716 - f1_m: 0.8133 - val_loss: 0.4728 - val_f1_m: 0.8413 - lr: 1.0000e-05 - 79s/epoch - 1ms/step\n",
      "Epoch 139/200\n",
      "66745/66745 - 79s - loss: 0.5664 - f1_m: 0.8130 - val_loss: 0.4737 - val_f1_m: 0.8413 - lr: 1.0000e-05 - 79s/epoch - 1ms/step\n",
      "Epoch 140/200\n",
      "66745/66745 - 79s - loss: 0.5663 - f1_m: 0.8132 - val_loss: 0.4729 - val_f1_m: 0.8414 - lr: 1.0000e-05 - 79s/epoch - 1ms/step\n",
      "Epoch 141/200\n",
      "66745/66745 - 79s - loss: 0.5486 - f1_m: 0.8133 - val_loss: 0.4735 - val_f1_m: 0.8414 - lr: 1.0000e-05 - 79s/epoch - 1ms/step\n",
      "Epoch 142/200\n",
      "66745/66745 - 79s - loss: 0.5671 - f1_m: 0.8133 - val_loss: 0.4727 - val_f1_m: 0.8413 - lr: 1.0000e-05 - 79s/epoch - 1ms/step\n",
      "Epoch 143/200\n",
      "66745/66745 - 80s - loss: 0.5666 - f1_m: 0.8133 - val_loss: 0.4731 - val_f1_m: 0.8413 - lr: 1.0000e-05 - 80s/epoch - 1ms/step\n",
      "Epoch 144/200\n",
      "66745/66745 - 79s - loss: 0.5636 - f1_m: 0.8132 - val_loss: 0.4732 - val_f1_m: 0.8413 - lr: 1.0000e-05 - 79s/epoch - 1ms/step\n",
      "Epoch 145/200\n",
      "66745/66745 - 80s - loss: 0.6132 - f1_m: 0.8133 - val_loss: 0.4736 - val_f1_m: 0.8414 - lr: 1.0000e-05 - 80s/epoch - 1ms/step\n",
      "Epoch 146/200\n",
      "66745/66745 - 79s - loss: 0.5828 - f1_m: 0.8134 - val_loss: 0.4728 - val_f1_m: 0.8413 - lr: 1.0000e-05 - 79s/epoch - 1ms/step\n",
      "Epoch 147/200\n",
      "66745/66745 - 79s - loss: 0.5711 - f1_m: 0.8132 - val_loss: 0.4728 - val_f1_m: 0.8414 - lr: 1.0000e-05 - 79s/epoch - 1ms/step\n",
      "Epoch 148/200\n",
      "66745/66745 - 79s - loss: 0.5805 - f1_m: 0.8132 - val_loss: 0.4732 - val_f1_m: 0.8413 - lr: 1.0000e-05 - 79s/epoch - 1ms/step\n",
      "Epoch 149/200\n",
      "66745/66745 - 80s - loss: 0.5819 - f1_m: 0.8130 - val_loss: 0.4733 - val_f1_m: 0.8413 - lr: 1.0000e-05 - 80s/epoch - 1ms/step\n",
      "Epoch 150/200\n",
      "66745/66745 - 79s - loss: 0.5910 - f1_m: 0.8131 - val_loss: 0.4727 - val_f1_m: 0.8413 - lr: 1.0000e-05 - 79s/epoch - 1ms/step\n",
      "Epoch 151/200\n",
      "66745/66745 - 79s - loss: 0.5880 - f1_m: 0.8134 - val_loss: 0.4727 - val_f1_m: 0.8413 - lr: 1.0000e-05 - 79s/epoch - 1ms/step\n",
      "Epoch 152/200\n",
      "66745/66745 - 80s - loss: 0.5557 - f1_m: 0.8133 - val_loss: 0.4725 - val_f1_m: 0.8414 - lr: 1.0000e-05 - 80s/epoch - 1ms/step\n",
      "Epoch 153/200\n",
      "66745/66745 - 80s - loss: 0.5566 - f1_m: 0.8134 - val_loss: 0.4726 - val_f1_m: 0.8413 - lr: 1.0000e-05 - 80s/epoch - 1ms/step\n",
      "Epoch 154/200\n",
      "66745/66745 - 80s - loss: 0.5694 - f1_m: 0.8133 - val_loss: 0.4727 - val_f1_m: 0.8414 - lr: 1.0000e-05 - 80s/epoch - 1ms/step\n",
      "Epoch 155/200\n",
      "66745/66745 - 80s - loss: 0.5769 - f1_m: 0.8133 - val_loss: 0.4729 - val_f1_m: 0.8414 - lr: 1.0000e-05 - 80s/epoch - 1ms/step\n",
      "Epoch 156/200\n",
      "66745/66745 - 80s - loss: 0.6310 - f1_m: 0.8132 - val_loss: 0.4733 - val_f1_m: 0.8414 - lr: 1.0000e-05 - 80s/epoch - 1ms/step\n",
      "Epoch 157/200\n",
      "66745/66745 - 80s - loss: 0.5611 - f1_m: 0.8133 - val_loss: 0.4725 - val_f1_m: 0.8414 - lr: 1.0000e-05 - 80s/epoch - 1ms/step\n",
      "Epoch 158/200\n",
      "66745/66745 - 80s - loss: 0.5927 - f1_m: 0.8131 - val_loss: 0.4725 - val_f1_m: 0.8413 - lr: 1.0000e-05 - 80s/epoch - 1ms/step\n",
      "Epoch 159/200\n",
      "66745/66745 - 80s - loss: 0.5985 - f1_m: 0.8130 - val_loss: 0.4735 - val_f1_m: 0.8414 - lr: 1.0000e-05 - 80s/epoch - 1ms/step\n",
      "Epoch 160/200\n",
      "66745/66745 - 79s - loss: 0.5864 - f1_m: 0.8136 - val_loss: 0.4726 - val_f1_m: 0.8414 - lr: 1.0000e-05 - 79s/epoch - 1ms/step\n",
      "Epoch 161/200\n",
      "66745/66745 - 80s - loss: 0.5981 - f1_m: 0.8134 - val_loss: 0.4728 - val_f1_m: 0.8414 - lr: 1.0000e-05 - 80s/epoch - 1ms/step\n",
      "Epoch 162/200\n",
      "66745/66745 - 80s - loss: 0.5829 - f1_m: 0.8132 - val_loss: 0.4725 - val_f1_m: 0.8414 - lr: 1.0000e-05 - 80s/epoch - 1ms/step\n",
      "Epoch 163/200\n",
      "66745/66745 - 79s - loss: 0.5851 - f1_m: 0.8131 - val_loss: 0.4728 - val_f1_m: 0.8414 - lr: 1.0000e-05 - 79s/epoch - 1ms/step\n",
      "Epoch 164/200\n",
      "66745/66745 - 80s - loss: 0.6060 - f1_m: 0.8132 - val_loss: 0.4727 - val_f1_m: 0.8414 - lr: 1.0000e-05 - 80s/epoch - 1ms/step\n",
      "Epoch 165/200\n",
      "66745/66745 - 80s - loss: 0.5684 - f1_m: 0.8131 - val_loss: 0.4727 - val_f1_m: 0.8415 - lr: 1.0000e-05 - 80s/epoch - 1ms/step\n",
      "Epoch 166/200\n",
      "66745/66745 - 80s - loss: 0.5860 - f1_m: 0.8132 - val_loss: 0.4725 - val_f1_m: 0.8414 - lr: 1.0000e-05 - 80s/epoch - 1ms/step\n",
      "Epoch 167/200\n",
      "66745/66745 - 80s - loss: 0.5674 - f1_m: 0.8133 - val_loss: 0.4726 - val_f1_m: 0.8414 - lr: 1.0000e-05 - 80s/epoch - 1ms/step\n",
      "Epoch 168/200\n",
      "66745/66745 - 80s - loss: 0.5952 - f1_m: 0.8132 - val_loss: 0.4726 - val_f1_m: 0.8414 - lr: 1.0000e-05 - 80s/epoch - 1ms/step\n",
      "Epoch 169/200\n",
      "66745/66745 - 80s - loss: 0.5695 - f1_m: 0.8132 - val_loss: 0.4732 - val_f1_m: 0.8413 - lr: 1.0000e-05 - 80s/epoch - 1ms/step\n",
      "Epoch 170/200\n",
      "66745/66745 - 80s - loss: 0.5747 - f1_m: 0.8132 - val_loss: 0.4736 - val_f1_m: 0.8415 - lr: 1.0000e-05 - 80s/epoch - 1ms/step\n",
      "Epoch 171/200\n",
      "66745/66745 - 80s - loss: 0.5794 - f1_m: 0.8133 - val_loss: 0.4727 - val_f1_m: 0.8414 - lr: 1.0000e-05 - 80s/epoch - 1ms/step\n",
      "Epoch 172/200\n",
      "66745/66745 - 80s - loss: 0.5925 - f1_m: 0.8131 - val_loss: 0.4728 - val_f1_m: 0.8414 - lr: 1.0000e-05 - 80s/epoch - 1ms/step\n",
      "Epoch 173/200\n",
      "66745/66745 - 79s - loss: 0.6373 - f1_m: 0.8131 - val_loss: 0.4728 - val_f1_m: 0.8414 - lr: 1.0000e-05 - 79s/epoch - 1ms/step\n",
      "Epoch 174/200\n",
      "66745/66745 - 80s - loss: 0.5988 - f1_m: 0.8133 - val_loss: 0.4727 - val_f1_m: 0.8414 - lr: 1.0000e-05 - 80s/epoch - 1ms/step\n",
      "Epoch 175/200\n",
      "66745/66745 - 80s - loss: 0.5863 - f1_m: 0.8132 - val_loss: 0.4725 - val_f1_m: 0.8414 - lr: 1.0000e-05 - 80s/epoch - 1ms/step\n"
     ]
    },
    {
     "name": "stdout",
     "output_type": "stream",
     "text": [
      "Epoch 176/200\n",
      "66745/66745 - 79s - loss: 0.5560 - f1_m: 0.8131 - val_loss: 0.4725 - val_f1_m: 0.8414 - lr: 1.0000e-05 - 79s/epoch - 1ms/step\n",
      "Epoch 177/200\n",
      "66745/66745 - 80s - loss: 0.5915 - f1_m: 0.8130 - val_loss: 0.4724 - val_f1_m: 0.8414 - lr: 1.0000e-05 - 80s/epoch - 1ms/step\n",
      "Epoch 178/200\n",
      "66745/66745 - 80s - loss: 0.5663 - f1_m: 0.8132 - val_loss: 0.4727 - val_f1_m: 0.8413 - lr: 1.0000e-05 - 80s/epoch - 1ms/step\n",
      "Epoch 179/200\n",
      "66745/66745 - 80s - loss: 0.5780 - f1_m: 0.8131 - val_loss: 0.4725 - val_f1_m: 0.8414 - lr: 1.0000e-05 - 80s/epoch - 1ms/step\n",
      "Epoch 180/200\n",
      "66745/66745 - 80s - loss: 0.5917 - f1_m: 0.8130 - val_loss: 0.4724 - val_f1_m: 0.8414 - lr: 1.0000e-05 - 80s/epoch - 1ms/step\n",
      "Epoch 181/200\n",
      "66745/66745 - 80s - loss: 0.5679 - f1_m: 0.8131 - val_loss: 0.4723 - val_f1_m: 0.8414 - lr: 1.0000e-05 - 80s/epoch - 1ms/step\n",
      "Epoch 182/200\n",
      "66745/66745 - 80s - loss: 0.5825 - f1_m: 0.8130 - val_loss: 0.4729 - val_f1_m: 0.8415 - lr: 1.0000e-05 - 80s/epoch - 1ms/step\n",
      "Epoch 183/200\n",
      "66745/66745 - 79s - loss: 0.5991 - f1_m: 0.8131 - val_loss: 0.4726 - val_f1_m: 0.8414 - lr: 1.0000e-05 - 79s/epoch - 1ms/step\n",
      "Epoch 184/200\n",
      "66745/66745 - 80s - loss: 0.5694 - f1_m: 0.8132 - val_loss: 0.4725 - val_f1_m: 0.8414 - lr: 1.0000e-05 - 80s/epoch - 1ms/step\n",
      "Epoch 185/200\n",
      "66745/66745 - 80s - loss: 0.5543 - f1_m: 0.8130 - val_loss: 0.4725 - val_f1_m: 0.8413 - lr: 1.0000e-05 - 80s/epoch - 1ms/step\n",
      "Epoch 186/200\n",
      "66745/66745 - 79s - loss: 0.5820 - f1_m: 0.8131 - val_loss: 0.4724 - val_f1_m: 0.8414 - lr: 1.0000e-05 - 79s/epoch - 1ms/step\n",
      "Epoch 187/200\n",
      "66745/66745 - 80s - loss: 0.5870 - f1_m: 0.8130 - val_loss: 0.4724 - val_f1_m: 0.8414 - lr: 1.0000e-05 - 80s/epoch - 1ms/step\n",
      "Epoch 188/200\n",
      "66745/66745 - 80s - loss: 0.6058 - f1_m: 0.8132 - val_loss: 0.4727 - val_f1_m: 0.8414 - lr: 1.0000e-05 - 80s/epoch - 1ms/step\n",
      "Epoch 189/200\n",
      "66745/66745 - 79s - loss: 0.5741 - f1_m: 0.8131 - val_loss: 0.4728 - val_f1_m: 0.8414 - lr: 1.0000e-05 - 79s/epoch - 1ms/step\n",
      "Epoch 190/200\n",
      "66745/66745 - 80s - loss: 0.6287 - f1_m: 0.8130 - val_loss: 0.4722 - val_f1_m: 0.8414 - lr: 1.0000e-05 - 80s/epoch - 1ms/step\n",
      "Epoch 191/200\n",
      "66745/66745 - 80s - loss: 0.6313 - f1_m: 0.8130 - val_loss: 0.4726 - val_f1_m: 0.8415 - lr: 1.0000e-05 - 80s/epoch - 1ms/step\n",
      "Epoch 192/200\n",
      "66745/66745 - 79s - loss: 0.5982 - f1_m: 0.8130 - val_loss: 0.4723 - val_f1_m: 0.8415 - lr: 1.0000e-05 - 79s/epoch - 1ms/step\n",
      "Epoch 193/200\n",
      "66745/66745 - 80s - loss: 0.5712 - f1_m: 0.8131 - val_loss: 0.4720 - val_f1_m: 0.8415 - lr: 1.0000e-05 - 80s/epoch - 1ms/step\n",
      "Epoch 194/200\n",
      "66745/66745 - 80s - loss: 0.5946 - f1_m: 0.8129 - val_loss: 0.4722 - val_f1_m: 0.8415 - lr: 1.0000e-05 - 80s/epoch - 1ms/step\n",
      "Epoch 195/200\n",
      "66745/66745 - 79s - loss: 0.6073 - f1_m: 0.8132 - val_loss: 0.4724 - val_f1_m: 0.8414 - lr: 1.0000e-05 - 79s/epoch - 1ms/step\n",
      "Epoch 196/200\n",
      "66745/66745 - 80s - loss: 0.5964 - f1_m: 0.8133 - val_loss: 0.4722 - val_f1_m: 0.8413 - lr: 1.0000e-05 - 80s/epoch - 1ms/step\n",
      "Epoch 197/200\n",
      "66745/66745 - 80s - loss: 0.6033 - f1_m: 0.8131 - val_loss: 0.4725 - val_f1_m: 0.8415 - lr: 1.0000e-05 - 80s/epoch - 1ms/step\n",
      "Epoch 198/200\n",
      "66745/66745 - 80s - loss: 0.6179 - f1_m: 0.8131 - val_loss: 0.4724 - val_f1_m: 0.8414 - lr: 1.0000e-05 - 80s/epoch - 1ms/step\n",
      "Epoch 199/200\n",
      "66745/66745 - 80s - loss: 0.5759 - f1_m: 0.8133 - val_loss: 0.4725 - val_f1_m: 0.8414 - lr: 1.0000e-05 - 80s/epoch - 1ms/step\n",
      "Epoch 200/200\n",
      "66745/66745 - 79s - loss: 0.5949 - f1_m: 0.8130 - val_loss: 0.4717 - val_f1_m: 0.8414 - lr: 1.0000e-05 - 79s/epoch - 1ms/step\n"
     ]
    }
   ],
   "source": [
    "from tensorflow.keras.models import Sequential\n",
    "from tensorflow.keras.layers import Dense, Dropout, Activation\n",
    "from tensorflow.keras.callbacks import EarlyStopping, ReduceLROnPlateau\n",
    "\n",
    "# Neural Network Model\n",
    "model = Sequential()\n",
    "model.add(Dense(50, input_dim = x.shape[1], activation = 'relu')) # Hidden 1\n",
    "model.add(Dropout(0.5))\n",
    "model.add(Dense(25, activation = 'relu')) # Hidden 2\n",
    "model.add(Dropout(0.5))\n",
    "model.add(Dense(y.shape[1], activation = 'softmax')) # Output\n",
    "model.compile(loss = 'categorical_crossentropy', optimizer = 'adam', metrics = [f1_m])\n",
    "\n",
    "# Early Stopping\n",
    "monitor = EarlyStopping(\n",
    "    monitor = 'val_loss', \n",
    "    min_delta = 1e-3, \n",
    "    patience = 10, \n",
    "    verbose = 1, \n",
    "    mode = 'auto', \n",
    "    restore_best_weights = True\n",
    ")\n",
    "\n",
    "# Reduce On Plateau\n",
    "reduce = ReduceLROnPlateau(\n",
    "    monitor = 'val_loss',\n",
    "    factor = 0.5,\n",
    "    patience = 10,\n",
    "    verbose = 1,\n",
    "    mode = 'auto',\n",
    "    min_lr = 1e-5\n",
    ")\n",
    "\n",
    "# Model\n",
    "model.fit(\n",
    "    x_train, \n",
    "    y_train, \n",
    "    validation_data = (x_test, y_test), \n",
    "    callbacks = [reduce],\n",
    "    verbose = 2,\n",
    "    epochs = 200\n",
    ")\n",
    "\n",
    "# Save the model\n",
    "model.save('Saved_Models/Contiki/Model_Multiclass.h5')"
   ]
  },
  {
   "cell_type": "code",
   "execution_count": null,
   "id": "3ae9def7",
   "metadata": {},
   "outputs": [],
   "source": [
    "# Output of hyperparameters stats used in model\n",
    "model.summary()"
   ]
  },
  {
   "cell_type": "code",
   "execution_count": 11,
   "id": "128c166c",
   "metadata": {},
   "outputs": [
    {
     "name": "stdout",
     "output_type": "stream",
     "text": [
      "22249/22249 [==============================] - 19s 839us/step\n"
     ]
    }
   ],
   "source": [
    "# Prediction\n",
    "pred = model.predict(x_test)"
   ]
  },
  {
   "cell_type": "code",
   "execution_count": 12,
   "id": "6ae8a5f2",
   "metadata": {},
   "outputs": [
    {
     "name": "stdout",
     "output_type": "stream",
     "text": [
      "Accuracy: 0.8405565645371302\n",
      "Recall: 0.8405565645371302\n",
      "Precision: 0.8489297397585475\n",
      "F1Score: 0.8407976587224333\n"
     ]
    }
   ],
   "source": [
    "from sklearn import metrics\n",
    "\n",
    "# Metrics for the classification\n",
    "def compute_metrics(pred, y_test):\n",
    "    predict_classes = np.argmax(pred, axis = 1)\n",
    "    expected_classes = np.argmax(y_test, axis = 1)\n",
    "    \n",
    "    correct = metrics.accuracy_score(expected_classes, predict_classes)\n",
    "    print(f\"Accuracy: {correct}\")\n",
    "    \n",
    "    recall = metrics.recall_score(expected_classes, predict_classes, average = 'weighted')    \n",
    "    print(f\"Recall: {recall}\")\n",
    "       \n",
    "    precision = metrics.precision_score(expected_classes, predict_classes, average = 'weighted')\n",
    "    print(f\"Precision: {precision}\")\n",
    "    \n",
    "    f1score = metrics.f1_score(expected_classes, predict_classes, average = 'weighted')\n",
    "    print(f\"F1Score: {f1score}\")\n",
    "    \n",
    "compute_metrics(pred, y_test)"
   ]
  },
  {
   "cell_type": "code",
   "execution_count": 13,
   "id": "fd39d124",
   "metadata": {},
   "outputs": [
    {
     "data": {
      "text/plain": [
       "<sklearn.metrics._plot.confusion_matrix.ConfusionMatrixDisplay at 0x7f89d4e4a7f0>"
      ]
     },
     "execution_count": 13,
     "metadata": {},
     "output_type": "execute_result"
    },
    {
     "data": {
      "image/png": "[encoded data removed]",
      "text/plain": [
       "<Figure size 600x600 with 2 Axes>"
      ]
     },
     "metadata": {},
     "output_type": "display_data"
    }
   ],
   "source": [
    "import matplotlib.pyplot as plt\n",
    "from sklearn.metrics import confusion_matrix, ConfusionMatrixDisplay\n",
    "\n",
    "# Confusion Matrix\n",
    "predict_classes = np.argmax(pred, axis = 1)\n",
    "expected_classes = np.argmax(y_test, axis = 1)    \n",
    "    \n",
    "cm = confusion_matrix(expected_classes, predict_classes)\n",
    "cmd = ConfusionMatrixDisplay(cm)\n",
    "\n",
    "# Plot size\n",
    "fig, ax = plt.subplots(figsize = (6, 6))\n",
    "\n",
    "cmd.plot(ax = ax)"
   ]
  },
  {
   "cell_type": "code",
   "execution_count": 14,
   "id": "b2567a76",
   "metadata": {},
   "outputs": [
    {
     "name": "stdout",
     "output_type": "stream",
     "text": [
      "[DONE] Extra Trees Classifier\n"
     ]
    }
   ],
   "source": [
    "from sklearn.ensemble import ExtraTreesClassifier\n",
    "\n",
    "# Usage of ExtraTreesClassifier for feature selection\n",
    "extra_tree_forest = ExtraTreesClassifier(n_estimators = 5, criterion ='entropy', max_features = 2)\n",
    "extra_tree_forest.fit(x, y)\n",
    "feature_importance = extra_tree_forest.feature_importances_\n",
    "feature_importance_normalized = np.std([tree.feature_importances_ for tree in  extra_tree_forest.estimators_], axis = 0)\n",
    "\n",
    "print(f'[DONE] Extra Trees Classifier')"
   ]
  },
  {
   "cell_type": "code",
   "execution_count": 15,
   "id": "041fd455",
   "metadata": {},
   "outputs": [
    {
     "data": {
      "image/png": "[encoded data removed]",
      "text/plain": [
       "<Figure size 640x480 with 1 Axes>"
      ]
     },
     "metadata": {},
     "output_type": "display_data"
    }
   ],
   "source": [
    "import matplotlib.pyplot as plot\n",
    "\n",
    "# Plor for the ExtraTreesClassifier output\n",
    "plot.bar(x_columns, feature_importance_normalized)\n",
    "plot.xlabel('Feature Labels')\n",
    "plot.ylabel('Feature Importances')\n",
    "plot.title('Comparison of different feature importances in the current dataset')\n",
    "plot.xticks(rotation = 90)\n",
    "\n",
    "# Plot size\n",
    "plot.rcParams[\"figure.figsize\"] = (60, 40)\n",
    "\n",
    "plot.show()"
   ]
  },
  {
   "cell_type": "code",
   "execution_count": null,
   "id": "34dae07e",
   "metadata": {},
   "outputs": [],
   "source": []
  }
 ],
 "metadata": {
  "kernelspec": {
   "display_name": "Python 3 (ipykernel)",
   "language": "python",
   "name": "python3"
  },
  "language_info": {
   "codemirror_mode": {
    "name": "ipython",
    "version": 3
   },
   "file_extension": ".py",
   "mimetype": "text/x-python",
   "name": "python",
   "nbconvert_exporter": "python",
   "pygments_lexer": "ipython3",
   "version": "3.9.2"
  }
 },
 "nbformat": 4,
 "nbformat_minor": 5
}
