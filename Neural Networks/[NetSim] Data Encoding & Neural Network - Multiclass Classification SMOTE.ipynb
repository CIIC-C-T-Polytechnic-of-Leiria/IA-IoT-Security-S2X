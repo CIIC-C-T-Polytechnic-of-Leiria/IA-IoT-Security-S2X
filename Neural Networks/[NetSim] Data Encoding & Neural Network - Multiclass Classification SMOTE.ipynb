{
 "cells": [
  {
   "cell_type": "markdown",
   "id": "d2ccf654",
   "metadata": {},
   "source": [
    "### Data Encoding & Neural Network - Multiclass Classification SMOTE - CIIC Research - José P. Areia"
   ]
  },
  {
   "cell_type": "markdown",
   "id": "5dd7afa6",
   "metadata": {},
   "source": [
    "**The table below represents all the fields of the dataset as well as their descriptions and the encoding process done in each one of the fields.**\n",
    "\n",
    "Type of pre-processing / data encoding done: <mark>Categorical Values (Dummies)</mark>, <mark>Z-Score Normalization</mark>, <mark>Empty Cells Filling</mark>, and <mark>Value Replacing.</mark>\n",
    "\n",
    "It's important to notice that the fields **attack_type** and **is_malicious** were later added to the dataset in order to distinguish normal traffic from the malicious one, and to identify what type of attack was done. The list below represents a numerical classification represented in the field **attack_type**.\n",
    "\n",
    "- \\[0\\] - Normal\n",
    "- \\[1\\] - DoS\n",
    "- \\[2\\] - Sinkhole\n",
    "\n",
    "| Field                        | Description                                                                                                                     |  Deleted | Categorical Values (Dummies) | Z-Score Normalization | Empty Cells Filling |\n",
    "|:------------------------------|:---------------------------------------------------------------------------------------------------------------------------------|:--------:|:----------------------------:|:---------------------:|:-------------------:|\n",
    "| ipv6.plen                    | Payload length                                                                                                                  | -        | -                            | &#x2714;              | &#x2714;            |\n",
    "| icmpv6.rpl.dao.sequence      | DAO Sequence                                                                                                                    | &#x2714; | -                            | -                     | -                   |\n",
    "| frame.protocols              | Protocols in frame                                                                                                              | &#x2714; | -                            | -                     | -                   |\n",
    "| ipv6.host                    | Source or destination host                                                                                                      | &#x2714; | -                            | -                     | -                   |\n",
    "| <ins>ip.len</ins>                       | Total Length                                                                                                                    | &#x2714;        | -                     | -                     | -                   |\n",
    "| icmpv6.rpl.dio.dagid         | DODAGID - Identifies a DODAG [RFC 9009](https://www.rfc-editor.org/rfc/rfc9009.html#name-destination-cleanup-object-)           | &#x2714; | -                            | -                     | -                   |\n",
    "| ip.src                       | Source Address                                                                                                                  | &#x2714; | -                            | -                     | -                   |\n",
    "| frame.time_delta_displayed   | Time delta from previous displayed frame                                                                                        | &#x2714; | -                            | -                     | -                   |\n",
    "| ipv6.tclass.dscp             | Differentiated services codepoint [IANA Documentation](https://www.iana.org/assignments/dscp-registry/dscp-registry.xhtml)      | -        | -                            | -                     | &#x2714;            |\n",
    "| udp.checksum                 | Checksum                                                                                                                        | &#x2714; | -                            | -                     | -                   |\n",
    "| icmpv6.checksum              | Checksum                                                                                                                        | &#x2714; | -                            | -                     | -                   |\n",
    "| ipv6.dst                     | Destination address                                                                                                             | &#x2714; | -                            | -                     | -                   |\n",
    "| ip.dst                       | Destination address                                                                                                             | &#x2714; | -                            | -                     | -                   |\n",
    "| ipv6.tclass.ecn              | Explicit congestion notification                                                                                                | -        | -                            | -                     | &#x2714;            |\n",
    "| frame.number                 | Frame number                                                                                                                    | &#x2714; | -                            | -                     | -                   |\n",
    "| tcp.completeness             | Conversation completeness                                                                                                       | &#x2714; | -                            | -                     | -                   |\n",
    "| ipv6.dst_host                | Destination host                                                                                                                | &#x2714; | -                            | -                     | -                   |\n",
    "| udp.time_relative            | Time since first frame                                                                                                          | &#x2714; | -                            | -                     | -                   |\n",
    "| ip.version                   | Version                                                                                                                         | -        | &#x2714;                     | -                     | -                   |\n",
    "| icmpv6.rpl.opt.target.prefix | Target                                                                                                                          | &#x2714; | -                            |                       | -                   |\n",
    "| ip.ttl                       | Time to Live                                                                                                                    | -        | &#x2714;                     | -                     | -                   |\n",
    "| tcp.time_relative            | Time since first frame in this TCP stream                                                                                       | &#x2714; | -                            | -                     | -                   |\n",
    "| frame.len                    | Frame length on the wire                                                                                                        | -        | -                            | &#x2714;              | -                   |\n",
    "| tcp.time_delta               | Time since previous frame in this TCP stream                                                                                    | &#x2714; | -                            | -                     | -                   |\n",
    "| icmpv6.rpl.opt.type          | RPL Options type                                                                                                                | -        | &#x2714;                     | -                     | -                   |\n",
    "| frame.time                   | Frame arrival time                                                                                                              | &#x2714; | -                            | -                     | -                   |\n",
    "| frame.time_delta             | Time delta from previous captured frame                                                                                         | &#x2714; | -                            | -                     | -                   |\n",
    "| icmpv6.code                  | ICMPv6 Code - [IANA Table Code](https://www.iana.org/assignments/icmpv6-parameters/icmpv6-parameters.xhtml#icmpv6-parameters-3) | -        | &#x2714;                     | -                     | -                   |\n",
    "| ipv6.addr                    | Source or destination address                                                                                                   | &#x2714; | -                            | -                     | -                   |\n",
    "| ipv6.src_host                | Source host                                                                                                                     | &#x2714; | -                            | -                     | -                   |\n",
    "| ip.host                      | Source or Destination Host                                                                                                      | &#x2714; | -                            | -                     | -                   |\n",
    "| ip.addr                      | Source or Destination Address                                                                                                   | &#x2714; | -                            | -                     | -                   |\n",
    "| udp.stream                   | Stream index                                                                                                                    | &#x2714; | -                            | -                     | -                   |\n",
    "| udp.srcport                  | Source port                                                                                                                     | &#x2714; | -                            | -                     | -                   |\n",
    "| frame.time_epoch             | Epoch time                                                                                                                      | &#x2714; | -                            | -                     | -                   |\n",
    "| ipv6.flow                    | Flow Label [RFC 2460](https://www.rfc-editor.org/rfc/rfc2460#page-25)                                                           | &#x2714; | -                            | -                     | -                   |\n",
    "| ip.dst_host                  | Destination Host                                                                                                                | &#x2714; | -                            | -                     | -                   |\n",
    "| tcp.analysis.rto_frame       | Retransmission timeouts (RTO) based on delta from frame                                                                         | &#x2714; | -                            | -                     | -                   |\n",
    "| tcp.stream                   | Stream index                                                                                                                    | &#x2714; | -                            | -                     | -                   |\n",
    "| ipv6.hlim                    | Hop Limit                                                                                                                       | -        | -                            | &#x2714;              | &#x2714;            |\n",
    "| ipv6.nxt                     | Next header                                                                                                                     | -        | &#x2714;                     | -                     | -                   |\n",
    "| tcp.checksum                 | Checksum                                                                                                                        | &#x2714; | -                            | -                     | -                   |\n",
    "| frame.time_relative          | Time since reference or first frame                                                                                             | &#x2714; | -                            | -                     | -                   |\n",
    "| udp.length                   | UDP Frame length                                                                                                                | &#x2714; | -                            | -                     | -                   |\n",
    "| ip.proto                     | Protocol                                                                                                                        | -        | -                            | -                     | &#x2714;            |\n",
    "| ip.id                        | Identification                                                                                                                  | &#x2714; | -                            | -                     | -                   |\n",
    "| ipv6.src                     | Source address                                                                                                                  | &#x2714; | -                            | -                     | -                   |\n",
    "| tcp.analysis.rto             | The RTO for this segment was                                                                                                    | &#x2714; | -                            | -                     | -                   |\n",
    "| icmpv6.rpl.opt.length        | Option length                                                                                                                   | -        | -                            | &#x2714;              | &#x2714;            |\n",
    "| frame.cap_len                | Frame length stored into the capture file                                                                                       | -        | -                            | &#x2714;              | -                   |\n",
    "| ipv6.tclass                  | Traffic class (QoS) [RFC 2460](https://www.rfc-editor.org/rfc/rfc2460#page-25)                                                  | &#x2714; | -                            | -                     | -                   |\n",
    "| udp.port                     | Source or destination port                                                                                                      | &#x2714; | -                            | -                     | -                   |\n",
    "| udp.time_delta               | Time since previous frame                                                                                                       | &#x2714; | -                            | -                     | -                   |\n",
    "| ip.src_host                  | Source host                                                                                                                     | &#x2714; | -                            | -                     | -                   |\n",
    "| udp.dstport                  | Destination port                                                                                                                | &#x2714; | -                            | -                     | -                   |\n",
    "| udp.payload                  | Payload                                                                                                                         | &#x2714; | -                            | -                     | -                   |\n",
    "| ip.checksum                  | Checksum                                                                                                                        | &#x2714; | -                            | -                     | -                   |\n",
    "| udp.checksum.status          | Checksum status                                                                                                                 | -        | -                            | -                     | &#x2714;            |\n",
    "| icmpv6.rpl.dio.rank          | DIO Rank                                                                                                                        | -        | -                            | &#x2714;              | &#x2714;            |\n",
    "| **is_malicious**\\*           | Distinguish normal traffic from malicious one                                                                                   | -        | -                            | -                     | -                   |\n",
    "| **attack_type**\\*            | Type of attack                                                                                                                  | -        | -                            | -                     | -                   |"
   ]
  },
  {
   "cell_type": "code",
   "execution_count": null,
   "id": "ec12b68d",
   "metadata": {},
   "outputs": [],
   "source": [
    "# Tensorflow logging: OFF\n",
    "import os\n",
    "os.environ['TF_CPP_MIN_LOG_LEVEL'] = '3'"
   ]
  },
  {
   "cell_type": "markdown",
   "id": "8050ab89",
   "metadata": {},
   "source": [
    "**The next blocks of code are for defining the methods used for the pre-processing and data encoding.**\n",
    "\n",
    "The methods are the following: <mark>read_data</mark>, <mark>delete_fields</mark>, <mark>fill_empty_cells</mark>, <mark>zscore_fields_normalization</mark>, <mark>dummy_encode</mark>, and <mark>value_replacing</mark>. More details in the blocks of code below."
   ]
  },
  {
   "cell_type": "code",
   "execution_count": null,
   "id": "04fdc756",
   "metadata": {},
   "outputs": [],
   "source": [
    "import pandas as pd\n",
    "\n",
    "# Import dataset\n",
    "def read_data(dataset):\n",
    "    df = pd.read_csv(dataset)\n",
    "    return df\n",
    "\n",
    "    print(f'[DONE] Dataset Import')"
   ]
  },
  {
   "cell_type": "code",
   "execution_count": null,
   "id": "22300767",
   "metadata": {},
   "outputs": [],
   "source": [
    "# Delete Unnecessary Fields\n",
    "def delete_fields(df, fields):\n",
    "    for i in fields:\n",
    "        df.drop(i, axis = 1, inplace = True)\n",
    "        \n",
    "    print(f'[DONE] Fields Deleted')"
   ]
  },
  {
   "cell_type": "code",
   "execution_count": null,
   "id": "3ff24a23",
   "metadata": {},
   "outputs": [],
   "source": [
    "# Fill Empty Cells With N Value\n",
    "def fill_empty_cells(df, fields, n):\n",
    "    for i in fields:\n",
    "        df[i] = df[i].fillna(n)\n",
    "    \n",
    "    print(f'[DONE] Empty Cells Filling')"
   ]
  },
  {
   "cell_type": "code",
   "execution_count": null,
   "id": "9fb38d44",
   "metadata": {},
   "outputs": [],
   "source": [
    "from scipy.stats import zscore\n",
    "\n",
    "# Z-Score Normalization\n",
    "def zscore_normalization(df, fields):\n",
    "    for i in fields:\n",
    "        df[i] = zscore(df[i])\n",
    "\n",
    "    print(f'[DONE] Z-Score Normalization')"
   ]
  },
  {
   "cell_type": "code",
   "execution_count": null,
   "id": "b4cb0515",
   "metadata": {},
   "outputs": [],
   "source": [
    "# Replace old value for a new one \n",
    "def value_replacing(df, field, old_value, new_value):\n",
    "    df[field] = df[field].replace(old_value, new_value)\n",
    "\n",
    "    print(f'[DONE] Value Replacing')"
   ]
  },
  {
   "cell_type": "code",
   "execution_count": null,
   "id": "984b589a",
   "metadata": {},
   "outputs": [],
   "source": [
    "# Convert fields to dummy variables\n",
    "def dummy_encode(df, fields):\n",
    "    for i in fields:\n",
    "        df = pd.concat([df, pd.get_dummies(df[i], prefix = i)], axis = 1)\n",
    "        df.drop(i, axis = 1, inplace = True)\n",
    "    \n",
    "    print(f'[DONE] Categorical Values (Dummies)')\n",
    "    \n",
    "    return df"
   ]
  },
  {
   "cell_type": "code",
   "execution_count": null,
   "id": "2f54ff8b",
   "metadata": {
    "scrolled": true
   },
   "outputs": [],
   "source": [
    "# Import Dataset & Read Data\n",
    "df = read_data('Datasets/NETSIM_Anomalous_Traffic.csv')"
   ]
  },
  {
   "cell_type": "markdown",
   "id": "d0427ff4",
   "metadata": {},
   "source": [
    "The above code will reproduce an warning saying the following **\"DtypeWarning: Columns (5,9,55) have mixed types\"**. Since the the collumns 5, 9, and 55 represent the fields <mark>icmpv6.rpl.dio.dagid</mark>, <mark>udp.checksum</mark>, and <mark>udp.payload</mark> respectively, and these collumns are going to be deleted later in this notebook, there is no problem whatsoever about the warning shown."
   ]
  },
  {
   "cell_type": "code",
   "execution_count": null,
   "id": "cecce6e6",
   "metadata": {},
   "outputs": [],
   "source": [
    "# Fields -- Deleted Fields\n",
    "f_delete = [\n",
    "    'frame.protocols', 'ipv6.host', 'icmpv6.rpl.dio.dagid', 'ip.src', 'frame.time_delta_displayed',\n",
    "    'udp.checksum', 'icmpv6.checksum', 'ipv6.dst', 'ip.dst', 'frame.number', 'tcp.completeness',\n",
    "    'ipv6.dst_host', 'icmpv6.rpl.opt.target.prefix', 'tcp.time_relative', 'tcp.time_delta', 'frame.time',\n",
    "    'frame.time_delta', 'ipv6.addr', 'ipv6.src_host', 'ip.host', 'ip.addr', 'udp.stream', 'udp.srcport',\n",
    "    'frame.time_epoch', 'ipv6.flow', 'ip.dst_host', 'tcp.analysis.rto_frame', 'tcp.stream', 'tcp.checksum',\n",
    "    'frame.time_relative', 'udp.length', 'ip.id', 'ipv6.src', 'tcp.analysis.rto', 'ipv6.tclass', 'udp.port',\n",
    "    'udp.time_delta', 'ip.src_host', 'udp.dstport', 'udp.payload', 'ip.checksum', 'udp.time_relative',\n",
    "    'icmpv6.rpl.dao.sequence', 'ip.len', 'icmpv6.code'\n",
    "]\n",
    "\n",
    "delete_fields(df, f_delete)"
   ]
  },
  {
   "cell_type": "code",
   "execution_count": null,
   "id": "c44bad31",
   "metadata": {},
   "outputs": [],
   "source": [
    "# Fields -- Empty Cells Filling\n",
    "fill_0 = [\n",
    "    'ipv6.plen', 'ip.proto', 'icmpv6.rpl.opt.length', 'icmpv6.rpl.dio.rank'\n",
    "]\n",
    "\n",
    "fill_pos_1 = [\n",
    "    'udp.checksum.status', 'ipv6.tclass.dscp', 'ipv6.tclass.ecn'\n",
    "]\n",
    "\n",
    "fill_neg_1 = [\n",
    "    'ipv6.hlim'\n",
    "]\n",
    "\n",
    "fill_empty_cells(df, fill_0, 0)       # Fill: 0\n",
    "fill_empty_cells(df, fill_pos_1, 1)   # Fill: +1\n",
    "fill_empty_cells(df, fill_neg_1, -1)  # Fill: -1"
   ]
  },
  {
   "cell_type": "code",
   "execution_count": null,
   "id": "c2613832",
   "metadata": {},
   "outputs": [],
   "source": [
    "# Fields -- Z-Score Normalization\n",
    "zscore_fields = [\n",
    "    'ipv6.plen', 'frame.len', 'ipv6.hlim', 'icmpv6.rpl.opt.length', 'frame.cap_len', 'icmpv6.rpl.dio.rank'\n",
    "]\n",
    "\n",
    "zscore_normalization(df, zscore_fields)"
   ]
  },
  {
   "cell_type": "code",
   "execution_count": null,
   "id": "97fd57b4",
   "metadata": {},
   "outputs": [],
   "source": [
    "# Fields -- Categorical Values\n",
    "dummy_fields = [\n",
    "    'ip.version', 'ip.ttl', 'ipv6.nxt', 'icmpv6.rpl.opt.type'\n",
    "]\n",
    "\n",
    "df = dummy_encode(df, dummy_fields)"
   ]
  },
  {
   "cell_type": "code",
   "execution_count": null,
   "id": "a90a7ffc",
   "metadata": {},
   "outputs": [],
   "source": [
    "df = df.replace({'attack_type' : {5:1, 6:2}})\n",
    "\n",
    "print(f'[DONE] Value Replacing')"
   ]
  },
  {
   "cell_type": "code",
   "execution_count": null,
   "id": "b7060412",
   "metadata": {},
   "outputs": [],
   "source": [
    "import numpy as np\n",
    "\n",
    "# Convert to Numpy Classification\n",
    "\n",
    "# Classification Type: 0 - Binary / 1 - Multiclass\n",
    "classification_type = 1\n",
    "\n",
    "# For a multiclass classification, drop both 'is_malicious' and 'attack_type' collumn\n",
    "\n",
    "# For a binary classification, use 'is_malicious' as target collumn\n",
    "# For a multiclass classification, use 'attack_type' as target collumn\n",
    "\n",
    "if (classification_type):\n",
    "    x_columns = df.columns.drop(['attack_type', 'is_malicious'])\n",
    "    dummies = pd.get_dummies(df['attack_type'])\n",
    "else:\n",
    "    x_columns = df.columns.drop('is_malicious')\n",
    "    dummies = pd.get_dummies(df['is_malicious'])\n",
    "    \n",
    "x = df[x_columns].values\n",
    "attack = dummies.columns\n",
    "y = dummies.values\n",
    "\n",
    "print(f'[DONE] Numpy Classification')"
   ]
  },
  {
   "cell_type": "code",
   "execution_count": null,
   "id": "3ebf13ce",
   "metadata": {
    "scrolled": true
   },
   "outputs": [],
   "source": [
    "from sklearn.model_selection import train_test_split\n",
    "\n",
    "# Training validation splitting \n",
    "x_train, x_test, y_train, y_test = train_test_split(\n",
    "    x,\n",
    "    y,\n",
    "    test_size = 0.25,\n",
    "    random_state = 42\n",
    ")\n",
    "\n",
    "print(f'[DONE] Training + Validation splitting')"
   ]
  },
  {
   "cell_type": "code",
   "execution_count": null,
   "id": "4c09a806",
   "metadata": {},
   "outputs": [],
   "source": [
    "import pickle as pkl\n",
    "\n",
    "# Save training dataset\n",
    "with open(\"Saved_Datasets/NetSim/NetSim_Training_Dataset.pkl\", \"wb\") as f:\n",
    "    pkl.dump([x_train, y_train], f)\n",
    "    \n",
    "# Save test dataset\n",
    "with open(\"Saved_Datasets/NetSim/NetSim_Testing_Dataset.pkl\", \"wb\") as f:\n",
    "    pkl.dump([x_test, y_test], f)\n",
    "    \n",
    "print(f'[DONE] Training dataset saved')\n",
    "print(f'[DONE] Testing dataset saved')"
   ]
  },
  {
   "cell_type": "markdown",
   "id": "64839dca",
   "metadata": {},
   "source": [
    "#### If the dataset splited is already saved, you can go from this point furhter without running the blocks of code above.\n",
    "\n",
    "The datasets are the following (<mark>both are saved under the directory Saved_Datasets</mark>):\n",
    "- NetSim_Training_Dataset.pkl\n",
    "- NetSim_Testing_Dataset.pkl"
   ]
  },
  {
   "cell_type": "code",
   "execution_count": null,
   "id": "430ee626",
   "metadata": {},
   "outputs": [],
   "source": [
    "import pickle as pkl\n",
    "\n",
    "# Load training dataset \n",
    "with open(\"Saved_Datasets/NetSim/NetSim_Training_Dataset.pkl\", \"rb\") as f:\n",
    "    x_train, y_train = pkl.load(f)\n",
    "\n",
    "# Load testing dataset \n",
    "with open(\"Saved_Datasets/NetSim/NetSim_Testing_Dataset.pkl\", \"rb\") as f:\n",
    "    x_test, y_test = pkl.load(f)\n",
    "\n",
    "print(f'[DONE] Training dataset loaded')\n",
    "print(f'[DONE] Testing dataset loaded')"
   ]
  },
  {
   "cell_type": "markdown",
   "id": "ebf0c47e",
   "metadata": {},
   "source": [
    "#### SMOTE Application"
   ]
  },
  {
   "cell_type": "code",
   "execution_count": null,
   "id": "9eb9bd40",
   "metadata": {},
   "outputs": [],
   "source": [
    "from imblearn.over_sampling import SMOTE\n",
    "\n",
    "# SMOTE Application\n",
    "oversample = SMOTE()\n",
    "x_train_res, y_train_res = oversample.fit_resample(x_train, y_train)\n",
    "\n",
    "print(f'[DONE] SMOTE Application')"
   ]
  },
  {
   "cell_type": "code",
   "execution_count": null,
   "id": "c52bde70",
   "metadata": {},
   "outputs": [],
   "source": [
    "# Save SMOTE dataset application\n",
    "with open(\"Saved_Datasets/NetSim/NetSim_Training_Dataset_SMOTE.pkl\", \"wb\") as f:\n",
    "    pkl.dump([x_train_res, y_train_res], f)\n",
    "    \n",
    "print(f'[DONE] SMOTE application dataset saved')"
   ]
  },
  {
   "cell_type": "markdown",
   "id": "84ddcb24",
   "metadata": {},
   "source": [
    "#### Run from here if there is already a dataset saved with SMOTE application in the training part."
   ]
  },
  {
   "cell_type": "code",
   "execution_count": null,
   "id": "515ae2bd",
   "metadata": {},
   "outputs": [],
   "source": [
    "# Load SMOTE dataset application\n",
    "with open(\"Saved_Datasets/NetSim/NetSim_Training_Dataset_SMOTE.pkl\", \"rb\") as f:\n",
    "    x_train_res, y_train_res = pkl.load(f)\n",
    "    \n",
    "print(f'[DONE] SMOTE application dataset loaded')"
   ]
  },
  {
   "cell_type": "code",
   "execution_count": null,
   "id": "9a5fb416",
   "metadata": {},
   "outputs": [],
   "source": [
    "# Displays the amount of values in different labels\n",
    "np.unique(y_train_res, axis = 0, return_counts = True)"
   ]
  },
  {
   "cell_type": "markdown",
   "id": "0f5f5e58",
   "metadata": {},
   "source": [
    "#### Split Training Dataset into Train + Validation"
   ]
  },
  {
   "cell_type": "code",
   "execution_count": null,
   "id": "574ba0f0",
   "metadata": {},
   "outputs": [],
   "source": [
    "# Split training dataset\n",
    "x_train, x_val, y_train, y_val = train_test_split(\n",
    "    x_train_res, \n",
    "    y_train_res, \n",
    "    test_size = 0.25, \n",
    "    random_state = 42\n",
    ")\n",
    "\n",
    "print(f'[DONE] Training + Testing splitting')"
   ]
  },
  {
   "cell_type": "code",
   "execution_count": null,
   "id": "808caa05",
   "metadata": {},
   "outputs": [],
   "source": [
    "import tensorflow.keras\n",
    "from tensorflow.keras import backend as K\n",
    "\n",
    "# Metrics for real-time usage in the model below\n",
    "def recall_m(y_true, y_pred):\n",
    "    true_positives = K.sum(K.round(K.clip(y_true * y_pred, 0, 1)))\n",
    "    possible_positives = K.sum(K.round(K.clip(y_true, 0, 1)))\n",
    "    recall = true_positives / (possible_positives + K.epsilon())\n",
    "    return recall\n",
    "\n",
    "def precision_m(y_true, y_pred):\n",
    "    true_positives = K.sum(K.round(K.clip(y_true * y_pred, 0, 1)))\n",
    "    predicted_positives = K.sum(K.round(K.clip(y_pred, 0, 1)))\n",
    "    precision = true_positives / (predicted_positives + K.epsilon())\n",
    "    return precision\n",
    "\n",
    "def f1_m(y_true, y_pred):\n",
    "    precision = precision_m(y_true, y_pred)\n",
    "    recall = recall_m(y_true, y_pred)\n",
    "    return 2 * ((precision * recall) / (precision + recall + K.epsilon()))"
   ]
  },
  {
   "cell_type": "code",
   "execution_count": null,
   "id": "efd15c22",
   "metadata": {
    "scrolled": false
   },
   "outputs": [],
   "source": [
    "from tensorflow.keras.models import Sequential\n",
    "from tensorflow.keras.layers import Dense, Dropout, Activation\n",
    "from tensorflow.keras.callbacks import EarlyStopping, ReduceLROnPlateau\n",
    "\n",
    "# Neural Network Model\n",
    "model = Sequential()\n",
    "model.add(Dense(50, input_dim = x.shape[1], activation = 'relu')) # Hidden 1\n",
    "model.add(Dropout(0.5))\n",
    "model.add(Dense(25, activation = 'relu')) # Hidden 2\n",
    "model.add(Dropout(0.5))\n",
    "model.add(Dense(y.shape[1], activation = 'softmax')) # Output\n",
    "model.compile(loss = 'categorical_crossentropy', optimizer = 'adam', metrics = [f1_m])\n",
    "\n",
    "# Early Stopping\n",
    "monitor = EarlyStopping(\n",
    "    monitor = 'val_loss', \n",
    "    min_delta = 1e-3, patience = 10, \n",
    "    verbose = 1, mode = 'auto', \n",
    "    restore_best_weights = True\n",
    ")\n",
    "\n",
    "# Reduce On Plateau\n",
    "reduce = ReduceLROnPlateau(\n",
    "    monitor = 'val_loss',\n",
    "    factor = 0.5,\n",
    "    patience = 10,\n",
    "    verbose = 1,\n",
    "    mode = 'auto',\n",
    "    min_lr = 1e-5\n",
    ")\n",
    "\n",
    "# Model\n",
    "model.fit(\n",
    "    x_train, \n",
    "    y_train, \n",
    "    validation_data = (x_val, y_val), \n",
    "    callbacks = [reduce],\n",
    "    verbose = 2,\n",
    "    epochs = 100\n",
    ")"
   ]
  },
  {
   "cell_type": "code",
   "execution_count": null,
   "id": "30edeeb1",
   "metadata": {},
   "outputs": [],
   "source": [
    "# Output of hyperparameters stats used in model\n",
    "model.summary()"
   ]
  },
  {
   "cell_type": "code",
   "execution_count": null,
   "id": "385ab518",
   "metadata": {},
   "outputs": [],
   "source": [
    "# Prediction\n",
    "pred = model.predict(x_test)"
   ]
  },
  {
   "cell_type": "code",
   "execution_count": null,
   "id": "d7a5bab2",
   "metadata": {},
   "outputs": [],
   "source": [
    "from sklearn import metrics\n",
    "\n",
    "# Metrics for the classification\n",
    "def compute_metrics(pred, y_test):\n",
    "    predict_classes = np.argmax(pred, axis = 1)\n",
    "    expected_classes = np.argmax(y_test, axis = 1)\n",
    "    \n",
    "    correct = metrics.accuracy_score(expected_classes, predict_classes, average = 'weighted')\n",
    "    print(f\"Accuracy: {correct}\")\n",
    "    \n",
    "    recall = metrics.recall_score(expected_classes, predict_classes, average = 'weighted')    \n",
    "    print(f\"Recall: {recall}\")\n",
    "       \n",
    "    precision = metrics.precision_score(expected_classes, predict_classes, average = 'weighted')\n",
    "    print(f\"Precision: {precision}\")\n",
    "    \n",
    "    f1score = metrics.f1_score(expected_classes, predict_classes, average = 'weighted')\n",
    "    print(f\"F1Score: {f1score}\")\n",
    "    \n",
    "compute_metrics(pred, y_test)"
   ]
  },
  {
   "cell_type": "code",
   "execution_count": null,
   "id": "e45d7034",
   "metadata": {},
   "outputs": [],
   "source": [
    "import matplotlib.pyplot as plt\n",
    "from sklearn.metrics import confusion_matrix, ConfusionMatrixDisplay\n",
    "\n",
    "# Confusion Matrix\n",
    "predict_classes = np.argmax(pred, axis = 1)\n",
    "expected_classes = np.argmax(y_test, axis = 1)    \n",
    "    \n",
    "cm = confusion_matrix(expected_classes, predict_classes)\n",
    "cmd = ConfusionMatrixDisplay(cm)\n",
    "\n",
    "# Plot size\n",
    "fig, ax = plt.subplots(figsize = (6, 6))\n",
    "\n",
    "cmd.plot(ax = ax)"
   ]
  },
  {
   "cell_type": "code",
   "execution_count": null,
   "id": "78d5e473",
   "metadata": {},
   "outputs": [],
   "source": [
    "from sklearn.ensemble import ExtraTreesClassifier\n",
    "\n",
    "# Usage of ExtraTreesClassifier for feature selection\n",
    "extra_tree_forest = ExtraTreesClassifier(n_estimators = 5, criterion ='entropy', max_features = 2)\n",
    "extra_tree_forest.fit(x, y)\n",
    "feature_importance = extra_tree_forest.feature_importances_\n",
    "feature_importance_normalized = np.std([tree.feature_importances_ for tree in  extra_tree_forest.estimators_], axis = 0)\n",
    "\n",
    "print(f'[DONE] Extra Trees Classifier')"
   ]
  },
  {
   "cell_type": "code",
   "execution_count": null,
   "id": "d9059501",
   "metadata": {},
   "outputs": [],
   "source": [
    "import matplotlib.pyplot as plot\n",
    "\n",
    "# Plor for the ExtraTreesClassifier output\n",
    "plot.bar(x_columns, feature_importance_normalized)\n",
    "plot.xlabel('Feature Labels')\n",
    "plot.ylabel('Feature Importances')\n",
    "plot.title('Comparison of different feature importances in the current dataset')\n",
    "plot.xticks(rotation = 90)\n",
    "\n",
    "# Plot size\n",
    "plot.rcParams[\"figure.figsize\"] = (60, 40)\n",
    "\n",
    "plot.show()"
   ]
  }
 ],
 "metadata": {
  "kernelspec": {
   "display_name": "Python 3 (ipykernel)",
   "language": "python",
   "name": "python3"
  },
  "language_info": {
   "codemirror_mode": {
    "name": "ipython",
    "version": 3
   },
   "file_extension": ".py",
   "mimetype": "text/x-python",
   "name": "python",
   "nbconvert_exporter": "python",
   "pygments_lexer": "ipython3",
   "version": "3.9.2"
  }
 },
 "nbformat": 4,
 "nbformat_minor": 5
}
