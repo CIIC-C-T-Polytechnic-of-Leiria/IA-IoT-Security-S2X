{
 "cells": [
  {
   "cell_type": "markdown",
   "id": "7221c4a0",
   "metadata": {},
   "source": [
    "### Data Encoding & Multiclass Classification Neural Network for Attack IDS V2 - CIIC Research - José P. Areia"
   ]
  },
  {
   "cell_type": "code",
   "execution_count": 1,
   "id": "ab595d62",
   "metadata": {},
   "outputs": [],
   "source": [
    "# Tensorflow logging: OFF\n",
    "import os\n",
    "os.environ['TF_CPP_MIN_LOG_LEVEL'] = '3'"
   ]
  },
  {
   "cell_type": "code",
   "execution_count": 2,
   "id": "57090d5e",
   "metadata": {},
   "outputs": [
    {
     "name": "stdout",
     "output_type": "stream",
     "text": [
      "[DONE] Pre-processing & Data Encoding -- PART 01\n"
     ]
    }
   ],
   "source": [
    "# Pre-processing & Data Encoding\n",
    "import pandas as pd\n",
    "from scipy.stats import zscore\n",
    "\n",
    "# Import dataset\n",
    "df = pd.read_csv(\"Datasets/Anomalous_Traffic_VF.csv\")\n",
    "\n",
    "# Fields for dummy encode\n",
    "dummy_fields = [\n",
    "    'frame.protocols', 'coap.payload_length', 'coap.opt.uri_path', 'coap.opt.length', 'ipv6.nxt',\n",
    "    'icmpv6.rpl.opt.type', 'coap.code'\n",
    "]\n",
    "\n",
    "# Fields to fill with 0\n",
    "fill_fields_0 = [\n",
    "    'icmpv6.type', 'icmpv6.rpl.opt.length', 'icmpv6.checksum.status', 'udp.length', 'icmpv6.rpl.dio.version',\n",
    "    'icmpv6.rpl.dio.rank', 'ipv6.plen', 'frame.len', 'icmpv6.rpl.dio.dtsn'\n",
    "]\n",
    "\n",
    "# Fields to fill with -1\n",
    "fill_fields_1 = [\n",
    "    '6lowpan.iphc.m', 'coap.type', '6lowpan.iphc.nh', 'icmpv6.code', 'icmpv6.rpl.opt.transit.pathlifetime'\n",
    "]\n",
    "\n",
    "# Fields to zscore normalization\n",
    "zscore_fields = [\n",
    "    'wpan.frame_length', 'frame.cap_len', 'icmpv6.rpl.opt.length', 'udp.length', 'icmpv6.rpl.dio.version',\n",
    "    'icmpv6.rpl.dio.rank', 'ipv6.plen', 'frame.len', 'icmpv6.rpl.dio.dtsn'\n",
    "]\n",
    "\n",
    "# Convert fields to dummy variables\n",
    "def dummy_encode(df, fields):\n",
    "    for i in fields:\n",
    "        df = pd.concat([df, pd.get_dummies(df[i], prefix = i)], axis = 1)\n",
    "        df.drop(i, axis = 1, inplace = True)\n",
    "    return df\n",
    "\n",
    "# Fill empty cells with n value\n",
    "def fill_fields(df, fields, n):\n",
    "    for i in fields:\n",
    "        df[i] = df[i].fillna(n)\n",
    "    return df\n",
    "        \n",
    "# Extract the CoAP Payload length into a new column\n",
    "def coap_payload_length(df):\n",
    "    df[[\"coap.payload\", \"coap.payload.format\", \"coap.payload_length\"]] = df[\"coap.payload\"].str.split(':', expand = True)\n",
    "    df[\"coap.payload_length\"] = df[\"coap.payload_length\"].fillna(0)\n",
    "    df.drop('coap.payload', axis = 1, inplace = True)\n",
    "    df.drop('coap.payload.format', axis = 1, inplace = True)\n",
    "    return df\n",
    "\n",
    "# Zscore normalization\n",
    "def zscore_normalization(df, fields):\n",
    "    for i in fields:\n",
    "        df[i] = zscore(df[i])\n",
    "    return df\n",
    "        \n",
    "fill_fields(df, fill_fields_0, 0)\n",
    "fill_fields(df, fill_fields_1, -1)\n",
    "\n",
    "df['icmpv6.type'] = df['icmpv6.type'].replace(155, 1)\n",
    "df['coap.type'] = df['coap.type'].replace(2, 1)\n",
    "df['icmpv6.rpl.opt.transit.pathlifetime'] = df['icmpv6.rpl.opt.transit.pathlifetime'].replace(30, 1)\n",
    "\n",
    "coap_payload_length(df)\n",
    "zscore_normalization(df, zscore_fields)\n",
    "df = dummy_encode(df, dummy_fields)\n",
    "\n",
    "print(f'[DONE] Pre-processing & Data Encoding -- PART 01')"
   ]
  },
  {
   "cell_type": "code",
   "execution_count": 3,
   "id": "7f4f6028",
   "metadata": {},
   "outputs": [
    {
     "name": "stdout",
     "output_type": "stream",
     "text": [
      "[DONE] Pre-processing & Data Encoding -- PART 02\n"
     ]
    }
   ],
   "source": [
    "# Classification for different ports range\n",
    "\n",
    "# 1 - Well-Known Ports\n",
    "# 2 - Registered Ports\n",
    "# 3 - Private or Dynamic Ports\n",
    "\n",
    "def src_port_range(port):\n",
    "    if port['prt_src'] < 1024:\n",
    "        return 1\n",
    "    if port['prt_src'] < 49151:\n",
    "        return 2\n",
    "    if port['prt_src'] < 65535:\n",
    "        return 3\n",
    "\n",
    "def dst_port_range(port):\n",
    "    if port['prt_dst'] < 1024:\n",
    "        return 1\n",
    "    if port['prt_dst'] < 49151:\n",
    "        return 2\n",
    "    if port['prt_dst'] < 65535:\n",
    "        return 3\n",
    "\n",
    "df['prt_src'] = df['udp.srcport']\n",
    "df['prt_dst'] = df['udp.dstport']\n",
    "\n",
    "df['src_port'] = df.apply (lambda row: src_port_range(row), axis = 1)\n",
    "df = pd.concat([df, pd.get_dummies(df['src_port'], prefix=\"src_port_range\")], axis = 1)\n",
    "df.drop('prt_src', axis = 1, inplace = True)\n",
    "df.drop('udp.srcport', axis = 1, inplace = True)\n",
    "df.drop('src_port', axis = 1, inplace = True)\n",
    "\n",
    "df['dst_port'] = df.apply (lambda row: dst_port_range(row), axis = 1)\n",
    "df = pd.concat([df, pd.get_dummies(df['dst_port'], prefix = \"dst_port_range\")], axis = 1)\n",
    "df.drop('prt_dst', axis = 1, inplace = True)\n",
    "df.drop('udp.dstport', axis = 1, inplace = True)\n",
    "df.drop('dst_port', axis = 1, inplace = True)\n",
    "\n",
    "print(f'[DONE] Pre-processing & Data Encoding -- PART 02')"
   ]
  },
  {
   "cell_type": "code",
   "execution_count": 4,
   "id": "74e25974",
   "metadata": {},
   "outputs": [
    {
     "name": "stdout",
     "output_type": "stream",
     "text": [
      "[DONE] Numpy Multiclass Classification\n"
     ]
    }
   ],
   "source": [
    "import numpy as np\n",
    "\n",
    "# Convert to Numpy Multiclass Classification\n",
    "x_columns = df.columns.drop('is_malicious')\n",
    "x = df[x_columns].values\n",
    "\n",
    "dummies = pd.get_dummies(df['is_malicious'])\n",
    "attack = dummies.columns\n",
    "y = dummies.values\n",
    "\n",
    "print(f'[DONE] Numpy Multiclass Classification')"
   ]
  },
  {
   "cell_type": "code",
   "execution_count": 5,
   "id": "7c202aac",
   "metadata": {},
   "outputs": [
    {
     "name": "stdout",
     "output_type": "stream",
     "text": [
      "[DONE] Training validation splitting\n"
     ]
    }
   ],
   "source": [
    "from sklearn.model_selection import train_test_split\n",
    "\n",
    "# Training validation splitting \n",
    "x_train, x_test, y_train, y_test = train_test_split(x, y, test_size = 0.25, random_state = 42)\n",
    "\n",
    "print(f'[DONE] Training validation splitting')"
   ]
  },
  {
   "cell_type": "code",
   "execution_count": 6,
   "id": "f6d373ee",
   "metadata": {},
   "outputs": [
    {
     "name": "stdout",
     "output_type": "stream",
     "text": [
      "[DONE] Neural Network Model\n",
      "Epoch 1/1000\n",
      "15662/15662 - 21s - loss: 0.0025 - val_loss: 1.7518e-07 - 21s/epoch - 1ms/step\n",
      "Epoch 2/1000\n",
      "15662/15662 - 23s - loss: 2.7531e-08 - val_loss: 6.0656e-10 - 23s/epoch - 1ms/step\n",
      "Epoch 3/1000\n",
      "15662/15662 - 24s - loss: 8.4680e-11 - val_loss: 1.2131e-11 - 24s/epoch - 2ms/step\n",
      "Epoch 4/1000\n",
      "15662/15662 - 21s - loss: 4.2816e-12 - val_loss: 4.2816e-12 - 21s/epoch - 1ms/step\n",
      "Epoch 5/1000\n",
      "15662/15662 - 18s - loss: 1.6651e-12 - val_loss: 2.8544e-12 - 18s/epoch - 1ms/step\n",
      "Epoch 6/1000\n",
      "15662/15662 - 22s - loss: 1.1893e-12 - val_loss: 2.1408e-12 - 22s/epoch - 1ms/step\n",
      "Epoch 7/1000\n",
      "15662/15662 - 22s - loss: 9.5146e-13 - val_loss: 1.4272e-12 - 22s/epoch - 1ms/step\n",
      "Epoch 8/1000\n",
      "15662/15662 - 22s - loss: 4.7573e-13 - val_loss: 1.4272e-12 - 22s/epoch - 1ms/step\n",
      "Epoch 9/1000\n",
      "15662/15662 - 25s - loss: 2.3787e-13 - val_loss: 0.0000e+00 - 25s/epoch - 2ms/step\n",
      "Epoch 10/1000\n",
      "15662/15662 - 21s - loss: 0.0000e+00 - val_loss: 0.0000e+00 - 21s/epoch - 1ms/step\n",
      "Epoch 11/1000\n",
      "Restoring model weights from the end of the best epoch: 1.\n",
      "15662/15662 - 20s - loss: 0.0000e+00 - val_loss: 0.0000e+00 - 20s/epoch - 1ms/step\n",
      "Epoch 11: early stopping\n",
      "[DONE] Early Stopping\n"
     ]
    }
   ],
   "source": [
    "import tensorflow.keras\n",
    "from tensorflow.keras.models import Sequential\n",
    "from tensorflow.keras.layers import Dense, Activation\n",
    "from tensorflow.keras.callbacks import EarlyStopping\n",
    "\n",
    "# Neural Network Model\n",
    "model = Sequential()\n",
    "model.add(Dense(50, input_dim = x.shape[1], activation = 'relu')) # Hidden 1\n",
    "model.add(Dense(25, activation = 'relu')) # Hidden 2\n",
    "model.add(Dense(y.shape[1], activation = 'softmax')) # Output\n",
    "model.compile(loss = 'categorical_crossentropy', optimizer = 'adam')\n",
    "\n",
    "print(f'[DONE] Neural Network Model')\n",
    "\n",
    "# Early Stopping\n",
    "monitor = EarlyStopping(monitor = 'val_loss', min_delta = 1e-3, patience = 10, verbose = 1, mode = 'auto', restore_best_weights = True)\n",
    "model.fit(x_train, y_train, validation_data = (x_test, y_test), callbacks = [monitor], verbose = 2, epochs = 1000)\n",
    "\n",
    "print(f'[DONE] Early Stopping')"
   ]
  },
  {
   "cell_type": "code",
   "execution_count": 7,
   "id": "128c166c",
   "metadata": {},
   "outputs": [
    {
     "name": "stdout",
     "output_type": "stream",
     "text": [
      "5221/5221 [==============================] - 5s 996us/step\n"
     ]
    }
   ],
   "source": [
    "# Prediction\n",
    "pred = model.predict(x_test)"
   ]
  },
  {
   "cell_type": "code",
   "execution_count": 8,
   "id": "6ae8a5f2",
   "metadata": {},
   "outputs": [
    {
     "name": "stdout",
     "output_type": "stream",
     "text": [
      "Accuracy: 1.0\n",
      "Recall: 1.0\n",
      "Precision: 1.0\n",
      "F1Score: 1.0\n"
     ]
    }
   ],
   "source": [
    "from sklearn import metrics\n",
    "\n",
    "# Metrics for the classification\n",
    "def compute_metrics(pred, y_test):\n",
    "    predict_classes = np.argmax(pred, axis = 1)\n",
    "    expected_classes = np.argmax(y_test, axis = 1)\n",
    "    \n",
    "    correct = metrics.accuracy_score(expected_classes, predict_classes)\n",
    "    print(f\"Accuracy: {correct}\")\n",
    "    \n",
    "    recall = metrics.recall_score(expected_classes, predict_classes, average = 'weighted')    \n",
    "    print(f\"Recall: {recall}\")\n",
    "       \n",
    "    precision = metrics.precision_score(expected_classes, predict_classes, average = 'weighted')\n",
    "    print(f\"Precision: {precision}\")\n",
    "    \n",
    "    f1score = metrics.f1_score(expected_classes, predict_classes, average = 'weighted')\n",
    "    print(f\"F1Score: {f1score}\")\n",
    "    \n",
    "compute_metrics(pred, y_test)"
   ]
  },
  {
   "cell_type": "code",
   "execution_count": 9,
   "id": "58aabfd8",
   "metadata": {},
   "outputs": [
    {
     "data": {
      "text/plain": [
       "array([[105992,      0],\n",
       "       [     0,  61062]])"
      ]
     },
     "execution_count": 9,
     "metadata": {},
     "output_type": "execute_result"
    }
   ],
   "source": [
    "# Confusion Matrix\n",
    "from sklearn.metrics import confusion_matrix\n",
    "\n",
    "predict_classes = np.argmax(pred, axis = 1)\n",
    "expected_classes = np.argmax(y_test, axis = 1)    \n",
    "    \n",
    "confusion_matrix(expected_classes, predict_classes)"
   ]
  },
  {
   "cell_type": "code",
   "execution_count": null,
   "id": "1769b988",
   "metadata": {},
   "outputs": [],
   "source": []
  }
 ],
 "metadata": {
  "kernelspec": {
   "display_name": "Python 3 (ipykernel)",
   "language": "python",
   "name": "python3"
  },
  "language_info": {
   "codemirror_mode": {
    "name": "ipython",
    "version": 3
   },
   "file_extension": ".py",
   "mimetype": "text/x-python",
   "name": "python",
   "nbconvert_exporter": "python",
   "pygments_lexer": "ipython3",
   "version": "3.9.2"
  }
 },
 "nbformat": 4,
 "nbformat_minor": 5
}
