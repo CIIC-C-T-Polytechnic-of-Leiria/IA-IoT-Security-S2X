{
 "cells": [
  {
   "cell_type": "markdown",
   "id": "d2ccf654",
   "metadata": {},
   "source": [
    "### Data Encoding & Neural Network - Multiclass Classification SMOTE-NC - V2 - CIIC Research - José P. Areia"
   ]
  },
  {
   "cell_type": "markdown",
   "id": "5dd7afa6",
   "metadata": {},
   "source": [
    "**The table below represents all the fields of the dataset as well as their descriptions and the encoding process done in each one of the fields.**\n",
    "\n",
    "Type of pre-processing / data encoding done: <mark>Categorical Values (Dummies)</mark>, <mark>Z-Score Normalization</mark>, <mark>Empty Cells Filling</mark>, and <mark>Value Replacing.</mark>\n",
    "\n",
    "It's important to notice that the fields **attack_type** and **is_malicious** were later added to the dataset in order to distinguish normal traffic from the malicious one, and to identify what type of attack was done. The list below represents a numerical classification represented in the field **attack_type**.\n",
    "\n",
    "- \\[0\\] - Normal\n",
    "- \\[1\\] - DoS\n",
    "- \\[2\\] - Sinkhole\n",
    "\n",
    "| Field                        | Description                                                                                                                            |  Deleted | Categorical Values (Dummies) | Z-Score Normalization | Empty Cells Filling |\n",
    "|:------------------------------|:----------------------------------------------------------------------------------------------------------------------------------------|:--------:|:----------------------------:|:---------------------:|:-------------------:|\n",
    "| ipv6.plen                    | Payload length                                                                                                                         | -        | -                            | &#x2714;              | &#x2714;            |\n",
    "| icmpv6.rpl.dao.sequence      | DAO Sequence                                                                                                                           | &#x2714; | -                            | -                     | -                   |\n",
    "| frame.protocols              | Protocols in frame                                                                                                                     | &#x2714; | -                            | -                     | -                   |\n",
    "| ip.len                       | Total Length                                                                                                                           | -        | &#x2714;                     | -                     | -                   |\n",
    "| icmpv6.rpl.dio.dagid         | DODAGID - Identifies a DODAG [RFC 9009](https://www.rfc-editor.org/rfc/rfc9009.html#name-destination-cleanup-object-)                  | &#x2714; | -                            | -                     | -                   |\n",
    "| ip.src                       | Source Address                                                                                                                         | &#x2714; | -                            | -                     | -                   |\n",
    "| ipv6.dst                     | Destination address                                                                                                                    | &#x2714; | -                            | -                     | -                   |\n",
    "| ip.dst                       | Destination address                                                                                                                    | &#x2714; | -                            | -                     | -                   |\n",
    "| ip.version                   | Version                                                                                                                                | -        | &#x2714;                     | -                     | -                   |\n",
    "| icmpv6.rpl.opt.target.prefix | Target                                                                                                                                 | &#x2714; | -                            |                       | -                   |\n",
    "| frame.len                    | Frame length on the wire                                                                                                               | -        | -                            | &#x2714;              | -                   |\n",
    "| icmpv6.rpl.opt.type          | RPL Options type                                                                                                                       | -        | &#x2714;                     | -                     | -                   |\n",
    "| icmpv6.code                  | ICMPv6 Code - [IANA Table Code](https://www.iana.org/assignments/icmpv6-parameters/icmpv6-parameters.xhtml#icmpv6-parameters-3)        | -        | &#x2714;                     | -                     | -                   |\n",
    "| udp.srcport                  | Source port                                                                                                                            | &#x2714; | -                            | -                     | -                   |\n",
    "| ipv6.nxt                     | Next header                                                                                                                            | -        | &#x2714;                     | -                     | -                   |\n",
    "| udp.length                   | UDP Frame length                                                                                                                       | &#x2714; | -                            | -                     | -                   |\n",
    "| ip.proto                     | Protocol                                                                                                                               | -        | -                            | -                     | &#x2714;            |\n",
    "| ipv6.src                     | Source address                                                                                                                         | &#x2714; | -                            | -                     | -                   |\n",
    "| icmpv6.rpl.opt.length        | Option length                                                                                                                          | -        | -                            | &#x2714;              | &#x2714;            |\n",
    "| udp.dstport                  | Destination port                                                                                                                       | &#x2714; | -                            | -                     | -                   |\n",
    "| icmpv6.rpl.dio.rank          | DIO Rank                                                                                                                               | -        | -                            | &#x2714;              | &#x2714;            |\n",
    "| icmpv6.type                  | ICMPv6 Type - [IANA Type Table Codes](https://www.iana.org/assignments/icmpv6-parameters/icmpv6-parameters.xhtml#icmpv6-parameters-2)  | -        | -                            | -                     | &#x2714;            |\n",
    "| ip.flags                     | Flags                                                                                                                                  | &#x2714; | -                            | -                     | -                   |\n",
    "| ipv6.version                 | Version                                                                                                                                | &#x2714; | -                            | -                     | -                   |\n",
    "| tcp.dstport                  | Destination Port                                                                                                                       | &#x2714; | -                            | -                     | -                   |\n",
    "| tcp.flags                    | Flags                                                                                                                                  | &#x2714; | -                            | -                     | -                   |\n",
    "| tcp.len                      | TCP Segment Len                                                                                                                        | &#x2714; | -                            | -                     | -                   |\n",
    "| tcp.nxtseq                   | Next Sequence Number                                                                                                                   | &#x2714; | -                            | -                     | -                   |\n",
    "| tcp.port                     | Source or Destination Port                                                                                                             | &#x2714; | -                            | -                     | -                   |\n",
    "| tcp.srcport                  | Source Port                                                                                                                            | &#x2714; | -                            | -                     | -                   |\n",
    "| **is_malicious**\\*           | Distinguish normal traffic from malicious one                                                                                          | -        | -                            | -                     | -                   |\n",
    "| **attack_type**\\*            | Type of attack                                                                                                                         | -        | -                            | -                     | -                   |"
   ]
  },
  {
   "cell_type": "code",
   "execution_count": 1,
   "id": "ec12b68d",
   "metadata": {},
   "outputs": [],
   "source": [
    "# Tensorflow logging: OFF\n",
    "import os\n",
    "os.environ['TF_CPP_MIN_LOG_LEVEL'] = '3'"
   ]
  },
  {
   "cell_type": "markdown",
   "id": "8050ab89",
   "metadata": {},
   "source": [
    "**The next blocks of code are for defining the methods used for the pre-processing and data encoding.**\n",
    "\n",
    "The methods are the following: <mark>read_data</mark>, <mark>delete_fields</mark>, <mark>fill_empty_cells</mark>, <mark>zscore_fields_normalization</mark>, <mark>dummy_encode</mark>, and <mark>value_replacing</mark>. More details in the blocks of code below."
   ]
  },
  {
   "cell_type": "code",
   "execution_count": 2,
   "id": "04fdc756",
   "metadata": {},
   "outputs": [],
   "source": [
    "import pandas as pd\n",
    "\n",
    "# Import dataset\n",
    "def read_data(dataset):\n",
    "    df = pd.read_csv(dataset)\n",
    "    return df\n",
    "\n",
    "    print(f'[DONE] Dataset Import')"
   ]
  },
  {
   "cell_type": "code",
   "execution_count": 3,
   "id": "22300767",
   "metadata": {},
   "outputs": [],
   "source": [
    "# Delete Unnecessary Fields\n",
    "def delete_fields(df, fields):\n",
    "    for i in fields:\n",
    "        df.drop(i, axis = 1, inplace = True)\n",
    "        \n",
    "    print(f'[DONE] Fields Deleted')"
   ]
  },
  {
   "cell_type": "code",
   "execution_count": 4,
   "id": "3ff24a23",
   "metadata": {},
   "outputs": [],
   "source": [
    "# Fill Empty Cells With N Value\n",
    "def fill_empty_cells(df, fields, n):\n",
    "    for i in fields:\n",
    "        df[i] = df[i].fillna(n)\n",
    "    \n",
    "    print(f'[DONE] Empty Cells Filling')"
   ]
  },
  {
   "cell_type": "code",
   "execution_count": 5,
   "id": "9fb38d44",
   "metadata": {},
   "outputs": [],
   "source": [
    "from scipy.stats import zscore\n",
    "\n",
    "# Z-Score Normalization\n",
    "def zscore_normalization(df, fields):\n",
    "    for i in fields:\n",
    "        df[i] = zscore(df[i])\n",
    "\n",
    "    print(f'[DONE] Z-Score Normalization')"
   ]
  },
  {
   "cell_type": "code",
   "execution_count": 6,
   "id": "b4cb0515",
   "metadata": {},
   "outputs": [],
   "source": [
    "# Replace old value for a new one \n",
    "def value_replacing(df, field, old_value, new_value):\n",
    "    df[field] = df[field].replace(old_value, new_value)\n",
    "\n",
    "    print(f'[DONE] Value Replacing')"
   ]
  },
  {
   "cell_type": "code",
   "execution_count": 7,
   "id": "984b589a",
   "metadata": {},
   "outputs": [],
   "source": [
    "# Convert fields to dummy variables\n",
    "def dummy_encode(df, fields):\n",
    "    for i in fields:\n",
    "        df = pd.concat([df, pd.get_dummies(df[i], prefix = i)], axis = 1)\n",
    "        df.drop(i, axis = 1, inplace = True)\n",
    "    \n",
    "    print(f'[DONE] Categorical Values (Dummies)')\n",
    "    \n",
    "    return df"
   ]
  },
  {
   "cell_type": "code",
   "execution_count": 8,
   "id": "2f54ff8b",
   "metadata": {
    "scrolled": false
   },
   "outputs": [
    {
     "name": "stderr",
     "output_type": "stream",
     "text": [
      "/tmp/ipykernel_13250/3128528839.py:5: DtypeWarning: Columns (4,22) have mixed types. Specify dtype option on import or set low_memory=False.\n",
      "  df = pd.read_csv(dataset)\n"
     ]
    }
   ],
   "source": [
    "# Import Dataset & Read Data\n",
    "df = read_data('Datasets/NETSIM_Anomalous_Traffic_FINAL.csv')"
   ]
  },
  {
   "cell_type": "markdown",
   "id": "d0427ff4",
   "metadata": {},
   "source": [
    "The above code will reproduce an warning saying the following **\"DtypeWarning: Columns (4,22) have mixed types\"**. Since the the collumns 4 and 22 represent the fields <mark>icmpv6.rpl.dio.dagid</mark> and <mark>tcp.flags</mark> respectively, and these collumns are going to be deleted later in this notebook, there is no problem whatsoever about the warning shown."
   ]
  },
  {
   "cell_type": "code",
   "execution_count": 9,
   "id": "cecce6e6",
   "metadata": {},
   "outputs": [
    {
     "name": "stdout",
     "output_type": "stream",
     "text": [
      "[DONE] Fields Deleted\n"
     ]
    }
   ],
   "source": [
    "# Fields -- Deleted Fields\n",
    "f_delete = [\n",
    "    'icmpv6.rpl.dao.sequence', 'frame.protocols', 'icmpv6.rpl.dio.dagid', 'ip.src', 'ipv6.dst', 'ip.dst',\n",
    "    'icmpv6.rpl.opt.target.prefix', 'udp.srcport', 'udp.length', 'ipv6.src', 'udp.dstport', 'ip.flags',\n",
    "    'ipv6.version', 'tcp.dstport', 'tcp.flags', 'tcp.len', 'tcp.nxtseq', 'tcp.port', 'tcp.srcport'\n",
    "]\n",
    "\n",
    "delete_fields(df, f_delete)"
   ]
  },
  {
   "cell_type": "code",
   "execution_count": 10,
   "id": "0c77d7d4",
   "metadata": {},
   "outputs": [
    {
     "name": "stdout",
     "output_type": "stream",
     "text": [
      "[DONE] Empty Cells Filling\n"
     ]
    }
   ],
   "source": [
    "# Fields -- Empty Cells Filling\n",
    "fill_0 = [\n",
    "    'ipv6.plen', 'ip.proto', 'icmpv6.rpl.opt.length', 'icmpv6.rpl.dio.rank', 'icmpv6.type'\n",
    "]\n",
    "\n",
    "fill_empty_cells(df, fill_0, 0) # Fill: 0"
   ]
  },
  {
   "cell_type": "code",
   "execution_count": 11,
   "id": "1b29fd15",
   "metadata": {},
   "outputs": [
    {
     "name": "stdout",
     "output_type": "stream",
     "text": [
      "[DONE] Empty Cells Filling + Convert to Object -- Categorical Values\n"
     ]
    }
   ],
   "source": [
    "# Empty Cells Filling + Convert to Object\n",
    "dummy_fields = [\n",
    "    'icmpv6.code', 'ip.len', 'ip.version', 'ipv6.nxt', 'icmpv6.rpl.opt.type'\n",
    "]\n",
    "\n",
    "for i in dummy_fields:\n",
    "    df[i] = df[i].fillna(0)\n",
    "    df[i] = df[i].astype(object)\n",
    "    \n",
    "print(f'[DONE] Empty Cells Filling + Convert to Object -- Categorical Values')    "
   ]
  },
  {
   "cell_type": "markdown",
   "id": "f994d17c",
   "metadata": {},
   "source": [
    "#### SMOTE-NC Application"
   ]
  },
  {
   "cell_type": "code",
   "execution_count": 13,
   "id": "ce253533",
   "metadata": {},
   "outputs": [
    {
     "name": "stdout",
     "output_type": "stream",
     "text": [
      "[DONE] Split dataset -- Train + Test\n"
     ]
    }
   ],
   "source": [
    "# Split dataset -- Train + Test\n",
    "df_train = df.sample(frac = 0.75, random_state = 10)\n",
    "df_test = df.drop(df_train.index)\n",
    "\n",
    "print(f'[DONE] Split dataset -- Train + Test')    "
   ]
  },
  {
   "cell_type": "code",
   "execution_count": 14,
   "id": "90522250",
   "metadata": {},
   "outputs": [],
   "source": [
    "def apply_smotenc_bigdata(df: pd.DataFrame, label: str, categorical_indices: list = [], random_state: int = 0) -> pd.DataFrame:\n",
    "    import numpy as np  \n",
    "    from imblearn.over_sampling import SMOTENC\n",
    "    \n",
    "    # Make a copy of the input dataframe and separate the target variable column\n",
    "    X_resampled = df.copy()\n",
    "    X_resampled = X_resampled.drop(columns=[label])\n",
    "    y_resampled = df[label].copy()\n",
    "    \n",
    "    # Apply the SMOTENC algorithm to oversample the dataset\n",
    "    print(f\"Starting SMOTENC -- Size of the dataframe: {df.size} \")\n",
    "    \n",
    "    # Apply the SMOTENC algorithm to oversample the dataset\n",
    "    smote_nc = SMOTENC(\n",
    "        categorical_features = categorical_indices, \n",
    "        random_state = random_state,\n",
    "        sampling_strategy = \"minority\"\n",
    "    )\n",
    "\n",
    "    for labels in np.unique(y_resampled):\n",
    "        X_resampled, y_resampled = smote_nc.fit_resample(X_resampled, y_resampled)\n",
    "    \n",
    "    df_smote = pd.DataFrame(X_resampled, columns = X_resampled.columns)\n",
    "    df_smote[label] = y_resampled\n",
    "    \n",
    "    # Print the size of the original and oversampled datasets, and return the oversampled dataset\n",
    "    print(f\"Finished SMOTENC -- Size of the dataframe: {df_smote.size}\")\n",
    "    \n",
    "    return df_smote"
   ]
  },
  {
   "cell_type": "code",
   "execution_count": 15,
   "id": "28dd9ea6",
   "metadata": {
    "scrolled": false
   },
   "outputs": [
    {
     "name": "stdout",
     "output_type": "stream",
     "text": [
      "Starting SMOTENC -- Size of the dataframe: 10223603 \n",
      "Finished SMOTENC -- Size of the dataframe: 29006445\n",
      "[DONE] SMOTE-NC Application\n"
     ]
    }
   ],
   "source": [
    "features = [ col for col in df_train.columns if col not in [\"attack_type\"]]\n",
    "featuresIndex = []\n",
    "\n",
    "for i in dummy_fields:\n",
    "    featuresIndex.append(features.index(i))\n",
    "\n",
    "df_train = apply_smotenc_bigdata(\n",
    "    df = df_train, \n",
    "    label = \"attack_type\",\n",
    "    categorical_indices = featuresIndex,\n",
    "    random_state = 10\n",
    ")\n",
    "\n",
    "print(f'[DONE] SMOTE-NC Application')"
   ]
  },
  {
   "cell_type": "code",
   "execution_count": 16,
   "id": "b4dcaf31",
   "metadata": {},
   "outputs": [],
   "source": [
    "# Concat the train STOME dataframe with the test\n",
    "df = pd.concat([df_train, df_test], keys = [0, 1])"
   ]
  },
  {
   "cell_type": "markdown",
   "id": "2114e7aa",
   "metadata": {},
   "source": [
    "#### Resuming the Data Encoding"
   ]
  },
  {
   "cell_type": "code",
   "execution_count": 20,
   "id": "c2613832",
   "metadata": {},
   "outputs": [
    {
     "name": "stdout",
     "output_type": "stream",
     "text": [
      "[DONE] Z-Score Normalization\n"
     ]
    }
   ],
   "source": [
    "# Fields -- Z-Score Normalization\n",
    "zscore_fields = [\n",
    "    'ipv6.plen', 'frame.len', 'icmpv6.rpl.opt.length', 'icmpv6.rpl.dio.rank'\n",
    "]\n",
    "\n",
    "zscore_normalization(df, zscore_fields)"
   ]
  },
  {
   "cell_type": "code",
   "execution_count": 21,
   "id": "9ec9c220",
   "metadata": {},
   "outputs": [
    {
     "name": "stdout",
     "output_type": "stream",
     "text": [
      "[DONE] Value Replacing\n"
     ]
    }
   ],
   "source": [
    "df = df.replace({'attack_type' : {6:1, 7:2}})\n",
    "df = df.replace({'icmpv6.type' : {155:1}})\n",
    "\n",
    "print(f'[DONE] Value Replacing')"
   ]
  },
  {
   "cell_type": "code",
   "execution_count": 22,
   "id": "97fd57b4",
   "metadata": {},
   "outputs": [
    {
     "name": "stderr",
     "output_type": "stream",
     "text": [
      "/tmp/ipykernel_13250/586460330.py:4: FutureWarning: In a future version, the Index constructor will not infer numeric dtypes when passed object-dtype sequences (matching Series behavior)\n",
      "  df = pd.concat([df, pd.get_dummies(df[i], prefix = i)], axis = 1)\n",
      "/tmp/ipykernel_13250/586460330.py:4: FutureWarning: In a future version, the Index constructor will not infer numeric dtypes when passed object-dtype sequences (matching Series behavior)\n",
      "  df = pd.concat([df, pd.get_dummies(df[i], prefix = i)], axis = 1)\n",
      "/tmp/ipykernel_13250/586460330.py:4: FutureWarning: In a future version, the Index constructor will not infer numeric dtypes when passed object-dtype sequences (matching Series behavior)\n",
      "  df = pd.concat([df, pd.get_dummies(df[i], prefix = i)], axis = 1)\n",
      "/tmp/ipykernel_13250/586460330.py:4: FutureWarning: In a future version, the Index constructor will not infer numeric dtypes when passed object-dtype sequences (matching Series behavior)\n",
      "  df = pd.concat([df, pd.get_dummies(df[i], prefix = i)], axis = 1)\n"
     ]
    },
    {
     "name": "stdout",
     "output_type": "stream",
     "text": [
      "[DONE] Categorical Values (Dummies)\n"
     ]
    },
    {
     "name": "stderr",
     "output_type": "stream",
     "text": [
      "/tmp/ipykernel_13250/586460330.py:4: FutureWarning: In a future version, the Index constructor will not infer numeric dtypes when passed object-dtype sequences (matching Series behavior)\n",
      "  df = pd.concat([df, pd.get_dummies(df[i], prefix = i)], axis = 1)\n"
     ]
    }
   ],
   "source": [
    "# Fields -- Categorical Values\n",
    "dummy_fields = [\n",
    "    'icmpv6.code', 'ip.len', 'ip.version', 'ipv6.nxt', 'icmpv6.rpl.opt.type'\n",
    "]\n",
    "\n",
    "df = dummy_encode(df, dummy_fields)"
   ]
  },
  {
   "cell_type": "code",
   "execution_count": 23,
   "id": "a3ed75ef",
   "metadata": {},
   "outputs": [],
   "source": [
    "# Save the dataset\n",
    "df.to_csv(\"Datasets/NETSIM_Anomalous_Traffic_FINAL_SMOTENC.csv\")"
   ]
  },
  {
   "cell_type": "markdown",
   "id": "2ac6b9c4",
   "metadata": {},
   "source": [
    "> &#x26a0; **If the SMOTE-NC was already done, you can just go from this point further.**"
   ]
  },
  {
   "cell_type": "code",
   "execution_count": null,
   "id": "5f9a5d0e",
   "metadata": {},
   "outputs": [],
   "source": [
    "# Import Dataset & Read Data\n",
    "df = read_data('Datasets/NETSIM_Anomalous_Traffic_FINAL_SMOTENC.csv')"
   ]
  },
  {
   "cell_type": "code",
   "execution_count": 24,
   "id": "b7060412",
   "metadata": {},
   "outputs": [
    {
     "name": "stdout",
     "output_type": "stream",
     "text": [
      "[DONE] Numpy Classification\n"
     ]
    }
   ],
   "source": [
    "import numpy as np\n",
    "\n",
    "# Convert to Numpy Classification\n",
    "\n",
    "# Classification Type: 0 - Binary / 1 - Multiclass\n",
    "classification_type = 1\n",
    "\n",
    "# For a multiclass classification, drop both 'is_malicious' and 'attack_type' collumn\n",
    "\n",
    "# For a binary classification, use 'is_malicious' as target collumn\n",
    "# For a multiclass classification, use 'attack_type' as target collumn\n",
    "\n",
    "if (classification_type):\n",
    "    x_columns = df.columns.drop(['attack_type', 'is_malicious'])\n",
    "    dummies = pd.get_dummies(df['attack_type'])\n",
    "else:\n",
    "    x_columns = df.columns.drop('is_malicious')\n",
    "    dummies = pd.get_dummies(df['is_malicious'])\n",
    "    \n",
    "x = df[x_columns].values\n",
    "attack = dummies.columns\n",
    "y = dummies.values\n",
    "\n",
    "print(f'[DONE] Numpy Classification')"
   ]
  },
  {
   "cell_type": "code",
   "execution_count": 25,
   "id": "3ebf13ce",
   "metadata": {
    "scrolled": true
   },
   "outputs": [
    {
     "name": "stdout",
     "output_type": "stream",
     "text": [
      "[DONE] Training + Validation splitting\n"
     ]
    }
   ],
   "source": [
    "from sklearn.model_selection import train_test_split\n",
    "\n",
    "# Training validation splitting \n",
    "x_train, x_test, y_train, y_test = train_test_split(\n",
    "    x,\n",
    "    y,\n",
    "    test_size = 0.25,\n",
    "    random_state = 10\n",
    ")\n",
    "\n",
    "print(f'[DONE] Training + Validation splitting')"
   ]
  },
  {
   "cell_type": "code",
   "execution_count": 26,
   "id": "4c09a806",
   "metadata": {},
   "outputs": [
    {
     "name": "stdout",
     "output_type": "stream",
     "text": [
      "[DONE] Training dataset saved\n",
      "[DONE] Testing dataset saved\n"
     ]
    }
   ],
   "source": [
    "import pickle as pkl\n",
    "\n",
    "# Save training dataset\n",
    "with open(\"Saved_Datasets/NetSim/NetSim_Training_Dataset_FINAL_SMOTENC.pkl\", \"wb\") as f:\n",
    "    pkl.dump([x_train, y_train], f)\n",
    "    \n",
    "# Save test dataset\n",
    "with open(\"Saved_Datasets/NetSim/NetSim_Testing_Dataset_FINAL_SMOTENC.pkl\", \"wb\") as f:\n",
    "    pkl.dump([x_test, y_test], f)\n",
    "    \n",
    "print(f'[DONE] Training dataset saved')\n",
    "print(f'[DONE] Testing dataset saved')"
   ]
  },
  {
   "cell_type": "markdown",
   "id": "64839dca",
   "metadata": {},
   "source": [
    "#### If the dataset splited is already saved, you can go from this point furhter without running the blocks of code above.\n",
    "\n",
    "The datasets are the following (<mark>both are saved under the directory Saved_Datasets</mark>):\n",
    "- NetSim_Training_Dataset.pkl\n",
    "- NetSim_Testing_Dataset.pkl"
   ]
  },
  {
   "cell_type": "code",
   "execution_count": null,
   "id": "430ee626",
   "metadata": {},
   "outputs": [],
   "source": [
    "import pickle as pkl\n",
    "\n",
    "# Load training dataset \n",
    "with open(\"Saved_Datasets/NetSim/NetSim_Training_Dataset_FINAL_SMOTENC.pkl\", \"rb\") as f:\n",
    "    x_train, y_train = pkl.load(f)\n",
    "\n",
    "# Load testing dataset \n",
    "with open(\"Saved_Datasets/NetSim/NetSim_Testing_Dataset_FINAL_SMOTENC.pkl\", \"rb\") as f:\n",
    "    x_test, y_test = pkl.load(f)\n",
    "\n",
    "print(f'[DONE] Training dataset loaded')\n",
    "print(f'[DONE] Testing dataset loaded')"
   ]
  },
  {
   "cell_type": "code",
   "execution_count": 27,
   "id": "808caa05",
   "metadata": {},
   "outputs": [],
   "source": [
    "import tensorflow.keras\n",
    "from tensorflow.keras import backend as K\n",
    "\n",
    "# Metrics for real-time usage in the model below\n",
    "def recall_m(y_true, y_pred):\n",
    "    true_positives = K.sum(K.round(K.clip(y_true * y_pred, 0, 1)))\n",
    "    possible_positives = K.sum(K.round(K.clip(y_true, 0, 1)))\n",
    "    recall = true_positives / (possible_positives + K.epsilon())\n",
    "    return recall\n",
    "\n",
    "def precision_m(y_true, y_pred):\n",
    "    true_positives = K.sum(K.round(K.clip(y_true * y_pred, 0, 1)))\n",
    "    predicted_positives = K.sum(K.round(K.clip(y_pred, 0, 1)))\n",
    "    precision = true_positives / (predicted_positives + K.epsilon())\n",
    "    return precision\n",
    "\n",
    "def f1_m(y_true, y_pred):\n",
    "    precision = precision_m(y_true, y_pred)\n",
    "    recall = recall_m(y_true, y_pred)\n",
    "    return 2 * ((precision * recall) / (precision + recall + K.epsilon()))"
   ]
  },
  {
   "cell_type": "code",
   "execution_count": 28,
   "id": "efd15c22",
   "metadata": {
    "scrolled": false
   },
   "outputs": [
    {
     "name": "stdout",
     "output_type": "stream",
     "text": [
      "Epoch 1/200\n",
      "58440/58440 - 86s - loss: 0.1927 - f1_m: 0.9398 - val_loss: 0.1867 - val_f1_m: 0.9416 - lr: 0.0010 - 86s/epoch - 1ms/step\n",
      "Epoch 2/200\n",
      "58440/58440 - 92s - loss: 0.1881 - f1_m: 0.9414 - val_loss: 0.1868 - val_f1_m: 0.9416 - lr: 0.0010 - 92s/epoch - 2ms/step\n",
      "Epoch 3/200\n",
      "58440/58440 - 85s - loss: 0.1895 - f1_m: 0.9413 - val_loss: 0.1868 - val_f1_m: 0.9416 - lr: 0.0010 - 85s/epoch - 1ms/step\n",
      "Epoch 4/200\n",
      "58440/58440 - 71s - loss: 0.1925 - f1_m: 0.9412 - val_loss: 0.1867 - val_f1_m: 0.9416 - lr: 0.0010 - 71s/epoch - 1ms/step\n",
      "Epoch 5/200\n",
      "58440/58440 - 70s - loss: 0.1898 - f1_m: 0.9412 - val_loss: 0.1867 - val_f1_m: 0.9416 - lr: 0.0010 - 70s/epoch - 1ms/step\n",
      "Epoch 6/200\n",
      "58440/58440 - 71s - loss: 0.1937 - f1_m: 0.9411 - val_loss: 0.1868 - val_f1_m: 0.9416 - lr: 0.0010 - 71s/epoch - 1ms/step\n",
      "Epoch 7/200\n",
      "58440/58440 - 70s - loss: 0.1919 - f1_m: 0.9410 - val_loss: 0.1868 - val_f1_m: 0.9416 - lr: 0.0010 - 70s/epoch - 1ms/step\n",
      "Epoch 8/200\n",
      "58440/58440 - 70s - loss: 0.1938 - f1_m: 0.9411 - val_loss: 0.1868 - val_f1_m: 0.9416 - lr: 0.0010 - 70s/epoch - 1ms/step\n",
      "Epoch 9/200\n",
      "58440/58440 - 70s - loss: 0.1940 - f1_m: 0.9411 - val_loss: 0.1869 - val_f1_m: 0.9416 - lr: 0.0010 - 70s/epoch - 1ms/step\n",
      "Epoch 10/200\n",
      "58440/58440 - 70s - loss: 0.1949 - f1_m: 0.9411 - val_loss: 0.1950 - val_f1_m: 0.9416 - lr: 0.0010 - 70s/epoch - 1ms/step\n",
      "Epoch 11/200\n",
      "\n",
      "Epoch 11: ReduceLROnPlateau reducing learning rate to 0.0005000000237487257.\n",
      "58440/58440 - 70s - loss: 0.1965 - f1_m: 0.9410 - val_loss: 0.1955 - val_f1_m: 0.9416 - lr: 0.0010 - 70s/epoch - 1ms/step\n",
      "Epoch 12/200\n",
      "58440/58440 - 70s - loss: 0.1966 - f1_m: 0.9411 - val_loss: 0.1948 - val_f1_m: 0.9416 - lr: 5.0000e-04 - 70s/epoch - 1ms/step\n",
      "Epoch 13/200\n",
      "58440/58440 - 70s - loss: 0.1983 - f1_m: 0.9411 - val_loss: 0.1948 - val_f1_m: 0.9416 - lr: 5.0000e-04 - 70s/epoch - 1ms/step\n",
      "Epoch 14/200\n",
      "58440/58440 - 70s - loss: 0.1965 - f1_m: 0.9411 - val_loss: 0.1948 - val_f1_m: 0.9416 - lr: 5.0000e-04 - 70s/epoch - 1ms/step\n",
      "Epoch 15/200\n",
      "58440/58440 - 71s - loss: 0.1965 - f1_m: 0.9411 - val_loss: 0.1947 - val_f1_m: 0.9416 - lr: 5.0000e-04 - 71s/epoch - 1ms/step\n",
      "Epoch 16/200\n",
      "58440/58440 - 71s - loss: 0.1964 - f1_m: 0.9412 - val_loss: 0.1947 - val_f1_m: 0.9416 - lr: 5.0000e-04 - 71s/epoch - 1ms/step\n",
      "Epoch 17/200\n",
      "58440/58440 - 70s - loss: 0.1966 - f1_m: 0.9412 - val_loss: 0.1948 - val_f1_m: 0.9416 - lr: 5.0000e-04 - 70s/epoch - 1ms/step\n",
      "Epoch 18/200\n",
      "58440/58440 - 70s - loss: 0.1963 - f1_m: 0.9412 - val_loss: 0.1947 - val_f1_m: 0.9416 - lr: 5.0000e-04 - 70s/epoch - 1ms/step\n",
      "Epoch 19/200\n",
      "58440/58440 - 70s - loss: 0.1964 - f1_m: 0.9412 - val_loss: 0.1948 - val_f1_m: 0.9416 - lr: 5.0000e-04 - 70s/epoch - 1ms/step\n",
      "Epoch 20/200\n",
      "58440/58440 - 70s - loss: 0.1963 - f1_m: 0.9412 - val_loss: 0.1948 - val_f1_m: 0.9416 - lr: 5.0000e-04 - 70s/epoch - 1ms/step\n",
      "Epoch 21/200\n",
      "\n",
      "Epoch 21: ReduceLROnPlateau reducing learning rate to 0.0002500000118743628.\n",
      "58440/58440 - 70s - loss: 0.1965 - f1_m: 0.9412 - val_loss: 0.1947 - val_f1_m: 0.9416 - lr: 5.0000e-04 - 70s/epoch - 1ms/step\n",
      "Epoch 22/200\n",
      "58440/58440 - 70s - loss: 0.1962 - f1_m: 0.9413 - val_loss: 0.1946 - val_f1_m: 0.9426 - lr: 2.5000e-04 - 70s/epoch - 1ms/step\n",
      "Epoch 23/200\n",
      "58440/58440 - 70s - loss: 0.1965 - f1_m: 0.9413 - val_loss: 0.1946 - val_f1_m: 0.9416 - lr: 2.5000e-04 - 70s/epoch - 1ms/step\n",
      "Epoch 24/200\n",
      "58440/58440 - 70s - loss: 0.1964 - f1_m: 0.9414 - val_loss: 0.1946 - val_f1_m: 0.9416 - lr: 2.5000e-04 - 70s/epoch - 1ms/step\n",
      "Epoch 25/200\n",
      "58440/58440 - 70s - loss: 0.1962 - f1_m: 0.9414 - val_loss: 0.1947 - val_f1_m: 0.9416 - lr: 2.5000e-04 - 70s/epoch - 1ms/step\n",
      "Epoch 26/200\n",
      "58440/58440 - 70s - loss: 0.1962 - f1_m: 0.9414 - val_loss: 0.1947 - val_f1_m: 0.9416 - lr: 2.5000e-04 - 70s/epoch - 1ms/step\n",
      "Epoch 27/200\n",
      "58440/58440 - 70s - loss: 0.1966 - f1_m: 0.9414 - val_loss: 0.1947 - val_f1_m: 0.9416 - lr: 2.5000e-04 - 70s/epoch - 1ms/step\n",
      "Epoch 28/200\n",
      "58440/58440 - 70s - loss: 0.1989 - f1_m: 0.9413 - val_loss: 0.1946 - val_f1_m: 0.9416 - lr: 2.5000e-04 - 70s/epoch - 1ms/step\n",
      "Epoch 29/200\n",
      "58440/58440 - 70s - loss: 0.1961 - f1_m: 0.9414 - val_loss: 0.1946 - val_f1_m: 0.9416 - lr: 2.5000e-04 - 70s/epoch - 1ms/step\n",
      "Epoch 30/200\n",
      "58440/58440 - 70s - loss: 0.1967 - f1_m: 0.9414 - val_loss: 0.1947 - val_f1_m: 0.9416 - lr: 2.5000e-04 - 70s/epoch - 1ms/step\n",
      "Epoch 31/200\n",
      "\n",
      "Epoch 31: ReduceLROnPlateau reducing learning rate to 0.0001250000059371814.\n",
      "58440/58440 - 70s - loss: 0.1968 - f1_m: 0.9414 - val_loss: 0.1946 - val_f1_m: 0.9416 - lr: 2.5000e-04 - 70s/epoch - 1ms/step\n",
      "Epoch 32/200\n",
      "58440/58440 - 70s - loss: 0.1959 - f1_m: 0.9415 - val_loss: 0.1945 - val_f1_m: 0.9426 - lr: 1.2500e-04 - 70s/epoch - 1ms/step\n",
      "Epoch 33/200\n",
      "58440/58440 - 70s - loss: 0.1945 - f1_m: 0.9415 - val_loss: 0.1860 - val_f1_m: 0.9416 - lr: 1.2500e-04 - 70s/epoch - 1ms/step\n",
      "Epoch 34/200\n",
      "58440/58440 - 70s - loss: 0.1922 - f1_m: 0.9415 - val_loss: 0.1859 - val_f1_m: 0.9426 - lr: 1.2500e-04 - 70s/epoch - 1ms/step\n",
      "Epoch 35/200\n",
      "58440/58440 - 70s - loss: 0.1919 - f1_m: 0.9415 - val_loss: 0.1860 - val_f1_m: 0.9416 - lr: 1.2500e-04 - 70s/epoch - 1ms/step\n",
      "Epoch 36/200\n",
      "58440/58440 - 69s - loss: 0.1923 - f1_m: 0.9415 - val_loss: 0.1860 - val_f1_m: 0.9416 - lr: 1.2500e-04 - 69s/epoch - 1ms/step\n",
      "Epoch 37/200\n",
      "58440/58440 - 70s - loss: 0.1925 - f1_m: 0.9416 - val_loss: 0.1860 - val_f1_m: 0.9426 - lr: 1.2500e-04 - 70s/epoch - 1ms/step\n",
      "Epoch 38/200\n",
      "58440/58440 - 69s - loss: 0.1916 - f1_m: 0.9416 - val_loss: 0.1860 - val_f1_m: 0.9426 - lr: 1.2500e-04 - 69s/epoch - 1ms/step\n",
      "Epoch 39/200\n",
      "58440/58440 - 69s - loss: 0.1930 - f1_m: 0.9416 - val_loss: 0.1859 - val_f1_m: 0.9426 - lr: 1.2500e-04 - 69s/epoch - 1ms/step\n",
      "Epoch 40/200\n",
      "58440/58440 - 70s - loss: 0.1933 - f1_m: 0.9417 - val_loss: 0.1860 - val_f1_m: 0.9416 - lr: 1.2500e-04 - 70s/epoch - 1ms/step\n",
      "Epoch 41/200\n",
      "58440/58440 - 70s - loss: 0.1917 - f1_m: 0.9417 - val_loss: 0.1859 - val_f1_m: 0.9426 - lr: 1.2500e-04 - 70s/epoch - 1ms/step\n",
      "Epoch 42/200\n",
      "58440/58440 - 69s - loss: 0.1926 - f1_m: 0.9417 - val_loss: 0.1859 - val_f1_m: 0.9426 - lr: 1.2500e-04 - 69s/epoch - 1ms/step\n",
      "Epoch 43/200\n",
      "58440/58440 - 69s - loss: 0.1919 - f1_m: 0.9417 - val_loss: 0.1859 - val_f1_m: 0.9426 - lr: 1.2500e-04 - 69s/epoch - 1ms/step\n",
      "Epoch 44/200\n",
      "58440/58440 - 69s - loss: 0.1925 - f1_m: 0.9417 - val_loss: 0.1858 - val_f1_m: 0.9426 - lr: 1.2500e-04 - 69s/epoch - 1ms/step\n",
      "Epoch 45/200\n",
      "58440/58440 - 70s - loss: 0.1920 - f1_m: 0.9417 - val_loss: 0.1859 - val_f1_m: 0.9426 - lr: 1.2500e-04 - 70s/epoch - 1ms/step\n",
      "Epoch 46/200\n",
      "58440/58440 - 69s - loss: 0.1925 - f1_m: 0.9418 - val_loss: 0.1858 - val_f1_m: 0.9426 - lr: 1.2500e-04 - 69s/epoch - 1ms/step\n",
      "Epoch 47/200\n",
      "58440/58440 - 69s - loss: 0.1918 - f1_m: 0.9417 - val_loss: 0.1859 - val_f1_m: 0.9426 - lr: 1.2500e-04 - 69s/epoch - 1ms/step\n",
      "Epoch 48/200\n",
      "58440/58440 - 69s - loss: 0.1924 - f1_m: 0.9417 - val_loss: 0.1858 - val_f1_m: 0.9426 - lr: 1.2500e-04 - 69s/epoch - 1ms/step\n",
      "Epoch 49/200\n",
      "58440/58440 - 69s - loss: 0.1920 - f1_m: 0.9417 - val_loss: 0.1859 - val_f1_m: 0.9426 - lr: 1.2500e-04 - 69s/epoch - 1ms/step\n",
      "Epoch 50/200\n",
      "58440/58440 - 69s - loss: 0.1933 - f1_m: 0.9417 - val_loss: 0.1858 - val_f1_m: 0.9426 - lr: 1.2500e-04 - 69s/epoch - 1ms/step\n",
      "Epoch 51/200\n",
      "58440/58440 - 69s - loss: 0.1927 - f1_m: 0.9417 - val_loss: 0.1858 - val_f1_m: 0.9426 - lr: 1.2500e-04 - 69s/epoch - 1ms/step\n",
      "Epoch 52/200\n",
      "58440/58440 - 69s - loss: 0.1920 - f1_m: 0.9417 - val_loss: 0.1858 - val_f1_m: 0.9426 - lr: 1.2500e-04 - 69s/epoch - 1ms/step\n",
      "Epoch 53/200\n",
      "58440/58440 - 69s - loss: 0.1925 - f1_m: 0.9417 - val_loss: 0.1858 - val_f1_m: 0.9426 - lr: 1.2500e-04 - 69s/epoch - 1ms/step\n",
      "Epoch 54/200\n",
      "58440/58440 - 70s - loss: 0.1926 - f1_m: 0.9417 - val_loss: 0.1858 - val_f1_m: 0.9426 - lr: 1.2500e-04 - 70s/epoch - 1ms/step\n",
      "Epoch 55/200\n",
      "58440/58440 - 69s - loss: 0.1917 - f1_m: 0.9417 - val_loss: 0.1858 - val_f1_m: 0.9426 - lr: 1.2500e-04 - 69s/epoch - 1ms/step\n",
      "Epoch 56/200\n",
      "58440/58440 - 69s - loss: 0.1921 - f1_m: 0.9417 - val_loss: 0.1859 - val_f1_m: 0.9426 - lr: 1.2500e-04 - 69s/epoch - 1ms/step\n",
      "Epoch 57/200\n",
      "58440/58440 - 69s - loss: 0.1922 - f1_m: 0.9418 - val_loss: 0.1859 - val_f1_m: 0.9416 - lr: 1.2500e-04 - 69s/epoch - 1ms/step\n",
      "Epoch 58/200\n",
      "\n",
      "Epoch 58: ReduceLROnPlateau reducing learning rate to 6.25000029685907e-05.\n"
     ]
    },
    {
     "name": "stdout",
     "output_type": "stream",
     "text": [
      "58440/58440 - 69s - loss: 0.1920 - f1_m: 0.9419 - val_loss: 0.1866 - val_f1_m: 0.9416 - lr: 1.2500e-04 - 69s/epoch - 1ms/step\n",
      "Epoch 59/200\n",
      "58440/58440 - 69s - loss: 0.1919 - f1_m: 0.9419 - val_loss: 0.1857 - val_f1_m: 0.9426 - lr: 6.2500e-05 - 69s/epoch - 1ms/step\n",
      "Epoch 60/200\n",
      "58440/58440 - 69s - loss: 0.1915 - f1_m: 0.9419 - val_loss: 0.1858 - val_f1_m: 0.9426 - lr: 6.2500e-05 - 69s/epoch - 1ms/step\n",
      "Epoch 61/200\n",
      "58440/58440 - 69s - loss: 0.1916 - f1_m: 0.9420 - val_loss: 0.1858 - val_f1_m: 0.9426 - lr: 6.2500e-05 - 69s/epoch - 1ms/step\n",
      "Epoch 62/200\n",
      "58440/58440 - 69s - loss: 0.1918 - f1_m: 0.9420 - val_loss: 0.1859 - val_f1_m: 0.9426 - lr: 6.2500e-05 - 69s/epoch - 1ms/step\n",
      "Epoch 63/200\n",
      "58440/58440 - 69s - loss: 0.1917 - f1_m: 0.9419 - val_loss: 0.1859 - val_f1_m: 0.9426 - lr: 6.2500e-05 - 69s/epoch - 1ms/step\n",
      "Epoch 64/200\n",
      "58440/58440 - 69s - loss: 0.1917 - f1_m: 0.9419 - val_loss: 0.1859 - val_f1_m: 0.9426 - lr: 6.2500e-05 - 69s/epoch - 1ms/step\n",
      "Epoch 65/200\n",
      "58440/58440 - 69s - loss: 0.1915 - f1_m: 0.9420 - val_loss: 0.1858 - val_f1_m: 0.9426 - lr: 6.2500e-05 - 69s/epoch - 1ms/step\n",
      "Epoch 66/200\n",
      "58440/58440 - 69s - loss: 0.1914 - f1_m: 0.9420 - val_loss: 0.1858 - val_f1_m: 0.9426 - lr: 6.2500e-05 - 69s/epoch - 1ms/step\n",
      "Epoch 67/200\n",
      "58440/58440 - 69s - loss: 0.1917 - f1_m: 0.9420 - val_loss: 0.1859 - val_f1_m: 0.9426 - lr: 6.2500e-05 - 69s/epoch - 1ms/step\n",
      "Epoch 68/200\n",
      "\n",
      "Epoch 68: ReduceLROnPlateau reducing learning rate to 3.125000148429535e-05.\n",
      "58440/58440 - 69s - loss: 0.1914 - f1_m: 0.9420 - val_loss: 0.1857 - val_f1_m: 0.9426 - lr: 6.2500e-05 - 69s/epoch - 1ms/step\n",
      "Epoch 69/200\n",
      "58440/58440 - 69s - loss: 0.1920 - f1_m: 0.9420 - val_loss: 0.1858 - val_f1_m: 0.9426 - lr: 3.1250e-05 - 69s/epoch - 1ms/step\n",
      "Epoch 70/200\n",
      "58440/58440 - 69s - loss: 0.1918 - f1_m: 0.9420 - val_loss: 0.1858 - val_f1_m: 0.9426 - lr: 3.1250e-05 - 69s/epoch - 1ms/step\n",
      "Epoch 71/200\n",
      "58440/58440 - 69s - loss: 0.1913 - f1_m: 0.9420 - val_loss: 0.1859 - val_f1_m: 0.9426 - lr: 3.1250e-05 - 69s/epoch - 1ms/step\n",
      "Epoch 72/200\n",
      "58440/58440 - 69s - loss: 0.1925 - f1_m: 0.9420 - val_loss: 0.1858 - val_f1_m: 0.9426 - lr: 3.1250e-05 - 69s/epoch - 1ms/step\n",
      "Epoch 73/200\n",
      "58440/58440 - 69s - loss: 0.1920 - f1_m: 0.9420 - val_loss: 0.1857 - val_f1_m: 0.9426 - lr: 3.1250e-05 - 69s/epoch - 1ms/step\n",
      "Epoch 74/200\n",
      "58440/58440 - 69s - loss: 0.1915 - f1_m: 0.9420 - val_loss: 0.1858 - val_f1_m: 0.9426 - lr: 3.1250e-05 - 69s/epoch - 1ms/step\n",
      "Epoch 75/200\n",
      "58440/58440 - 69s - loss: 0.1913 - f1_m: 0.9420 - val_loss: 0.1858 - val_f1_m: 0.9426 - lr: 3.1250e-05 - 69s/epoch - 1ms/step\n",
      "Epoch 76/200\n",
      "58440/58440 - 69s - loss: 0.1925 - f1_m: 0.9420 - val_loss: 0.1858 - val_f1_m: 0.9426 - lr: 3.1250e-05 - 69s/epoch - 1ms/step\n",
      "Epoch 77/200\n",
      "58440/58440 - 69s - loss: 0.1919 - f1_m: 0.9420 - val_loss: 0.1858 - val_f1_m: 0.9426 - lr: 3.1250e-05 - 69s/epoch - 1ms/step\n",
      "Epoch 78/200\n",
      "\n",
      "Epoch 78: ReduceLROnPlateau reducing learning rate to 1.5625000742147677e-05.\n",
      "58440/58440 - 69s - loss: 0.1916 - f1_m: 0.9420 - val_loss: 0.1858 - val_f1_m: 0.9426 - lr: 3.1250e-05 - 69s/epoch - 1ms/step\n",
      "Epoch 79/200\n",
      "58440/58440 - 69s - loss: 0.1922 - f1_m: 0.9420 - val_loss: 0.1858 - val_f1_m: 0.9426 - lr: 1.5625e-05 - 69s/epoch - 1ms/step\n",
      "Epoch 80/200\n",
      "58440/58440 - 69s - loss: 0.1923 - f1_m: 0.9420 - val_loss: 0.1858 - val_f1_m: 0.9426 - lr: 1.5625e-05 - 69s/epoch - 1ms/step\n",
      "Epoch 81/200\n",
      "58440/58440 - 70s - loss: 0.1918 - f1_m: 0.9420 - val_loss: 0.1858 - val_f1_m: 0.9426 - lr: 1.5625e-05 - 70s/epoch - 1ms/step\n",
      "Epoch 82/200\n",
      "58440/58440 - 69s - loss: 0.1914 - f1_m: 0.9420 - val_loss: 0.1858 - val_f1_m: 0.9426 - lr: 1.5625e-05 - 69s/epoch - 1ms/step\n",
      "Epoch 83/200\n",
      "58440/58440 - 70s - loss: 0.1930 - f1_m: 0.9420 - val_loss: 0.1858 - val_f1_m: 0.9426 - lr: 1.5625e-05 - 70s/epoch - 1ms/step\n",
      "Epoch 84/200\n",
      "58440/58440 - 70s - loss: 0.1914 - f1_m: 0.9420 - val_loss: 0.1858 - val_f1_m: 0.9426 - lr: 1.5625e-05 - 70s/epoch - 1ms/step\n",
      "Epoch 85/200\n",
      "58440/58440 - 69s - loss: 0.1921 - f1_m: 0.9420 - val_loss: 0.1858 - val_f1_m: 0.9426 - lr: 1.5625e-05 - 69s/epoch - 1ms/step\n",
      "Epoch 86/200\n",
      "58440/58440 - 69s - loss: 0.1915 - f1_m: 0.9420 - val_loss: 0.1858 - val_f1_m: 0.9426 - lr: 1.5625e-05 - 69s/epoch - 1ms/step\n",
      "Epoch 87/200\n",
      "58440/58440 - 69s - loss: 0.1919 - f1_m: 0.9420 - val_loss: 0.1858 - val_f1_m: 0.9426 - lr: 1.5625e-05 - 69s/epoch - 1ms/step\n",
      "Epoch 88/200\n",
      "\n",
      "Epoch 88: ReduceLROnPlateau reducing learning rate to 1e-05.\n",
      "58440/58440 - 69s - loss: 0.1923 - f1_m: 0.9420 - val_loss: 0.1858 - val_f1_m: 0.9426 - lr: 1.5625e-05 - 69s/epoch - 1ms/step\n",
      "Epoch 89/200\n",
      "58440/58440 - 69s - loss: 0.1926 - f1_m: 0.9421 - val_loss: 0.1858 - val_f1_m: 0.9426 - lr: 1.0000e-05 - 69s/epoch - 1ms/step\n",
      "Epoch 90/200\n",
      "58440/58440 - 69s - loss: 0.1915 - f1_m: 0.9420 - val_loss: 0.1858 - val_f1_m: 0.9426 - lr: 1.0000e-05 - 69s/epoch - 1ms/step\n",
      "Epoch 91/200\n",
      "58440/58440 - 69s - loss: 0.1918 - f1_m: 0.9420 - val_loss: 0.1857 - val_f1_m: 0.9426 - lr: 1.0000e-05 - 69s/epoch - 1ms/step\n",
      "Epoch 92/200\n",
      "58440/58440 - 69s - loss: 0.1915 - f1_m: 0.9420 - val_loss: 0.1858 - val_f1_m: 0.9426 - lr: 1.0000e-05 - 69s/epoch - 1ms/step\n",
      "Epoch 93/200\n",
      "58440/58440 - 70s - loss: 0.1924 - f1_m: 0.9420 - val_loss: 0.1858 - val_f1_m: 0.9426 - lr: 1.0000e-05 - 70s/epoch - 1ms/step\n",
      "Epoch 94/200\n",
      "58440/58440 - 69s - loss: 0.1918 - f1_m: 0.9421 - val_loss: 0.1858 - val_f1_m: 0.9426 - lr: 1.0000e-05 - 69s/epoch - 1ms/step\n",
      "Epoch 95/200\n",
      "58440/58440 - 69s - loss: 0.1917 - f1_m: 0.9421 - val_loss: 0.1857 - val_f1_m: 0.9426 - lr: 1.0000e-05 - 69s/epoch - 1ms/step\n",
      "Epoch 96/200\n",
      "58440/58440 - 69s - loss: 0.1916 - f1_m: 0.9420 - val_loss: 0.1858 - val_f1_m: 0.9426 - lr: 1.0000e-05 - 69s/epoch - 1ms/step\n",
      "Epoch 97/200\n",
      "58440/58440 - 69s - loss: 0.1914 - f1_m: 0.9420 - val_loss: 0.1858 - val_f1_m: 0.9426 - lr: 1.0000e-05 - 69s/epoch - 1ms/step\n",
      "Epoch 98/200\n",
      "58440/58440 - 69s - loss: 0.1915 - f1_m: 0.9421 - val_loss: 0.1857 - val_f1_m: 0.9426 - lr: 1.0000e-05 - 69s/epoch - 1ms/step\n",
      "Epoch 99/200\n",
      "58440/58440 - 69s - loss: 0.1915 - f1_m: 0.9420 - val_loss: 0.1858 - val_f1_m: 0.9426 - lr: 1.0000e-05 - 69s/epoch - 1ms/step\n",
      "Epoch 100/200\n",
      "58440/58440 - 69s - loss: 0.1917 - f1_m: 0.9420 - val_loss: 0.1857 - val_f1_m: 0.9426 - lr: 1.0000e-05 - 69s/epoch - 1ms/step\n",
      "Epoch 101/200\n",
      "58440/58440 - 69s - loss: 0.1916 - f1_m: 0.9421 - val_loss: 0.1857 - val_f1_m: 0.9426 - lr: 1.0000e-05 - 69s/epoch - 1ms/step\n",
      "Epoch 102/200\n",
      "58440/58440 - 69s - loss: 0.1913 - f1_m: 0.9420 - val_loss: 0.1858 - val_f1_m: 0.9426 - lr: 1.0000e-05 - 69s/epoch - 1ms/step\n",
      "Epoch 103/200\n",
      "58440/58440 - 70s - loss: 0.1915 - f1_m: 0.9421 - val_loss: 0.1858 - val_f1_m: 0.9426 - lr: 1.0000e-05 - 70s/epoch - 1ms/step\n",
      "Epoch 104/200\n",
      "58440/58440 - 69s - loss: 0.1915 - f1_m: 0.9420 - val_loss: 0.1858 - val_f1_m: 0.9426 - lr: 1.0000e-05 - 69s/epoch - 1ms/step\n",
      "Epoch 105/200\n",
      "58440/58440 - 69s - loss: 0.1920 - f1_m: 0.9420 - val_loss: 0.1858 - val_f1_m: 0.9426 - lr: 1.0000e-05 - 69s/epoch - 1ms/step\n",
      "Epoch 106/200\n",
      "58440/58440 - 69s - loss: 0.1914 - f1_m: 0.9421 - val_loss: 0.1858 - val_f1_m: 0.9426 - lr: 1.0000e-05 - 69s/epoch - 1ms/step\n",
      "Epoch 107/200\n",
      "58440/58440 - 69s - loss: 0.1916 - f1_m: 0.9421 - val_loss: 0.1858 - val_f1_m: 0.9426 - lr: 1.0000e-05 - 69s/epoch - 1ms/step\n",
      "Epoch 108/200\n",
      "58440/58440 - 69s - loss: 0.1916 - f1_m: 0.9421 - val_loss: 0.1858 - val_f1_m: 0.9426 - lr: 1.0000e-05 - 69s/epoch - 1ms/step\n",
      "Epoch 109/200\n",
      "58440/58440 - 69s - loss: 0.1915 - f1_m: 0.9420 - val_loss: 0.1858 - val_f1_m: 0.9426 - lr: 1.0000e-05 - 69s/epoch - 1ms/step\n",
      "Epoch 110/200\n",
      "58440/58440 - 69s - loss: 0.1923 - f1_m: 0.9420 - val_loss: 0.1858 - val_f1_m: 0.9426 - lr: 1.0000e-05 - 69s/epoch - 1ms/step\n",
      "Epoch 111/200\n",
      "58440/58440 - 69s - loss: 0.1913 - f1_m: 0.9420 - val_loss: 0.1858 - val_f1_m: 0.9426 - lr: 1.0000e-05 - 69s/epoch - 1ms/step\n",
      "Epoch 112/200\n",
      "58440/58440 - 69s - loss: 0.1921 - f1_m: 0.9420 - val_loss: 0.1858 - val_f1_m: 0.9426 - lr: 1.0000e-05 - 69s/epoch - 1ms/step\n",
      "Epoch 113/200\n",
      "58440/58440 - 69s - loss: 0.1914 - f1_m: 0.9420 - val_loss: 0.1858 - val_f1_m: 0.9426 - lr: 1.0000e-05 - 69s/epoch - 1ms/step\n",
      "Epoch 114/200\n",
      "58440/58440 - 69s - loss: 0.1920 - f1_m: 0.9420 - val_loss: 0.1857 - val_f1_m: 0.9426 - lr: 1.0000e-05 - 69s/epoch - 1ms/step\n",
      "Epoch 115/200\n",
      "58440/58440 - 69s - loss: 0.1919 - f1_m: 0.9420 - val_loss: 0.1858 - val_f1_m: 0.9426 - lr: 1.0000e-05 - 69s/epoch - 1ms/step\n"
     ]
    },
    {
     "name": "stdout",
     "output_type": "stream",
     "text": [
      "Epoch 116/200\n",
      "58440/58440 - 69s - loss: 0.1913 - f1_m: 0.9420 - val_loss: 0.1858 - val_f1_m: 0.9426 - lr: 1.0000e-05 - 69s/epoch - 1ms/step\n",
      "Epoch 117/200\n",
      "58440/58440 - 69s - loss: 0.1920 - f1_m: 0.9420 - val_loss: 0.1858 - val_f1_m: 0.9426 - lr: 1.0000e-05 - 69s/epoch - 1ms/step\n",
      "Epoch 118/200\n",
      "58440/58440 - 69s - loss: 0.1917 - f1_m: 0.9421 - val_loss: 0.1858 - val_f1_m: 0.9426 - lr: 1.0000e-05 - 69s/epoch - 1ms/step\n",
      "Epoch 119/200\n",
      "58440/58440 - 69s - loss: 0.1920 - f1_m: 0.9420 - val_loss: 0.1858 - val_f1_m: 0.9426 - lr: 1.0000e-05 - 69s/epoch - 1ms/step\n",
      "Epoch 120/200\n",
      "58440/58440 - 69s - loss: 0.1915 - f1_m: 0.9421 - val_loss: 0.1858 - val_f1_m: 0.9426 - lr: 1.0000e-05 - 69s/epoch - 1ms/step\n",
      "Epoch 121/200\n",
      "58440/58440 - 69s - loss: 0.1917 - f1_m: 0.9420 - val_loss: 0.1858 - val_f1_m: 0.9426 - lr: 1.0000e-05 - 69s/epoch - 1ms/step\n",
      "Epoch 122/200\n",
      "58440/58440 - 69s - loss: 0.1914 - f1_m: 0.9420 - val_loss: 0.1858 - val_f1_m: 0.9426 - lr: 1.0000e-05 - 69s/epoch - 1ms/step\n",
      "Epoch 123/200\n",
      "58440/58440 - 69s - loss: 0.1918 - f1_m: 0.9420 - val_loss: 0.1858 - val_f1_m: 0.9426 - lr: 1.0000e-05 - 69s/epoch - 1ms/step\n",
      "Epoch 124/200\n",
      "58440/58440 - 69s - loss: 0.1923 - f1_m: 0.9420 - val_loss: 0.1858 - val_f1_m: 0.9426 - lr: 1.0000e-05 - 69s/epoch - 1ms/step\n",
      "Epoch 125/200\n",
      "58440/58440 - 69s - loss: 0.1915 - f1_m: 0.9420 - val_loss: 0.1857 - val_f1_m: 0.9426 - lr: 1.0000e-05 - 69s/epoch - 1ms/step\n",
      "Epoch 126/200\n",
      "58440/58440 - 69s - loss: 0.1915 - f1_m: 0.9421 - val_loss: 0.1858 - val_f1_m: 0.9426 - lr: 1.0000e-05 - 69s/epoch - 1ms/step\n",
      "Epoch 127/200\n",
      "58440/58440 - 69s - loss: 0.1918 - f1_m: 0.9420 - val_loss: 0.1858 - val_f1_m: 0.9426 - lr: 1.0000e-05 - 69s/epoch - 1ms/step\n",
      "Epoch 128/200\n",
      "58440/58440 - 69s - loss: 0.1921 - f1_m: 0.9421 - val_loss: 0.1858 - val_f1_m: 0.9426 - lr: 1.0000e-05 - 69s/epoch - 1ms/step\n",
      "Epoch 129/200\n",
      "58440/58440 - 69s - loss: 0.1915 - f1_m: 0.9420 - val_loss: 0.1858 - val_f1_m: 0.9426 - lr: 1.0000e-05 - 69s/epoch - 1ms/step\n",
      "Epoch 130/200\n",
      "58440/58440 - 69s - loss: 0.1915 - f1_m: 0.9420 - val_loss: 0.1857 - val_f1_m: 0.9426 - lr: 1.0000e-05 - 69s/epoch - 1ms/step\n",
      "Epoch 131/200\n",
      "58440/58440 - 69s - loss: 0.1919 - f1_m: 0.9420 - val_loss: 0.1858 - val_f1_m: 0.9426 - lr: 1.0000e-05 - 69s/epoch - 1ms/step\n",
      "Epoch 132/200\n",
      "58440/58440 - 69s - loss: 0.1917 - f1_m: 0.9420 - val_loss: 0.1858 - val_f1_m: 0.9426 - lr: 1.0000e-05 - 69s/epoch - 1ms/step\n",
      "Epoch 133/200\n",
      "58440/58440 - 69s - loss: 0.1915 - f1_m: 0.9420 - val_loss: 0.1857 - val_f1_m: 0.9426 - lr: 1.0000e-05 - 69s/epoch - 1ms/step\n",
      "Epoch 134/200\n",
      "58440/58440 - 69s - loss: 0.1916 - f1_m: 0.9421 - val_loss: 0.1858 - val_f1_m: 0.9426 - lr: 1.0000e-05 - 69s/epoch - 1ms/step\n",
      "Epoch 135/200\n",
      "58440/58440 - 69s - loss: 0.1920 - f1_m: 0.9420 - val_loss: 0.1857 - val_f1_m: 0.9426 - lr: 1.0000e-05 - 69s/epoch - 1ms/step\n",
      "Epoch 136/200\n",
      "58440/58440 - 69s - loss: 0.1915 - f1_m: 0.9420 - val_loss: 0.1857 - val_f1_m: 0.9426 - lr: 1.0000e-05 - 69s/epoch - 1ms/step\n",
      "Epoch 137/200\n",
      "58440/58440 - 69s - loss: 0.1921 - f1_m: 0.9421 - val_loss: 0.1858 - val_f1_m: 0.9426 - lr: 1.0000e-05 - 69s/epoch - 1ms/step\n",
      "Epoch 138/200\n",
      "58440/58440 - 69s - loss: 0.1912 - f1_m: 0.9420 - val_loss: 0.1858 - val_f1_m: 0.9426 - lr: 1.0000e-05 - 69s/epoch - 1ms/step\n",
      "Epoch 139/200\n",
      "58440/58440 - 69s - loss: 0.1922 - f1_m: 0.9420 - val_loss: 0.1857 - val_f1_m: 0.9426 - lr: 1.0000e-05 - 69s/epoch - 1ms/step\n",
      "Epoch 140/200\n",
      "58440/58440 - 69s - loss: 0.1917 - f1_m: 0.9420 - val_loss: 0.1857 - val_f1_m: 0.9426 - lr: 1.0000e-05 - 69s/epoch - 1ms/step\n",
      "Epoch 141/200\n",
      "58440/58440 - 69s - loss: 0.1915 - f1_m: 0.9420 - val_loss: 0.1858 - val_f1_m: 0.9426 - lr: 1.0000e-05 - 69s/epoch - 1ms/step\n",
      "Epoch 142/200\n",
      "58440/58440 - 69s - loss: 0.1924 - f1_m: 0.9420 - val_loss: 0.1857 - val_f1_m: 0.9426 - lr: 1.0000e-05 - 69s/epoch - 1ms/step\n",
      "Epoch 143/200\n",
      "58440/58440 - 69s - loss: 0.1915 - f1_m: 0.9421 - val_loss: 0.1857 - val_f1_m: 0.9426 - lr: 1.0000e-05 - 69s/epoch - 1ms/step\n",
      "Epoch 144/200\n",
      "58440/58440 - 69s - loss: 0.1915 - f1_m: 0.9421 - val_loss: 0.1857 - val_f1_m: 0.9426 - lr: 1.0000e-05 - 69s/epoch - 1ms/step\n",
      "Epoch 145/200\n",
      "58440/58440 - 69s - loss: 0.1918 - f1_m: 0.9420 - val_loss: 0.1857 - val_f1_m: 0.9426 - lr: 1.0000e-05 - 69s/epoch - 1ms/step\n",
      "Epoch 146/200\n",
      "58440/58440 - 69s - loss: 0.1915 - f1_m: 0.9421 - val_loss: 0.1857 - val_f1_m: 0.9426 - lr: 1.0000e-05 - 69s/epoch - 1ms/step\n",
      "Epoch 147/200\n",
      "58440/58440 - 69s - loss: 0.1912 - f1_m: 0.9420 - val_loss: 0.1857 - val_f1_m: 0.9426 - lr: 1.0000e-05 - 69s/epoch - 1ms/step\n",
      "Epoch 148/200\n",
      "58440/58440 - 69s - loss: 0.1919 - f1_m: 0.9420 - val_loss: 0.1857 - val_f1_m: 0.9426 - lr: 1.0000e-05 - 69s/epoch - 1ms/step\n",
      "Epoch 149/200\n",
      "58440/58440 - 69s - loss: 0.1915 - f1_m: 0.9421 - val_loss: 0.1857 - val_f1_m: 0.9426 - lr: 1.0000e-05 - 69s/epoch - 1ms/step\n",
      "Epoch 150/200\n",
      "58440/58440 - 69s - loss: 0.1922 - f1_m: 0.9420 - val_loss: 0.1858 - val_f1_m: 0.9426 - lr: 1.0000e-05 - 69s/epoch - 1ms/step\n",
      "Epoch 151/200\n",
      "58440/58440 - 69s - loss: 0.1923 - f1_m: 0.9421 - val_loss: 0.1858 - val_f1_m: 0.9426 - lr: 1.0000e-05 - 69s/epoch - 1ms/step\n",
      "Epoch 152/200\n",
      "58440/58440 - 69s - loss: 0.1915 - f1_m: 0.9420 - val_loss: 0.1857 - val_f1_m: 0.9426 - lr: 1.0000e-05 - 69s/epoch - 1ms/step\n",
      "Epoch 153/200\n",
      "58440/58440 - 69s - loss: 0.1916 - f1_m: 0.9420 - val_loss: 0.1857 - val_f1_m: 0.9426 - lr: 1.0000e-05 - 69s/epoch - 1ms/step\n",
      "Epoch 154/200\n",
      "58440/58440 - 69s - loss: 0.1915 - f1_m: 0.9420 - val_loss: 0.1857 - val_f1_m: 0.9426 - lr: 1.0000e-05 - 69s/epoch - 1ms/step\n",
      "Epoch 155/200\n",
      "58440/58440 - 69s - loss: 0.1913 - f1_m: 0.9421 - val_loss: 0.1857 - val_f1_m: 0.9426 - lr: 1.0000e-05 - 69s/epoch - 1ms/step\n",
      "Epoch 156/200\n",
      "58440/58440 - 69s - loss: 0.1914 - f1_m: 0.9421 - val_loss: 0.1857 - val_f1_m: 0.9426 - lr: 1.0000e-05 - 69s/epoch - 1ms/step\n",
      "Epoch 157/200\n",
      "58440/58440 - 69s - loss: 0.1915 - f1_m: 0.9421 - val_loss: 0.1857 - val_f1_m: 0.9426 - lr: 1.0000e-05 - 69s/epoch - 1ms/step\n",
      "Epoch 158/200\n",
      "58440/58440 - 69s - loss: 0.1912 - f1_m: 0.9421 - val_loss: 0.1857 - val_f1_m: 0.9426 - lr: 1.0000e-05 - 69s/epoch - 1ms/step\n",
      "Epoch 159/200\n",
      "58440/58440 - 69s - loss: 0.1912 - f1_m: 0.9421 - val_loss: 0.1857 - val_f1_m: 0.9426 - lr: 1.0000e-05 - 69s/epoch - 1ms/step\n",
      "Epoch 160/200\n",
      "58440/58440 - 69s - loss: 0.1912 - f1_m: 0.9420 - val_loss: 0.1857 - val_f1_m: 0.9426 - lr: 1.0000e-05 - 69s/epoch - 1ms/step\n",
      "Epoch 161/200\n",
      "58440/58440 - 69s - loss: 0.1918 - f1_m: 0.9420 - val_loss: 0.1858 - val_f1_m: 0.9426 - lr: 1.0000e-05 - 69s/epoch - 1ms/step\n",
      "Epoch 162/200\n",
      "58440/58440 - 69s - loss: 0.1914 - f1_m: 0.9420 - val_loss: 0.1857 - val_f1_m: 0.9426 - lr: 1.0000e-05 - 69s/epoch - 1ms/step\n",
      "Epoch 163/200\n",
      "58440/58440 - 69s - loss: 0.1913 - f1_m: 0.9420 - val_loss: 0.1858 - val_f1_m: 0.9426 - lr: 1.0000e-05 - 69s/epoch - 1ms/step\n",
      "Epoch 164/200\n",
      "58440/58440 - 69s - loss: 0.1913 - f1_m: 0.9420 - val_loss: 0.1857 - val_f1_m: 0.9426 - lr: 1.0000e-05 - 69s/epoch - 1ms/step\n",
      "Epoch 165/200\n",
      "58440/58440 - 69s - loss: 0.1916 - f1_m: 0.9421 - val_loss: 0.1858 - val_f1_m: 0.9426 - lr: 1.0000e-05 - 69s/epoch - 1ms/step\n",
      "Epoch 166/200\n",
      "58440/58440 - 69s - loss: 0.1915 - f1_m: 0.9421 - val_loss: 0.1857 - val_f1_m: 0.9426 - lr: 1.0000e-05 - 69s/epoch - 1ms/step\n",
      "Epoch 167/200\n",
      "58440/58440 - 69s - loss: 0.1918 - f1_m: 0.9421 - val_loss: 0.1857 - val_f1_m: 0.9426 - lr: 1.0000e-05 - 69s/epoch - 1ms/step\n",
      "Epoch 168/200\n",
      "58440/58440 - 69s - loss: 0.1917 - f1_m: 0.9420 - val_loss: 0.1858 - val_f1_m: 0.9426 - lr: 1.0000e-05 - 69s/epoch - 1ms/step\n",
      "Epoch 169/200\n",
      "58440/58440 - 69s - loss: 0.1922 - f1_m: 0.9420 - val_loss: 0.1857 - val_f1_m: 0.9426 - lr: 1.0000e-05 - 69s/epoch - 1ms/step\n",
      "Epoch 170/200\n",
      "58440/58440 - 69s - loss: 0.1919 - f1_m: 0.9420 - val_loss: 0.1857 - val_f1_m: 0.9426 - lr: 1.0000e-05 - 69s/epoch - 1ms/step\n",
      "Epoch 171/200\n",
      "58440/58440 - 69s - loss: 0.1915 - f1_m: 0.9421 - val_loss: 0.1857 - val_f1_m: 0.9426 - lr: 1.0000e-05 - 69s/epoch - 1ms/step\n",
      "Epoch 172/200\n",
      "58440/58440 - 69s - loss: 0.1911 - f1_m: 0.9421 - val_loss: 0.1857 - val_f1_m: 0.9426 - lr: 1.0000e-05 - 69s/epoch - 1ms/step\n",
      "Epoch 173/200\n",
      "58440/58440 - 69s - loss: 0.1915 - f1_m: 0.9420 - val_loss: 0.1857 - val_f1_m: 0.9426 - lr: 1.0000e-05 - 69s/epoch - 1ms/step\n",
      "Epoch 174/200\n",
      "58440/58440 - 69s - loss: 0.1911 - f1_m: 0.9421 - val_loss: 0.1857 - val_f1_m: 0.9426 - lr: 1.0000e-05 - 69s/epoch - 1ms/step\n"
     ]
    },
    {
     "name": "stdout",
     "output_type": "stream",
     "text": [
      "Epoch 175/200\n",
      "58440/58440 - 69s - loss: 0.1912 - f1_m: 0.9421 - val_loss: 0.1858 - val_f1_m: 0.9426 - lr: 1.0000e-05 - 69s/epoch - 1ms/step\n",
      "Epoch 176/200\n",
      "58440/58440 - 69s - loss: 0.1921 - f1_m: 0.9421 - val_loss: 0.1858 - val_f1_m: 0.9426 - lr: 1.0000e-05 - 69s/epoch - 1ms/step\n",
      "Epoch 177/200\n",
      "58440/58440 - 69s - loss: 0.1918 - f1_m: 0.9421 - val_loss: 0.1858 - val_f1_m: 0.9426 - lr: 1.0000e-05 - 69s/epoch - 1ms/step\n",
      "Epoch 178/200\n",
      "58440/58440 - 69s - loss: 0.1914 - f1_m: 0.9420 - val_loss: 0.1857 - val_f1_m: 0.9426 - lr: 1.0000e-05 - 69s/epoch - 1ms/step\n",
      "Epoch 179/200\n",
      "58440/58440 - 69s - loss: 0.1912 - f1_m: 0.9420 - val_loss: 0.1857 - val_f1_m: 0.9426 - lr: 1.0000e-05 - 69s/epoch - 1ms/step\n",
      "Epoch 180/200\n",
      "58440/58440 - 69s - loss: 0.1925 - f1_m: 0.9420 - val_loss: 0.1857 - val_f1_m: 0.9426 - lr: 1.0000e-05 - 69s/epoch - 1ms/step\n",
      "Epoch 181/200\n",
      "58440/58440 - 69s - loss: 0.1919 - f1_m: 0.9420 - val_loss: 0.1858 - val_f1_m: 0.9426 - lr: 1.0000e-05 - 69s/epoch - 1ms/step\n",
      "Epoch 182/200\n",
      "58440/58440 - 69s - loss: 0.1922 - f1_m: 0.9421 - val_loss: 0.1857 - val_f1_m: 0.9426 - lr: 1.0000e-05 - 69s/epoch - 1ms/step\n",
      "Epoch 183/200\n",
      "58440/58440 - 69s - loss: 0.1918 - f1_m: 0.9420 - val_loss: 0.1857 - val_f1_m: 0.9426 - lr: 1.0000e-05 - 69s/epoch - 1ms/step\n",
      "Epoch 184/200\n",
      "58440/58440 - 69s - loss: 0.1912 - f1_m: 0.9420 - val_loss: 0.1857 - val_f1_m: 0.9426 - lr: 1.0000e-05 - 69s/epoch - 1ms/step\n",
      "Epoch 185/200\n",
      "58440/58440 - 69s - loss: 0.1916 - f1_m: 0.9421 - val_loss: 0.1857 - val_f1_m: 0.9426 - lr: 1.0000e-05 - 69s/epoch - 1ms/step\n",
      "Epoch 186/200\n",
      "58440/58440 - 69s - loss: 0.1920 - f1_m: 0.9420 - val_loss: 0.1857 - val_f1_m: 0.9426 - lr: 1.0000e-05 - 69s/epoch - 1ms/step\n",
      "Epoch 187/200\n",
      "58440/58440 - 69s - loss: 0.1912 - f1_m: 0.9421 - val_loss: 0.1857 - val_f1_m: 0.9426 - lr: 1.0000e-05 - 69s/epoch - 1ms/step\n",
      "Epoch 188/200\n",
      "58440/58440 - 69s - loss: 0.1918 - f1_m: 0.9421 - val_loss: 0.1857 - val_f1_m: 0.9426 - lr: 1.0000e-05 - 69s/epoch - 1ms/step\n",
      "Epoch 189/200\n",
      "58440/58440 - 69s - loss: 0.1920 - f1_m: 0.9421 - val_loss: 0.1858 - val_f1_m: 0.9426 - lr: 1.0000e-05 - 69s/epoch - 1ms/step\n",
      "Epoch 190/200\n",
      "58440/58440 - 69s - loss: 0.1912 - f1_m: 0.9420 - val_loss: 0.1857 - val_f1_m: 0.9426 - lr: 1.0000e-05 - 69s/epoch - 1ms/step\n",
      "Epoch 191/200\n",
      "58440/58440 - 69s - loss: 0.1914 - f1_m: 0.9420 - val_loss: 0.1858 - val_f1_m: 0.9426 - lr: 1.0000e-05 - 69s/epoch - 1ms/step\n",
      "Epoch 192/200\n",
      "58440/58440 - 69s - loss: 0.1911 - f1_m: 0.9421 - val_loss: 0.1857 - val_f1_m: 0.9426 - lr: 1.0000e-05 - 69s/epoch - 1ms/step\n",
      "Epoch 193/200\n",
      "58440/58440 - 69s - loss: 0.1916 - f1_m: 0.9420 - val_loss: 0.1857 - val_f1_m: 0.9426 - lr: 1.0000e-05 - 69s/epoch - 1ms/step\n",
      "Epoch 194/200\n",
      "58440/58440 - 69s - loss: 0.1919 - f1_m: 0.9421 - val_loss: 0.1857 - val_f1_m: 0.9426 - lr: 1.0000e-05 - 69s/epoch - 1ms/step\n",
      "Epoch 195/200\n",
      "58440/58440 - 69s - loss: 0.1920 - f1_m: 0.9421 - val_loss: 0.1858 - val_f1_m: 0.9426 - lr: 1.0000e-05 - 69s/epoch - 1ms/step\n",
      "Epoch 196/200\n",
      "58440/58440 - 69s - loss: 0.1912 - f1_m: 0.9421 - val_loss: 0.1858 - val_f1_m: 0.9426 - lr: 1.0000e-05 - 69s/epoch - 1ms/step\n",
      "Epoch 197/200\n",
      "58440/58440 - 69s - loss: 0.1920 - f1_m: 0.9421 - val_loss: 0.1857 - val_f1_m: 0.9426 - lr: 1.0000e-05 - 69s/epoch - 1ms/step\n",
      "Epoch 198/200\n",
      "58440/58440 - 69s - loss: 0.1911 - f1_m: 0.9420 - val_loss: 0.1857 - val_f1_m: 0.9426 - lr: 1.0000e-05 - 69s/epoch - 1ms/step\n",
      "Epoch 199/200\n",
      "58440/58440 - 69s - loss: 0.1913 - f1_m: 0.9421 - val_loss: 0.1857 - val_f1_m: 0.9426 - lr: 1.0000e-05 - 69s/epoch - 1ms/step\n",
      "Epoch 200/200\n",
      "58440/58440 - 69s - loss: 0.1913 - f1_m: 0.9421 - val_loss: 0.1857 - val_f1_m: 0.9426 - lr: 1.0000e-05 - 69s/epoch - 1ms/step\n"
     ]
    },
    {
     "data": {
      "text/plain": [
       "<keras.callbacks.History at 0x7f37b5281d60>"
      ]
     },
     "execution_count": 28,
     "metadata": {},
     "output_type": "execute_result"
    }
   ],
   "source": [
    "from tensorflow.keras.models import Sequential\n",
    "from tensorflow.keras.layers import Dense, Dropout, Activation\n",
    "from tensorflow.keras.callbacks import EarlyStopping, ReduceLROnPlateau\n",
    "\n",
    "# Neural Network Model\n",
    "model = Sequential()\n",
    "model.add(Dense(50, input_dim = x.shape[1], activation = 'relu')) # Hidden 1\n",
    "model.add(Dropout(0.5))\n",
    "model.add(Dense(25, activation = 'relu')) # Hidden 2\n",
    "model.add(Dropout(0.5))\n",
    "model.add(Dense(y.shape[1], activation = 'softmax')) # Output\n",
    "model.compile(loss = 'categorical_crossentropy', optimizer = 'adam', metrics = [f1_m])\n",
    "\n",
    "# Early Stopping\n",
    "monitor = EarlyStopping(\n",
    "    monitor = 'val_loss', \n",
    "    min_delta = 1e-3, patience = 10, \n",
    "    verbose = 1, mode = 'auto', \n",
    "    restore_best_weights = True\n",
    ")\n",
    "\n",
    "# Reduce On Plateau\n",
    "reduce = ReduceLROnPlateau(\n",
    "    monitor = 'val_loss',\n",
    "    factor = 0.5,\n",
    "    patience = 10,\n",
    "    verbose = 1,\n",
    "    mode = 'auto',\n",
    "    min_lr = 1e-5\n",
    ")\n",
    "\n",
    "# Model\n",
    "model.fit(\n",
    "    x_train, \n",
    "    y_train, \n",
    "    validation_data = (x_test, y_test), \n",
    "    callbacks = [reduce],\n",
    "    verbose = 2,\n",
    "    epochs = 200\n",
    ")"
   ]
  },
  {
   "cell_type": "code",
   "execution_count": 29,
   "id": "30edeeb1",
   "metadata": {},
   "outputs": [
    {
     "name": "stdout",
     "output_type": "stream",
     "text": [
      "Model: \"sequential\"\n",
      "_________________________________________________________________\n",
      " Layer (type)                Output Shape              Param #   \n",
      "=================================================================\n",
      " dense (Dense)               (None, 50)                1650      \n",
      "                                                                 \n",
      " dropout (Dropout)           (None, 50)                0         \n",
      "                                                                 \n",
      " dense_1 (Dense)             (None, 25)                1275      \n",
      "                                                                 \n",
      " dropout_1 (Dropout)         (None, 25)                0         \n",
      "                                                                 \n",
      " dense_2 (Dense)             (None, 3)                 78        \n",
      "                                                                 \n",
      "=================================================================\n",
      "Total params: 3,003\n",
      "Trainable params: 3,003\n",
      "Non-trainable params: 0\n",
      "_________________________________________________________________\n"
     ]
    }
   ],
   "source": [
    "# Output of hyperparameters stats used in model\n",
    "model.summary()"
   ]
  },
  {
   "cell_type": "code",
   "execution_count": 30,
   "id": "385ab518",
   "metadata": {},
   "outputs": [
    {
     "name": "stdout",
     "output_type": "stream",
     "text": [
      "19480/19480 [==============================] - 18s 916us/step\n"
     ]
    }
   ],
   "source": [
    "# Prediction\n",
    "pred = model.predict(x_test)"
   ]
  },
  {
   "cell_type": "code",
   "execution_count": 31,
   "id": "d7a5bab2",
   "metadata": {},
   "outputs": [
    {
     "name": "stdout",
     "output_type": "stream",
     "text": [
      "Accuracy: 0.9426039499288525\n",
      "Recall: 0.9426039499288525\n",
      "Precision: 0.9516314426097808\n",
      "F1Score: 0.9435916660232597\n"
     ]
    }
   ],
   "source": [
    "from sklearn import metrics\n",
    "\n",
    "# Metrics for the classification\n",
    "def compute_metrics(pred, y_test):\n",
    "    predict_classes = np.argmax(pred, axis = 1)\n",
    "    expected_classes = np.argmax(y_test, axis = 1)\n",
    "    \n",
    "    correct = metrics.accuracy_score(expected_classes, predict_classes)\n",
    "    print(f\"Accuracy: {correct}\")\n",
    "    \n",
    "    recall = metrics.recall_score(expected_classes, predict_classes, average = 'weighted')    \n",
    "    print(f\"Recall: {recall}\")\n",
    "       \n",
    "    precision = metrics.precision_score(expected_classes, predict_classes, average = 'weighted')\n",
    "    print(f\"Precision: {precision}\")\n",
    "    \n",
    "    f1score = metrics.f1_score(expected_classes, predict_classes, average = 'weighted')\n",
    "    print(f\"F1Score: {f1score}\")\n",
    "    \n",
    "compute_metrics(pred, y_test)"
   ]
  },
  {
   "cell_type": "code",
   "execution_count": 32,
   "id": "e45d7034",
   "metadata": {},
   "outputs": [
    {
     "data": {
      "text/plain": [
       "<sklearn.metrics._plot.confusion_matrix.ConfusionMatrixDisplay at 0x7f37af6156d0>"
      ]
     },
     "execution_count": 32,
     "metadata": {},
     "output_type": "execute_result"
    },
    {
     "data": {
      "image/png": "[encoded data removed]",
      "text/plain": [
       "<Figure size 600x600 with 2 Axes>"
      ]
     },
     "metadata": {},
     "output_type": "display_data"
    }
   ],
   "source": [
    "import matplotlib.pyplot as plt\n",
    "from sklearn.metrics import confusion_matrix, ConfusionMatrixDisplay\n",
    "\n",
    "# Confusion Matrix\n",
    "predict_classes = np.argmax(pred, axis = 1)\n",
    "expected_classes = np.argmax(y_test, axis = 1)    \n",
    "    \n",
    "cm = confusion_matrix(expected_classes, predict_classes)\n",
    "cmd = ConfusionMatrixDisplay(cm)\n",
    "\n",
    "# Plot size\n",
    "fig, ax = plt.subplots(figsize = (6, 6))\n",
    "\n",
    "cmd.plot(ax = ax)"
   ]
  },
  {
   "cell_type": "code",
   "execution_count": 33,
   "id": "78d5e473",
   "metadata": {},
   "outputs": [
    {
     "name": "stdout",
     "output_type": "stream",
     "text": [
      "[DONE] Extra Trees Classifier\n"
     ]
    }
   ],
   "source": [
    "from sklearn.ensemble import ExtraTreesClassifier\n",
    "\n",
    "# Usage of ExtraTreesClassifier for feature selection\n",
    "extra_tree_forest = ExtraTreesClassifier(n_estimators = 5, criterion ='entropy', max_features = 2)\n",
    "extra_tree_forest.fit(x, y)\n",
    "feature_importance = extra_tree_forest.feature_importances_\n",
    "feature_importance_normalized = np.std([tree.feature_importances_ for tree in  extra_tree_forest.estimators_], axis = 0)\n",
    "\n",
    "print(f'[DONE] Extra Trees Classifier')"
   ]
  },
  {
   "cell_type": "code",
   "execution_count": 35,
   "id": "d9059501",
   "metadata": {},
   "outputs": [
    {
     "data": {
      "image/png": "[encoded data removed]",
      "text/plain": [
       "<Figure size 6000x4000 with 1 Axes>"
      ]
     },
     "metadata": {},
     "output_type": "display_data"
    }
   ],
   "source": [
    "import matplotlib.pyplot as plot\n",
    "\n",
    "# Plor for the ExtraTreesClassifier output\n",
    "plot.bar(x_columns, feature_importance_normalized)\n",
    "plot.xlabel('Feature Labels')\n",
    "plot.ylabel('Feature Importances')\n",
    "plot.title('Comparison of different feature importances in the current dataset')\n",
    "plot.xticks(rotation = 90)\n",
    "\n",
    "# Plot size\n",
    "plot.rcParams[\"figure.figsize\"] = (60, 40)\n",
    "\n",
    "plot.show()"
   ]
  },
  {
   "cell_type": "code",
   "execution_count": null,
   "id": "c39a9537",
   "metadata": {},
   "outputs": [],
   "source": []
  }
 ],
 "metadata": {
  "kernelspec": {
   "display_name": "Python 3 (ipykernel)",
   "language": "python",
   "name": "python3"
  },
  "language_info": {
   "codemirror_mode": {
    "name": "ipython",
    "version": 3
   },
   "file_extension": ".py",
   "mimetype": "text/x-python",
   "name": "python",
   "nbconvert_exporter": "python",
   "pygments_lexer": "ipython3",
   "version": "3.9.2"
  }
 },
 "nbformat": 4,
 "nbformat_minor": 5
}
